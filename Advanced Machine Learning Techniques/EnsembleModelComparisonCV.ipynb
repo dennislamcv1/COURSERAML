{
 "cells": [
  {
   "cell_type": "markdown",
   "id": "6f87292d",
   "metadata": {},
   "source": [
    "# 👩‍💻 Comparing Ensemble Models with Cross-Validation\n",
    "\n",
    "## 📋 Overview\n",
    "In this lab, you will apply cross-validation—a powerful method in your machine learning toolkit—to evaluate and compare the performance of different ensemble models. Understanding how cross-validation allows for a fair, comprehensive assessment of models' performances across different data configurations will provide you with insights into their reliability and generalizability. This exercise involves hands-on practice with the Medical Insurance Dataset, where you will implement cross-validation to compare two popular ensemble models: Random Forest and Gradient Boosting.\n",
    "\n",
    "## 🎯 Learning Outcomes\n",
    "By the end of this lab, you will be able to:\n",
    "\n",
    "- ✅ Implement cross-validation to evaluate model performance\n",
    "- ✅ Compare multiple ensemble models using performance metrics\n",
    "- ✅ Gain insights into model robustness and generalizability"
   ]
  },
  {
   "cell_type": "markdown",
   "id": "7551fe82",
   "metadata": {},
   "source": [
    "## Task 1: Prepare the Dataset\n",
    "\n",
    "**Context**: Properly loading and preprocessing the dataset is essential before applying any machine learning models.\n",
    "\n",
    "**Steps:**\n",
    "\n",
    "1. Perform necessary preprocessing steps such as handling missing values or encoding categorical features."
   ]
  },
  {
   "cell_type": "code",
   "execution_count": null,
   "id": "06226683",
   "metadata": {},
   "outputs": [],
   "source": [
    "# Required Imports\n",
    "import numpy as np\n",
    "import pandas as pd\n",
    "from sklearn.model_selection import train_test_split, cross_val_score, KFold\n",
    "from sklearn.ensemble import RandomForestRegressor, GradientBoostingRegressor\n",
    "from sklearn.datasets import fetch_openml\n",
    "\n",
    "# Load the dataset\n",
    "dataset = fetch_openml(data_id=45064)  # Medical Insurance Dataset\n",
    "X, y = dataset.data, dataset.target\n",
    "\n",
    "# Task 1: Prepare the Dataset\n",
    "# your code here..."
   ]
  },
  {
   "cell_type": "markdown",
   "id": "ca12a313",
   "metadata": {},
   "source": [
    "💡 **Tip:** Use `pd.get_dummies()` for encoding categorical variables.\n",
    "\n",
    "⚙️ **Test Your Work:**\n",
    "- Display the first 5 rows of the dataset.\n",
    "\n",
    "**Expected output:** A preview of the data with encoded categorical features as necessary."
   ]
  },
  {
   "cell_type": "markdown",
   "id": "c01e5128",
   "metadata": {},
   "source": [
    "## Task 2: Define Ensemble Models\n",
    "\n",
    "**Context:** Defining multiple ensemble models provides diverse perspectives for evaluation.\n",
    "\n",
    "**Steps:**\n",
    "\n",
    "1. Initialize a `RandomForestRegressor`.\n",
    "2. Initialize a `GradientBoostingRegressor`."
   ]
  },
  {
   "cell_type": "code",
   "execution_count": null,
   "id": "0f0e4d52",
   "metadata": {},
   "outputs": [],
   "source": [
    "# Task 2: Define Ensemble Methods"
   ]
  },
  {
   "cell_type": "markdown",
   "id": "4171964c",
   "metadata": {},
   "source": [
    "💡 **Tip:** Use appropriate parameters like `n_estimators` and `random_state`.\n",
    "\n",
    "⚙️ **Test Your Work:**\n",
    "- Print the model configurations for `RandomForestRegressor` and `GradientBoostingRegressor`.\n",
    "\n",
    "**Expected output:** Configuration details of both models."
   ]
  },
  {
   "cell_type": "markdown",
   "id": "7065da14",
   "metadata": {},
   "source": [
    "## Task 3: Set up Cross-Validation\n",
    "\n",
    "**Context:** Setting up cross-validation is crucial for assessing model performance across multiple data segments.\n",
    "\n",
    "**Steps:**\n",
    "\n",
    "1. Use k-fold cross-validation with `k=5`."
   ]
  },
  {
   "cell_type": "code",
   "execution_count": null,
   "id": "0ab707d0",
   "metadata": {},
   "outputs": [],
   "source": [
    "# Task 3: Set up Cross-Validation"
   ]
  },
  {
   "cell_type": "markdown",
   "id": "183e8223",
   "metadata": {},
   "source": [
    "💡 **Tip:** Use `KFold` with `n_splits=5`, `shuffle=True`, and `random_state` for reproducibility.\n",
    "\n",
    "⚙️ **Test Your Work:**\n",
    "- Print the k-fold cross-validation object configuration.\n",
    "\n",
    "\n",
    "**Expected output:** Configuration of the k-fold cross-validation."
   ]
  },
  {
   "cell_type": "markdown",
   "id": "48222808",
   "metadata": {},
   "source": [
    "## Task 4: Evaluate Models with Cross-Validation\n",
    "\n",
    "**Context:** Evaluating models with cross-validation provides a comprehensive assessment of their performance.\n",
    "\n",
    "**Steps:**\n",
    "\n",
    "1. Perform cross-validation for the `RandomForestRegressor`.\n",
    "2. Perform cross-validation for the `GradientBoostingRegressor`.\n",
    "\n",
    "💡 **Tip:** Use `cross_val_score` with `scoring='neg_mean_squared_error`'."
   ]
  },
  {
   "cell_type": "code",
   "execution_count": null,
   "id": "345abd2f",
   "metadata": {},
   "outputs": [],
   "source": [
    "# Task 4: Evaluate Models with Cross-Validation"
   ]
  },
  {
   "cell_type": "markdown",
   "id": "07a0d653",
   "metadata": {},
   "source": [
    "⚙️ **Test Your Work:**\n",
    "- Print the cross-validation scores for both models.\n",
    "\n",
    "**Expected output:** Cross-validation scores (mean squared error) for both models."
   ]
  },
  {
   "cell_type": "markdown",
   "id": "e006432a",
   "metadata": {},
   "source": [
    "## Task 5: Interpret the Results\n",
    "\n",
    "**Context:** Interpreting the results helps in understanding model performance and reliability.\n",
    "\n",
    "**Steps:**\n",
    "\n",
    "1. Compare the cross-validation results of the two models."
   ]
  },
  {
   "cell_type": "code",
   "execution_count": null,
   "id": "a6490b4b",
   "metadata": {},
   "outputs": [],
   "source": [
    "# Task 5: Interpret the Results"
   ]
  },
  {
   "cell_type": "markdown",
   "id": "56c24dab",
   "metadata": {},
   "source": [
    "💡 **Tip:** Use `numpy` to calculate mean and standard deviation of the cross-validation scores.\n",
    "\n",
    "⚙️ **Test Your Work:**\n",
    "- Print the mean and standard deviation of the cross-validation scores for both models.\n",
    "\n",
    "**Expected output:** Mean and standard deviation of the cross-validation scores for both models."
   ]
  },
  {
   "cell_type": "markdown",
   "id": "b1c7feda",
   "metadata": {},
   "source": [
    "### ✅ Success Checklist\n",
    "\n",
    "- Successfully loaded and prepared the dataset\n",
    "- Defined and configured the RandomForestRegressor and GradientBoostingRegressor\n",
    "- Set up k-fold cross-validation\n",
    "- Evaluated models using cross-validation\n",
    "- Compared and interpreted the cross-validation results\n",
    "- Documented reflections and insights\n",
    "\n",
    "### 🔍 Common Issues & Solutions\n",
    "\n",
    "**Problem:** Dataset not loading.   \n",
    "**Solution:** Ensure the dataset ID is correct and retry.\n",
    "\n",
    "**Problem:** Preprocessing errors.   \n",
    "**Solution:** Verify the preprocessing steps and ensure they are correctly implemented.\n",
    "\n",
    "**Problem:** Cross-validation errors.   \n",
    "**Solution:** Double-check the k-fold cross-validation setup and scoring parameter.\n",
    "\n",
    "### 🔑 Key Points\n",
    "\n",
    "- Cross-validation provides a comprehensive evaluation of model performance.\n",
    "- Comparing multiple models helps identify the best-performing one.\n",
    "- Reflection on results provides deeper insights into model robustness and generalizability."
   ]
  },
  {
   "cell_type": "markdown",
   "id": "a6596be2",
   "metadata": {},
   "source": [
    "## 💻 Exemplar Solution"
   ]
  },
  {
   "cell_type": "markdown",
   "id": "9da3c0e8",
   "metadata": {},
   "source": [
    "<details>    \n",
    "<summary><strong>Click HERE to see an exemplar solution</strong></summary>    \n",
    "\n",
    "```python\n",
    "# Required Imports\n",
    "import numpy as np\n",
    "import pandas as pd\n",
    "from sklearn.model_selection import train_test_split, cross_val_score, KFold\n",
    "from sklearn.ensemble import RandomForestRegressor, GradientBoostingRegressor\n",
    "from sklearn.datasets import fetch_openml\n",
    "\n",
    "# Load the dataset\n",
    "dataset = fetch_openml(data_id=45064)  # Medical Insurance Dataset\n",
    "X, y = dataset.data, dataset.target\n",
    "\n",
    "# Preprocessing (e.g., one-hot encode categorical variables if any exist)\n",
    "X = pd.get_dummies(X)\n",
    "\n",
    "# Split the data\n",
    "X_train, X_test, y_train, y_test = train_test_split(X, y, test_size=0.2, random_state=42)\n",
    "\n",
    "# Initialize models\n",
    "rf_model = RandomForestRegressor(n_estimators=100, random_state=42)\n",
    "gb_model = GradientBoostingRegressor(n_estimators=100, learning_rate=0.1, random_state=42)\n",
    "\n",
    "# Setup k-fold cross-validation\n",
    "kf = KFold(n_splits=5, shuffle=True, random_state=42)\n",
    "\n",
    "# Perform cross-validation\n",
    "rf_scores = cross_val_score(rf_model, X_train, y_train, cv=kf, scoring='neg_mean_squared_error')\n",
    "gb_scores = cross_val_score(gb_model, X_train, y_train, cv=kf, scoring='neg_mean_squared_error')\n",
    "\n",
    "print(f\"Random Forest CV MSE: {-np.mean(rf_scores):.2f} ± {np.std(rf_scores):.2f}\")\n",
    "print(f\"Gradient Boosting CV MSE: {-np.mean(gb_scores):.2f} ± {np.std(gb_scores):.2f}\")\n",
    "```"
   ]
  }
 ],
 "metadata": {
  "kernelspec": {
   "display_name": "Python 3 (ipykernel)",
   "language": "python",
   "name": "python3"
  },
  "language_info": {
   "codemirror_mode": {
    "name": "ipython",
    "version": 3
   },
   "file_extension": ".py",
   "mimetype": "text/x-python",
   "name": "python",
   "nbconvert_exporter": "python",
   "pygments_lexer": "ipython3",
   "version": "3.10.6"
  }
 },
 "nbformat": 4,
 "nbformat_minor": 5
}
