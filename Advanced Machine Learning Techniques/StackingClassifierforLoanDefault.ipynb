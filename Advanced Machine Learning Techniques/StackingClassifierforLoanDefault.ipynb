{
 "cells": [
  {
   "cell_type": "markdown",
   "id": "4c69569b",
   "metadata": {},
   "source": [
    "# 👩‍💻 Building and Evaluating a StackingClassifier on Loan Default Data\n",
    "\n",
    "## 📋 Overview\n",
    "In this activity, you will put your machine learning skills to the test by creating a stacked ensemble model to predict loan defaults using a dataset from Lending Club. Stacking allows you to leverage multiple algorithms to improve predictive accuracy, an essential skill in a world where financial institutions rely on robust models to manage risk and maximize profitability. By the end of this lab, you will be proficient in constructing and assessing a stacking model using the `StackingClassifier`.\n",
    "\n",
    "## 🎯 Learning Outcomes\n",
    "By the end of this lab, you will be able to:\n",
    "\n",
    "- ✅ Construct a stacked ensemble model using multiple base models and a meta-model\n",
    "- ✅ Evaluate the performance of the stacking model using various classification metrics\n",
    "- ✅ Reflect on model selection and explore techniques for improving predictive performance"
   ]
  },
  {
   "cell_type": "markdown",
   "id": "7efe3b12",
   "metadata": {},
   "source": [
    "## Task 1: Data Exploration and Preparation\n",
    "\n",
    "**Context:** Understanding the dataset and ensuring it is clean is the first critical step.\n",
    "\n",
    "**Steps:**\n",
    "\n",
    "1. Load the Lending Club Loan Dataset from the provided CSV file.\n",
    "2. Conduct exploratory data analysis (EDA) including:\n",
    "    - Displaying summary statistics\n",
    "    - Checking for missing values\n",
    "    - Identifying categorical features"
   ]
  },
  {
   "cell_type": "code",
   "execution_count": null,
   "id": "6aee5091",
   "metadata": {},
   "outputs": [],
   "source": [
    "# Task 1: Data Exploration and Preparation\n",
    "# Required Imports\n",
    "import pandas as pd\n",
    "from sklearn.model_selection import train_test_split\n",
    "from sklearn.preprocessing import StandardScaler, LabelEncoder\n",
    "from sklearn.ensemble import StackingClassifier\n",
    "from sklearn.linear_model import LogisticRegression\n",
    "from sklearn.tree import DecisionTreeClassifier\n",
    "from sklearn.svm import SVC\n",
    "from sklearn.metrics import classification_report\n",
    "\n",
    "# Load Data\n",
    "df = pd.read_csv('lending_club_loan_data.csv')\n",
    "\n",
    "# EDA\n",
    "# your code here..."
   ]
  },
  {
   "cell_type": "markdown",
   "id": "d84d0cd1",
   "metadata": {},
   "source": [
    "💡 **Tip:** Use `pd.read_csv()` to load the data, and `df.describe()` to get summary statistics.\n",
    "\n",
    "⚙️ **Test Your Work:**\n",
    "\n",
    "- Display the first 5 rows of the dataset.\n",
    "\n",
    "**Expected output:** A preview of the data with columns such as 'loan_amnt', 'term', 'int_rate', etc."
   ]
  },
  {
   "cell_type": "markdown",
   "id": "f1b616cb",
   "metadata": {},
   "source": [
    "## Task 2: Split the Data\n",
    "\n",
    "**Context:** Splitting the data allows for an unbiased evaluation of the model.\n",
    "\n",
    "**Steps:**\n",
    "\n",
    "1. Divide the dataset into training and testing sets with an 80-20 split."
   ]
  },
  {
   "cell_type": "code",
   "execution_count": null,
   "id": "10e24d79",
   "metadata": {},
   "outputs": [],
   "source": [
    "# Task 2: Split the Data"
   ]
  },
  {
   "cell_type": "markdown",
   "id": "d05fd7b2",
   "metadata": {},
   "source": [
    "💡 **Tip:** Use `train_test_split` with a `test_size` of 0.2 and a `random_state` for reproducibility.\n",
    "\n",
    "⚙️ **Test Your Work:**\n",
    "\n",
    "- Print the shapes of the training and testing sets.\n",
    "\n",
    "**Expected output:** Shapes that reflect the 80-20 split."
   ]
  },
  {
   "cell_type": "markdown",
   "id": "85dfc5c9",
   "metadata": {},
   "source": [
    "## Task 3: Define Base Models\n",
    "\n",
    "**Context:** Base models capture different patterns within the dataset, enhancing the final model's performance.\n",
    "\n",
    "**Steps:**\n",
    "\n",
    "1. Choose a set of diverse base models such as Decision Tree, Support Vector Machine, and Logistic Regression."
   ]
  },
  {
   "cell_type": "code",
   "execution_count": null,
   "id": "e63b85ad",
   "metadata": {},
   "outputs": [],
   "source": [
    "# Task 3: Define Base Models"
   ]
  },
  {
   "cell_type": "markdown",
   "id": "f1d5d74c",
   "metadata": {},
   "source": [
    "💡 **Tip:** Ensure each model is instantiated with appropriate parameters.\n",
    "\n",
    "⚙️ **Test Your Work:**\n",
    "\n",
    "- Print the base models' configurations.\n",
    "\n",
    "**Expected output:** Configurations of the base models being used in the stack."
   ]
  },
  {
   "cell_type": "markdown",
   "id": "8bc49c07",
   "metadata": {},
   "source": [
    "## Task 4: Build the Stacking Model\n",
    "\n",
    "**Context:** Combining base models and a meta-model leads to a more robust predictive model.\n",
    "\n",
    "**Steps:**\n",
    "1. Construct a `StackingClassifier` using the defined base models.\n",
    "2. Select a meta-model, typically a simpler model such as Logistic Regression."
   ]
  },
  {
   "cell_type": "code",
   "execution_count": null,
   "id": "17f13b9b",
   "metadata": {},
   "outputs": [],
   "source": [
    "# Task 4: Build the Stacking Model"
   ]
  },
  {
   "cell_type": "markdown",
   "id": "855c1e94",
   "metadata": {},
   "source": [
    "💡 **Tip:** Use `estimators` parameter for base models and `final_estimator` for the meta-model.\n",
    "\n",
    "⚙️ **Test Your Work:**\n",
    "\n",
    "- Print the `StackingClassifier` configuration.\n",
    "\n",
    "**Expected output:** The configuration detailing the base models and the meta-model."
   ]
  },
  {
   "cell_type": "markdown",
   "id": "56a4ae25",
   "metadata": {},
   "source": [
    "## Task 5: Train and Evaluate the Model\n",
    "\n",
    "**Context:** Fitting the model to the training data and evaluating its performance is essential.\n",
    "\n",
    "**Steps:**\n",
    "\n",
    "1. Fit the StackingClassifier to the training data using fit.\n",
    "2. Evaluate the model using metrics such as accuracy, precision, recall, and F1 score."
   ]
  },
  {
   "cell_type": "code",
   "execution_count": null,
   "id": "5a199c68",
   "metadata": {},
   "outputs": [],
   "source": [
    "# Task 5: Train and Evaluate the Model"
   ]
  },
  {
   "cell_type": "markdown",
   "id": "ce528d35",
   "metadata": {},
   "source": [
    "💡 **Tip:** Use `classification_report` to get detailed performance metrics.\n",
    "\n",
    "⚙️ **Test Your Work:**\n",
    "\n",
    "- Print the classification report for the stacking model’s predictions.\n",
    "\n",
    "**Expected output:** Metrics including accuracy, precision, recall, and F1 score."
   ]
  },
  {
   "cell_type": "markdown",
   "id": "05fe5cde",
   "metadata": {},
   "source": [
    "### ✅ Success Checklist\n",
    "\n",
    "- Successfully explored and prepared the dataset\n",
    "- Split the data into training and testing sets\n",
    "- Defined and configured diverse base models\n",
    "- Constructed and configured the stacking model\n",
    "- Trained and evaluated the stacking model\n",
    "- Reflected on the model selection and potential improvements\n",
    "\n",
    "### 🔍 Common Issues & Solutions\n",
    "\n",
    "**Problem:** Data leakage during preprocessing.Dataset file not found.   \n",
    "**Solution:** Ensure the dataset file is in the correct folder.\n",
    "\n",
    "**Problem:** Categorical encoding errors.   \n",
    "**Solution:** Double-check the columns being encoded.\n",
    "\n",
    "**Problem:** Model training errors.   \n",
    "**Solution:** Verify that data preprocessing steps were correctly applied.\n",
    "\n",
    "### 🔑 Key Points\n",
    "\n",
    "- Stacking allows leveraging multiple algorithms for better predictive performance.\n",
    "- Proper data preprocessing is essential for model accuracy.\n",
    "- Evaluating model metrics helps understand and improve model performance."
   ]
  },
  {
   "cell_type": "markdown",
   "id": "131d210a",
   "metadata": {},
   "source": [
    "## 💻 Exemplar Solution"
   ]
  },
  {
   "cell_type": "markdown",
   "id": "4b82142a",
   "metadata": {},
   "source": [
    "<details>    \n",
    "<summary><strong>Click HERE to see an exemplar solution</strong></summary>    \n",
    "\n",
    "```python\n",
    "import pandas as pd\n",
    "from sklearn.model_selection import train_test_split\n",
    "from sklearn.preprocessing import StandardScaler, LabelEncoder\n",
    "from sklearn.ensemble import StackingClassifier, RandomForestClassifier\n",
    "from sklearn.linear_model import LogisticRegression\n",
    "from sklearn.tree import DecisionTreeClassifier\n",
    "from sklearn.svm import SVC\n",
    "from sklearn.metrics import classification_report\n",
    "\n",
    "# Load Data\n",
    "df = pd.read_csv('lending_club_loan_data.csv')\n",
    "\n",
    "# Data preprocessing\n",
    "print(df.describe())\n",
    "print(df.dtypes)\n",
    "\n",
    "# Standardizing data\n",
    "scaler = StandardScaler()\n",
    "label_encoder = LabelEncoder()\n",
    "for column in df.select_dtypes(include=['object']).columns:\n",
    "    df[column] = label_encoder.fit_transform(df[column])\n",
    "\n",
    "X = df.drop('loan_status', axis=1)\n",
    "y = df['loan_status']\n",
    "X = scaler.fit_transform(X)\n",
    "\n",
    "# Split the data\n",
    "X_train, X_test, y_train, y_test = train_test_split(X, y, test_size=0.2, random_state=42)\n",
    "\n",
    "# Define base models\n",
    "base_models = [\n",
    "    ('decision_tree', DecisionTreeClassifier(max_depth=3)),\n",
    "    ('random_forest', RandomForestClassifier(n_estimators=10, random_state=42)),\n",
    "    ('support_vector_machine', SVC(probability=True))\n",
    "]\n",
    "\n",
    "# Stacking model\n",
    "meta_model = LogisticRegression()\n",
    "stacking_clf = StackingClassifier(estimators=base_models, final_estimator=meta_model)\n",
    "\n",
    "# Train the stacking classifier\n",
    "stacking_clf.fit(X_train, y_train)\n",
    "\n",
    "# Evaluate\n",
    "y_pred = stacking_clf.predict(X_test)\n",
    "print(f\"Stacking Model Evaluation:\\n {classification_report(y_test, y_pred)}\")\n",
    "```  "
   ]
  }
 ],
 "metadata": {
  "kernelspec": {
   "display_name": "Python 3 (ipykernel)",
   "language": "python",
   "name": "python3"
  },
  "language_info": {
   "codemirror_mode": {
    "name": "ipython",
    "version": 3
   },
   "file_extension": ".py",
   "mimetype": "text/x-python",
   "name": "python",
   "nbconvert_exporter": "python",
   "pygments_lexer": "ipython3",
   "version": "3.10.6"
  }
 },
 "nbformat": 4,
 "nbformat_minor": 5
}
