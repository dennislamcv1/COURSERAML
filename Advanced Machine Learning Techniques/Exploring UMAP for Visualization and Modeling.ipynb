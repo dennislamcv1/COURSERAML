{
 "cells": [
  {
   "cell_type": "markdown",
   "id": "510f1717",
   "metadata": {},
   "source": [
    "# 👩‍💻 Exploring UMAP for Visualization and Modeling\n",
    "\n",
    "## 📋 Overview\n",
    "\n",
    "In this activity, you'll use the UMAP technique to delve into complex datasets, transforming high-dimensional data into meaningful low-dimensional visualizations. This hands-on practice will not only help you grasp the mechanics of UMAP but also empower you to uncover hidden patterns that can enhance the modeling process.\n",
    "\n",
    "## 🎯 Learning Outcomes\n",
    "\n",
    "By the end of this lab, you will be able to:\n",
    "\n",
    "- ✅ Apply UMAP for dimensionality reduction and visualization\n",
    "- ✅ Interpret the impact of UMAP parameters on data clustering\n",
    "- ✅ Use UMAP-transformed features to improve modeling performance"
   ]
  },
  {
   "cell_type": "markdown",
   "id": "22e5769d",
   "metadata": {},
   "source": [
    "## Task 1: Data Preparation\n",
    "\n",
    "**Context:** Proper data preparation is essential for accurate UMAP implementation.\n",
    "\n",
    "**Steps:**\n",
    "\n",
    "1. Load the MNIST Digits dataset, or another complex high-dimensional dataset.\n",
    "2. Preprocess the data, handling any missing values and normalizing or standardizing the features."
   ]
  },
  {
   "cell_type": "code",
   "execution_count": null,
   "id": "a60ecf8a",
   "metadata": {},
   "outputs": [],
   "source": [
    "# Task 1: Data Preparation\n",
    "# Required Imports\n",
    "import numpy as np\n",
    "import matplotlib.pyplot as plt\n",
    "import umap\n",
    "from sklearn.datasets import load_digits\n",
    "from sklearn.model_selection import train_test_split\n",
    "from sklearn.preprocessing import StandardScaler\n",
    "from sklearn.ensemble import RandomForestClassifier\n",
    "from sklearn.metrics import accuracy_score\n",
    "import warnings\n",
    "warnings.filterwarnings(\"ignore\")\n",
    "\n",
    "# Load the Digits dataset\n",
    "digits = load_digits()\n",
    "X, y = digits.data, digits.target\n",
    "\n",
    "# Prepare the data\n",
    "# Your code here..."
   ]
  },
  {
   "cell_type": "markdown",
   "id": "5fbe2e9a",
   "metadata": {},
   "source": [
    "**💡 Tip:** Use `load_digits()` to load the dataset, and `StandardScaler` to standardize the data.\n",
    "\n",
    "**⚙️ Test Your Work:**\n",
    "\n",
    "- Display the first 5 rows of the standardized dataset.\n",
    "\n",
    "**Expected output:** Standardized feature values for the first 5 samples."
   ]
  },
  {
   "cell_type": "markdown",
   "id": "9782cf25",
   "metadata": {},
   "source": [
    "## Task 2: UMAP Implementation\n",
    "\n",
    "**Context:** UMAP helps in transforming high-dimensional data into a lower-dimensional form.\n",
    "\n",
    "**Steps:**\n",
    "\n",
    "1. Apply UMAP to transform the dataset from its original dimensions to a lower-dimensional form.\n",
    "2. Experiment with `n_neighbors` and `min_dist` parameters to observe their effect on the clustering and visualization."
   ]
  },
  {
   "cell_type": "code",
   "execution_count": null,
   "id": "00902411",
   "metadata": {},
   "outputs": [],
   "source": [
    "# Task 2: UMAP Implementation"
   ]
  },
  {
   "cell_type": "markdown",
   "id": "3427bf5d",
   "metadata": {},
   "source": [
    "**💡 Tip:** Use `umap.UMAP` with appropriate parameters.\n",
    "\n",
    "**⚙️ Test Your Work:**\n",
    "\n",
    "- Print the transformed dataset.\n",
    "\n",
    "**Expected output:** Data points represented in 2 dimensions."
   ]
  },
  {
   "cell_type": "markdown",
   "id": "fa71336f",
   "metadata": {},
   "source": [
    "## Task 3: Visualizing the Results\n",
    "\n",
    "**Context:** Visualization helps in interpreting UMAP results and understanding data clustering.\n",
    "\n",
    "**Steps**\n",
    "\n",
    "1. Plot the UMAP-transformed data.\n",
    "2. Color code the points based on their original labels to observe clustering patterns."
   ]
  },
  {
   "cell_type": "code",
   "execution_count": null,
   "id": "f739ea95",
   "metadata": {},
   "outputs": [],
   "source": [
    "# Task 3: Visualizing the Results"
   ]
  },
  {
   "cell_type": "markdown",
   "id": "da45e876",
   "metadata": {},
   "source": [
    "**💡 Tip:** Use `matplotlib` for plotting with appropriate labels and color coding.\n",
    "\n",
    "**⚙️ Test Your Work:**\n",
    "\n",
    "-  Display a scatter plot of the UMAP components with color coding for different classes.\n",
    "\n",
    "**Expected output:** A visual representation showing clusters of different classes."
   ]
  },
  {
   "cell_type": "markdown",
   "id": "009f6f90",
   "metadata": {},
   "source": [
    "## Task 4: Using UMAP-Transformed Features for Modeling\n",
    "\n",
    "**Context:** Using UMAP-transformed features can improve model performance by reducing dimensionality.\n",
    "\n",
    "**Steps:**\n",
    "\n",
    "1. Choose a classification model (e.g., Random Forest or SVM) and train it using the UMAP-transformed features.\n",
    "2. Split the data into training and testing sets to evaluate model performance."
   ]
  },
  {
   "cell_type": "code",
   "execution_count": null,
   "id": "c719bb31",
   "metadata": {},
   "outputs": [],
   "source": [
    "# Task 4: Using UMAP-Transformed Features for Modeling"
   ]
  },
  {
   "cell_type": "markdown",
   "id": "77c75786",
   "metadata": {},
   "source": [
    "**💡 Tip:** Compare the model's accuracy and efficiency against the same model trained on the original high-dimensional dataset.\n",
    "\n",
    "**⚙️ Test Your Work:**\n",
    "\n",
    "- Print the classification accuracy with UMAP-transformed features.\n",
    "\n",
    "**Expected output:** Accuracy score indicating the model's performance."
   ]
  },
  {
   "cell_type": "markdown",
   "id": "0b89716d",
   "metadata": {},
   "source": [
    "### ✅ Success Checklist\n",
    "\n",
    "- Successfully loaded and standardized the dataset\n",
    "- Applied UMAP to reduce the dataset to two dimensions\n",
    "- Visualized the UMAP results to interpret data clustering\n",
    "- Trained a classification model using UMAP-transformed features\n",
    "- Reflected on the UMAP process and its applications\n",
    "\n",
    "### 🔍 Common Issues & Solutions\n",
    "\n",
    "**Problem:** Dataset not loading.\n",
    "\n",
    "**Solution:** Ensure the correct function and dataset are used.\n",
    "\n",
    "**Problem:** UMAP implementation errors.\n",
    "\n",
    "**Solution:** Verify the UMAP setup with correct parameters.\n",
    "\n",
    "**Problem:** Visualization issues.\n",
    "\n",
    "**Solution:** Ensure that `plt.scatter()` is correctly configured with labels and color coding.\n",
    "\n",
    "### 🔑 Key Points\n",
    "- UMAP is a powerful technique for dimensionality reduction and visualization.\n",
    "- Proper data standardization is crucial before applying UMAP.\n",
    "- Using UMAP-transformed features can improve model performance by reducing dimensionality."
   ]
  },
  {
   "cell_type": "markdown",
   "id": "bdea04c2",
   "metadata": {},
   "source": [
    "## 💻 Exemplar Solution"
   ]
  },
  {
   "cell_type": "markdown",
   "id": "d1a6a060",
   "metadata": {},
   "source": [
    "<details>    \n",
    "<summary><strong>Click HERE to see an exemplar solution</strong></summary>    \n",
    "\n",
    "```python\n",
    "# Required Imports\n",
    "import numpy as np\n",
    "import matplotlib.pyplot as plt\n",
    "import umap\n",
    "from sklearn.datasets import load_digits\n",
    "from sklearn.model_selection import train_test_split\n",
    "from sklearn.preprocessing import StandardScaler\n",
    "from sklearn.ensemble import RandomForestClassifier\n",
    "from sklearn.metrics import accuracy_score\n",
    "import warnings\n",
    "warnings.filterwarnings(\"ignore\")\n",
    "\n",
    "# Load the Digits dataset\n",
    "digits = load_digits()\n",
    "X, y = digits.data, digits.target\n",
    "\n",
    "# Standardize the data\n",
    "scaler = StandardScaler()\n",
    "X_std = scaler.fit_transform(X)\n",
    "\n",
    "# Apply UMAP\n",
    "umap_model = umap.UMAP(n_neighbors=15, min_dist=0.1)\n",
    "X_umap = umap_model.fit_transform(X_std)\n",
    "\n",
    "# Visualize the UMAP-transformed data\n",
    "plt.figure(figsize=(12, 8))\n",
    "scatter = plt.scatter(X_umap[:, 0], X_umap[:, 1], c=y, cmap='Spectral', alpha=0.7, edgecolors='k')\n",
    "plt.colorbar(scatter)\n",
    "plt.title('UMAP Visualization of Digits Dataset')\n",
    "plt.xlabel('UMAP Component 1')\n",
    "plt.ylabel('UMAP Component 2')\n",
    "plt.show()\n",
    "\n",
    "# Train a classification model with UMAP features\n",
    "X_train, X_test, y_train, y_test = train_test_split(X_umap, y, test_size=0.3, random_state=42)\n",
    "clf = RandomForestClassifier(n_estimators=100, random_state=42)\n",
    "clf.fit(X_train, y_train)\n",
    "y_pred = clf.predict(X_test)\n",
    "accuracy = accuracy_score(y_test, y_pred)\n",
    "print(f\"Classification Accuracy with UMAP-Transformed Features: {accuracy:.2f}\")\n",
    "```"
   ]
  }
 ],
 "metadata": {
  "kernelspec": {
   "display_name": "Python 3 (ipykernel)",
   "language": "python",
   "name": "python3"
  },
  "language_info": {
   "codemirror_mode": {
    "name": "ipython",
    "version": 3
   },
   "file_extension": ".py",
   "mimetype": "text/x-python",
   "name": "python",
   "nbconvert_exporter": "python",
   "pygments_lexer": "ipython3",
   "version": "3.10.6"
  }
 },
 "nbformat": 4,
 "nbformat_minor": 5
}
