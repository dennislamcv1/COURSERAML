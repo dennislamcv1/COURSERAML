{
  "nbformat": 4,
  "nbformat_minor": 0,
  "metadata": {
    "colab": {
      "provenance": []
    },
    "kernelspec": {
      "name": "python3",
      "display_name": "Python 3"
    },
    "language_info": {
      "name": "python"
    }
  },
  "cells": [
    {
      "cell_type": "markdown",
      "source": [
        "# M5L3 Screencasts"
      ],
      "metadata": {
        "id": "ocgLfO27WpCR"
      }
    },
    {
      "cell_type": "markdown",
      "source": [
        "## M5L3SC1: Tracking ML Experiments with MLflow"
      ],
      "metadata": {
        "id": "IXx43C7oWr5G"
      }
    },
    {
      "cell_type": "markdown",
      "source": [
        "### Step 1: Setting Up Your Environment\n",
        "Install MLflow and import the operational environment essentials."
      ],
      "metadata": {
        "id": "bzV5XFPaXdJf"
      }
    },
    {
      "cell_type": "code",
      "execution_count": null,
      "metadata": {
        "id": "tF-IqSDQWSrs"
      },
      "outputs": [],
      "source": [
        "# !pip install mlflow\n",
        "\n",
        "import os\n",
        "os.system('pip install mlflow > /dev/null 2>&1')\n",
        "\n",
        "import mlflow\n",
        "import mlflow.sklearn\n",
        "from sklearn.datasets import load_iris\n",
        "from sklearn.model_selection import train_test_split\n",
        "from sklearn.ensemble import RandomForestClassifier\n"
      ]
    },
    {
      "cell_type": "markdown",
      "source": [
        "### Step 2: Preparing the Dataset\n",
        "Load and prepare the dataset for model training and testing."
      ],
      "metadata": {
        "id": "pCsPpNP9Xr6P"
      }
    },
    {
      "cell_type": "code",
      "source": [
        "# Load the Iris dataset\n",
        "data = load_iris()\n",
        "X_train, X_test, y_train, y_test = train_test_split(data.data, data.target, test_size=0.3, random_state=42)"
      ],
      "metadata": {
        "id": "mws60f3dXkfj"
      },
      "execution_count": null,
      "outputs": []
    },
    {
      "cell_type": "markdown",
      "source": [
        "### Step 3: Setting Up MLflow Tracking\n",
        "Initiate MLflow tracking to log model parameters and performance metrics."
      ],
      "metadata": {
        "id": "f-MYWkSdXxVF"
      }
    },
    {
      "cell_type": "code",
      "source": [
        "# Start MLflow tracking\n",
        "with mlflow.start_run():\n",
        "    # Initialize RandomForest model\n",
        "    rf = RandomForestClassifier(n_estimators=100)\n",
        "    rf.fit(X_train, y_train)\n",
        "\n",
        "    # Make predictions and evaluate accuracy\n",
        "    predictions = rf.predict(X_test)\n",
        "    accuracy = (predictions == y_test).mean()\n",
        "\n",
        "    # Log parameter and metrics via MLflow\n",
        "    mlflow.log_param(\"n_estimators\", 100)\n",
        "    mlflow.log_metric(\"accuracy\", accuracy)\n",
        "\n",
        "    # Log the model itself with an input example\n",
        "    example_input = X_train[:5]  # Take the first 5 examples from the training data\n",
        "    mlflow.sklearn.log_model(rf, \"model\", input_example=example_input)\n",
        "    print(f\"Model logged with accuracy: {accuracy:.3f}\")"
      ],
      "metadata": {
        "colab": {
          "base_uri": "https://localhost:8080/"
        },
        "id": "C-OxeNVLXw7h",
        "outputId": "d530bc02-f8c4-4971-beaa-5ef936abafff"
      },
      "execution_count": null,
      "outputs": [
        {
          "output_type": "stream",
          "name": "stdout",
          "text": [
            "Model logged with accuracy: 1.000\n"
          ]
        }
      ]
    },
    {
      "cell_type": "markdown",
      "source": [
        "## M5L3SC2: Registering and Managing Models with MLflow"
      ],
      "metadata": {
        "id": "vaTWUK-hYpBc"
      }
    },
    {
      "cell_type": "markdown",
      "source": [
        "### Step 1: Set Up Your MLflow Environment\n",
        "Ensure the learners have a continuation from tracking experiments for setting up model management. Confirm Python and MLflow are installed."
      ],
      "metadata": {
        "id": "0meTm7k4YsZL"
      }
    },
    {
      "cell_type": "code",
      "source": [
        "# !pip install mlflow\n",
        "import os\n",
        "os.system('pip install mlflow > /dev/null 2>&1')\n",
        "\n",
        "import mlflow\n",
        "import mlflow.sklearn\n",
        "from sklearn.ensemble import RandomForestClassifier\n",
        "from sklearn.model_selection import train_test_split\n",
        "from sklearn.datasets import load_iris\n",
        "import pandas as pd"
      ],
      "metadata": {
        "id": "BIKP-XbHYGMr"
      },
      "execution_count": null,
      "outputs": []
    },
    {
      "cell_type": "markdown",
      "source": [
        "### Step 2: Registering a Model in MLflow\n",
        "Walk learners through the process of registering a model after an experiment run."
      ],
      "metadata": {
        "id": "eBK7Wp_-Y4Ae"
      }
    },
    {
      "cell_type": "code",
      "source": [
        "# Load dataset\n",
        "X, y = load_iris(return_X_y=True)\n",
        "X_train, X_test, y_train, y_test = train_test_split(X, y, test_size=0.2, random_state=42)\n",
        "\n",
        "# Start an MLflow run\n",
        "with mlflow.start_run() as run:\n",
        "    # Train a model\n",
        "    model = RandomForestClassifier()\n",
        "    model.fit(X_train, y_train)\n",
        "\n",
        "    # Log the model with an input example to infer the model signature\n",
        "    example_input = X_train[:5]  # Take the first 5 examples from the training data\n",
        "    mlflow.sklearn.log_model(model, artifact_path=\"model\", input_example=example_input)\n",
        "\n",
        "    # Register the model\n",
        "    registered_model = mlflow.register_model(\n",
        "        model_uri=f\"runs:/{run.info.run_id}/model\",\n",
        "        name=\"RandomForestModel\"\n",
        "    )\n",
        "    print(f\"Successfully registered model 'RandomForestModel'. Created version '{registered_model.version}' of model 'RandomForestModel'.\")"
      ],
      "metadata": {
        "colab": {
          "base_uri": "https://localhost:8080/"
        },
        "id": "8r3yaqUMY3cV",
        "outputId": "7c274ed0-c406-4408-b2fa-41040f72cc6c"
      },
      "execution_count": null,
      "outputs": [
        {
          "output_type": "stream",
          "name": "stdout",
          "text": [
            "Successfully registered model 'RandomForestModel'. Created version '1' of model 'RandomForestModel'.\n"
          ]
        },
        {
          "output_type": "stream",
          "name": "stderr",
          "text": [
            "Successfully registered model 'RandomForestModel'.\n",
            "Created version '1' of model 'RandomForestModel'.\n"
          ]
        }
      ]
    },
    {
      "cell_type": "markdown",
      "source": [
        "### Step 3: Managing Model Versions\n",
        "Guide learners on managing different versions of registered models."
      ],
      "metadata": {
        "id": "I2u6d3SzZXz_"
      }
    },
    {
      "cell_type": "code",
      "source": [
        "# Upgrade model version with a new one\n",
        "import mlflow.pyfunc\n",
        "\n",
        "# Load a new version of the model and log it\n",
        "model_version = mlflow.pyfunc.load_model(model_uri=registered_model.source)\n",
        "\n",
        "# Continue from previous experiment tracking and register as a new version\n",
        "mlflow.register_model(\n",
        "    model_uri=f\"runs:/{run.info.run_id}/model\",\n",
        "    name=\"RandomForestModel\",\n",
        "    tags={\"stage\": \"staging\"}\n",
        ")"
      ],
      "metadata": {
        "colab": {
          "base_uri": "https://localhost:8080/"
        },
        "id": "Wr8cRHNlZXAH",
        "outputId": "aac7363b-3e1b-4a82-ecb7-cc8faa90c305"
      },
      "execution_count": null,
      "outputs": [
        {
          "output_type": "stream",
          "name": "stderr",
          "text": [
            "Registered model 'RandomForestModel' already exists. Creating a new version of this model...\n",
            "Created version '2' of model 'RandomForestModel'.\n"
          ]
        },
        {
          "output_type": "execute_result",
          "data": {
            "text/plain": [
              "<ModelVersion: aliases=[], creation_timestamp=1747253066225, current_stage='None', description=None, last_updated_timestamp=1747253066225, name='RandomForestModel', run_id='3360d44bbc8e46acaac2e8b7bea648b1', run_link=None, source='file:///content/mlruns/0/3360d44bbc8e46acaac2e8b7bea648b1/artifacts/model', status='READY', status_message=None, tags={'stage': 'staging'}, user_id=None, version=2>"
            ]
          },
          "metadata": {},
          "execution_count": 9
        }
      ]
    }
  ]
}