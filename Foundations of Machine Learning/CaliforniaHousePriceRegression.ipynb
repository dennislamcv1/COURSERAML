{
 "cells": [
  {
   "cell_type": "markdown",
   "id": "cd6ef8f9",
   "metadata": {},
   "source": [
    "# 👩‍💻 Predicting House Prices Using Linear Regression\n",
    "\n",
    "## 📋 Overview\n",
    "In this hands-on lab, you'll work with the California Housing Dataset to build a linear regression model that predicts house prices. You’ll follow a real-world data science workflow: exploring the data, preparing it, training a model, and evaluating the results both quantitatively and visually.\n",
    "\n",
    "## 🎯 Learning Outcomes\n",
    "By the end of this lab, you will be able to:\n",
    "- ✅ Load, explore, and prepare real-world tabular data\n",
    "- ✅ Select features using correlation and EDA\n",
    "- ✅ Train and evaluate a regression model\n",
    "- ✅ Visualize and interpret model performance"
   ]
  },
  {
   "cell_type": "markdown",
   "id": "a3cab79d",
   "metadata": {},
   "source": [
    "## 📂 Task 1: Load the Dataset\n",
    "**Context:** First, get the data into your environment so you can start exploring.\n",
    "\n",
    "**Steps:**\n",
    "\n",
    "- Use `fetch_california_housing(as_frame=True)` from sklearn.datasets.\n",
    "\n",
    "- Access the DataFrame using the `.frame` attribute of the loaded object (e.g., `data = housing.frame`).\n",
    "\n",
    "- Use `.head()`, `.info()`, and `.describe()` to inspect the structure and summary statistics.\n",
    "\n",
    "**💡 Tip:** The target variable is 'MedHouseVal', which represents the median house value in $100,000s."
   ]
  },
  {
   "cell_type": "code",
   "execution_count": 1,
   "id": "80b972ac",
   "metadata": {},
   "outputs": [
    {
     "data": {
      "text/html": [
       "<div>\n",
       "<style scoped>\n",
       "    .dataframe tbody tr th:only-of-type {\n",
       "        vertical-align: middle;\n",
       "    }\n",
       "\n",
       "    .dataframe tbody tr th {\n",
       "        vertical-align: top;\n",
       "    }\n",
       "\n",
       "    .dataframe thead th {\n",
       "        text-align: right;\n",
       "    }\n",
       "</style>\n",
       "<table border=\"1\" class=\"dataframe\">\n",
       "  <thead>\n",
       "    <tr style=\"text-align: right;\">\n",
       "      <th></th>\n",
       "      <th>MedInc</th>\n",
       "      <th>HouseAge</th>\n",
       "      <th>AveRooms</th>\n",
       "      <th>AveBedrms</th>\n",
       "      <th>Population</th>\n",
       "      <th>AveOccup</th>\n",
       "      <th>Latitude</th>\n",
       "      <th>Longitude</th>\n",
       "      <th>MedHouseVal</th>\n",
       "    </tr>\n",
       "  </thead>\n",
       "  <tbody>\n",
       "    <tr>\n",
       "      <th>0</th>\n",
       "      <td>8.3252</td>\n",
       "      <td>41.0</td>\n",
       "      <td>6.984127</td>\n",
       "      <td>1.023810</td>\n",
       "      <td>322.0</td>\n",
       "      <td>2.555556</td>\n",
       "      <td>37.88</td>\n",
       "      <td>-122.23</td>\n",
       "      <td>4.526</td>\n",
       "    </tr>\n",
       "    <tr>\n",
       "      <th>1</th>\n",
       "      <td>8.3014</td>\n",
       "      <td>21.0</td>\n",
       "      <td>6.238137</td>\n",
       "      <td>0.971880</td>\n",
       "      <td>2401.0</td>\n",
       "      <td>2.109842</td>\n",
       "      <td>37.86</td>\n",
       "      <td>-122.22</td>\n",
       "      <td>3.585</td>\n",
       "    </tr>\n",
       "    <tr>\n",
       "      <th>2</th>\n",
       "      <td>7.2574</td>\n",
       "      <td>52.0</td>\n",
       "      <td>8.288136</td>\n",
       "      <td>1.073446</td>\n",
       "      <td>496.0</td>\n",
       "      <td>2.802260</td>\n",
       "      <td>37.85</td>\n",
       "      <td>-122.24</td>\n",
       "      <td>3.521</td>\n",
       "    </tr>\n",
       "    <tr>\n",
       "      <th>3</th>\n",
       "      <td>5.6431</td>\n",
       "      <td>52.0</td>\n",
       "      <td>5.817352</td>\n",
       "      <td>1.073059</td>\n",
       "      <td>558.0</td>\n",
       "      <td>2.547945</td>\n",
       "      <td>37.85</td>\n",
       "      <td>-122.25</td>\n",
       "      <td>3.413</td>\n",
       "    </tr>\n",
       "    <tr>\n",
       "      <th>4</th>\n",
       "      <td>3.8462</td>\n",
       "      <td>52.0</td>\n",
       "      <td>6.281853</td>\n",
       "      <td>1.081081</td>\n",
       "      <td>565.0</td>\n",
       "      <td>2.181467</td>\n",
       "      <td>37.85</td>\n",
       "      <td>-122.25</td>\n",
       "      <td>3.422</td>\n",
       "    </tr>\n",
       "  </tbody>\n",
       "</table>\n",
       "</div>"
      ],
      "text/plain": [
       "   MedInc  HouseAge  AveRooms  AveBedrms  Population  AveOccup  Latitude  \\\n",
       "0  8.3252      41.0  6.984127   1.023810       322.0  2.555556     37.88   \n",
       "1  8.3014      21.0  6.238137   0.971880      2401.0  2.109842     37.86   \n",
       "2  7.2574      52.0  8.288136   1.073446       496.0  2.802260     37.85   \n",
       "3  5.6431      52.0  5.817352   1.073059       558.0  2.547945     37.85   \n",
       "4  3.8462      52.0  6.281853   1.081081       565.0  2.181467     37.85   \n",
       "\n",
       "   Longitude  MedHouseVal  \n",
       "0    -122.23        4.526  \n",
       "1    -122.22        3.585  \n",
       "2    -122.24        3.521  \n",
       "3    -122.25        3.413  \n",
       "4    -122.25        3.422  "
      ]
     },
     "execution_count": 1,
     "metadata": {},
     "output_type": "execute_result"
    }
   ],
   "source": [
    "# Load the California housing dataset and display basic info\n",
    "\n",
    "# Import necessary libraries\n",
    "import pandas as pd\n",
    "import numpy as np\n",
    "import matplotlib.pyplot as plt\n",
    "import seaborn as sns\n",
    "\n",
    "from sklearn.datasets import fetch_california_housing\n",
    "from sklearn.model_selection import train_test_split\n",
    "from sklearn.preprocessing import StandardScaler\n",
    "from sklearn.linear_model import LinearRegression\n",
    "from sklearn.metrics import r2_score, mean_squared_error\n",
    "\n",
    "# Load the dataset\n",
    "housing = fetch_california_housing(as_frame=True)\n",
    "data = housing.frame\n",
    "\n",
    "# View data\n",
    "data.head()"
   ]
  },
  {
   "cell_type": "markdown",
   "id": "851f4d7a",
   "metadata": {},
   "source": [
    "**⚙️ Test Your Work:**\n",
    "\n",
    "- The DataFrame has 8 features and a 'MedHouseVal' column."
   ]
  },
  {
   "cell_type": "markdown",
   "id": "789d4ab0",
   "metadata": {},
   "source": [
    "## 🔍 Task 2: Explore Data\n",
    "**Context:** Get to know the data — see what features might relate to house prices.\n",
    "\n",
    "**Steps:**\n",
    "\n",
    "- Use histograms to inspect distributions.\n",
    "\n",
    "- Use scatter plots to examine relationships (e.g., AveRooms vs. MedHouseVal).\n",
    "\n",
    "- Use `seaborn.heatmap()` to check for correlations.\n",
    "\n",
    "**Prompting Questions:**\n",
    "\n",
    "- Which features have strong positive or negative correlation with price?\n",
    "\n",
    "- Are any features skewed or have unusual patterns?\n",
    "\n",
    "**💡 Tip:** Start with `sns.pairplot()` or `df.corr()` for quick insights."
   ]
  },
  {
   "cell_type": "code",
   "execution_count": 2,
   "id": "abf5b1c3",
   "metadata": {},
   "outputs": [],
   "source": [
    "# Visualize correlations between features and house prices\n"
   ]
  },
  {
   "cell_type": "markdown",
   "id": "5874f330",
   "metadata": {},
   "source": [
    "**⚙️ Test Your Work:**\n",
    "\n",
    "- Correlation heatmap is generated\n",
    "\n",
    "- Plots highlight a few key feature-price relationships"
   ]
  },
  {
   "cell_type": "markdown",
   "id": "4f0e0b9d",
   "metadata": {},
   "source": [
    "## 🧹 Task 3: Data Preparation\n",
    "**Context:** Clean and prepare data to ensure the model trains effectively.\n",
    "\n",
    "**Steps:**\n",
    "\n",
    "- Check for missing values and handle if needed (e.g., `.isnull().sum()`).\n",
    "\n",
    "- Standardize or normalize numeric features using StandardScaler (optional for linear regression but good practice).\n",
    "\n",
    "- Drop or transform any problematic columns if identified in EDA.\n",
    "\n",
    "**💡 Tip:** Standardizing features helps models converge faster and compare weights meaningfully."
   ]
  },
  {
   "cell_type": "code",
   "execution_count": 3,
   "id": "2b1054d8",
   "metadata": {},
   "outputs": [],
   "source": [
    "# Clean and prepare the dataset\n"
   ]
  },
  {
   "cell_type": "markdown",
   "id": "194bea00",
   "metadata": {},
   "source": [
    "**⚙️ Test Your Work:**\n",
    "- No missing values remain\n",
    "- Feature scales are consistent (if standardized)"
   ]
  },
  {
   "cell_type": "markdown",
   "id": "a0fe0806",
   "metadata": {},
   "source": [
    "## 🧠 Task 4: Feature Selection\n",
    "**Context:** Choose the most relevant features for the model using your EDA.\n",
    "\n",
    "**Steps:**\n",
    "\n",
    "- Use correlation coefficients (`.corr()`) to identify strong predictors.\n",
    "\n",
    "- Drop weak or redundant features (e.g., highly correlated pairs).\n",
    "\n",
    "- Store selected features in a new variable `X_selected`.\n",
    "\n",
    "**Prompting Questions:**\n",
    "\n",
    "- Are any features too weakly correlated to be useful?\n",
    "\n",
    "- Are any features too correlated with each other?\n",
    "\n",
    "**💡 Tip:** Remove multicollinear features to avoid redundant information."
   ]
  },
  {
   "cell_type": "code",
   "execution_count": 4,
   "id": "615a4571",
   "metadata": {},
   "outputs": [],
   "source": [
    "# Select features with highest correlation to target\n"
   ]
  },
  {
   "cell_type": "markdown",
   "id": "6fc4477f",
   "metadata": {},
   "source": [
    "**⚙️ Test Your Work:**\n",
    "- X_selected contains the cleaned and selected features"
   ]
  },
  {
   "cell_type": "markdown",
   "id": "8825c71a",
   "metadata": {},
   "source": [
    "## 🧪 Task 5: Train the Model\n",
    "**Context:** Now you’ll train a simple linear regression model using your selected features.\n",
    "\n",
    "**Steps:**\n",
    "\n",
    "- Split the data using `train_test_split()`\n",
    "\n",
    "- Instantiate `LinearRegression()` from scikit-learn\n",
    "\n",
    "- Fit the model using `model.fit(X_train, y_train)`"
   ]
  },
  {
   "cell_type": "code",
   "execution_count": 5,
   "id": "033a616b",
   "metadata": {},
   "outputs": [],
   "source": [
    "# Train a linear regression model on the selected features\n"
   ]
  },
  {
   "cell_type": "markdown",
   "id": "94302997",
   "metadata": {},
   "source": [
    "**⚙️ Test Your Work:**\n",
    "\n",
    "- Model trains without error\n",
    "\n",
    "- Coefficients and intercept are available with `.coef_` and `.intercept_`"
   ]
  },
  {
   "cell_type": "markdown",
   "id": "15c6ee01",
   "metadata": {},
   "source": [
    "## 📈 Task 6: Model Evaluation\n",
    "**Context:** Time to see how well your model actually performs.\n",
    "\n",
    "**Steps:**\n",
    "\n",
    "- Predict prices on the test set\n",
    "\n",
    "- Use `r2_score()` and `mean_squared_error()` to evaluate\n",
    "\n",
    "- Print and interpret the results\n",
    "\n",
    "**💡 Tip:** R² tells you how much variance is explained by the model. MSE shows average squared error."
   ]
  },
  {
   "cell_type": "code",
   "execution_count": 6,
   "id": "b20a844d",
   "metadata": {},
   "outputs": [],
   "source": [
    "# Evaluate model with R2 and MSE\n"
   ]
  },
  {
   "cell_type": "markdown",
   "id": "4b841174",
   "metadata": {},
   "source": [
    "**⚙️ Test Your Work:**\n",
    "- R² and MSE values are printed and interpreted\n",
    "- Reasonable performance based on initial expectations"
   ]
  },
  {
   "cell_type": "markdown",
   "id": "d1d868fb",
   "metadata": {},
   "source": [
    "## 📊 Task 7: Visualize Results\n",
    "**Context:** Visual validation helps you see model strengths and weaknesses.\n",
    "\n",
    "**Steps:**\n",
    "\n",
    "- Create a scatter plot of y_test vs. y_pred\n",
    "\n",
    "- Plot a diagonal reference line\n",
    "\n",
    "- Optionally: Create a residual plot to examine prediction errors\n",
    "\n",
    "**Prompting Questions:**\n",
    "\n",
    "- Are predictions close to actuals?\n",
    "\n",
    "- Is there a pattern in residuals?\n",
    "\n",
    "**💡 Tip:** A good model will have points close to the diagonal line in actual vs predicted plots."
   ]
  },
  {
   "cell_type": "code",
   "execution_count": 7,
   "id": "59424912",
   "metadata": {},
   "outputs": [],
   "source": [
    "# Plot actual vs predicted prices and residuals\n"
   ]
  },
  {
   "cell_type": "markdown",
   "id": "4e622a80",
   "metadata": {},
   "source": [
    "**⚙️ Test Your Work:**\n",
    "\n",
    "- Scatter plot clearly shows prediction alignment\n",
    "\n",
    "- Residual plot doesn’t show major systematic error"
   ]
  },
  {
   "cell_type": "markdown",
   "id": "208959a7",
   "metadata": {},
   "source": [
    "## ✅ Success Checklist\n",
    "- Dataset loaded into DataFrame\n",
    "\n",
    "- EDA completed with meaningful plots\n",
    "\n",
    "- Features cleaned and optionally standardized\n",
    "\n",
    "- Top features selected based on correlation\n",
    "\n",
    "- Model trained and evaluated\n",
    "\n",
    "- Visualizations of predictions created\n",
    "\n",
    "## 🔑 Key Points\n",
    "- EDA is critical for understanding and preparing data\n",
    "\n",
    "- Feature selection improves model performance and interpretability\n",
    "\n",
    "- R-squared and MSE are key metrics for regression accuracy"
   ]
  },
  {
   "cell_type": "markdown",
   "id": "6d229aa0",
   "metadata": {},
   "source": [
    "## Exemplar Solution\n",
    "\n",
    "After completing this activity (or if you get stuck!), take a moment to review the exemplar solution. This sample solution can offer insights into different techniques and approaches. \n",
    "\n",
    "Reflect on what you can learn from the exemplar solution to improve your coding skills.\n",
    "\n",
    "Remember, multiple solutions can exist for some problems; the goal is to learn and grow as a programmer by exploring various approaches.\n",
    "\n",
    "Use the exemplar solution as a learning tool to enhance your understanding and refine your approach to coding challenges."
   ]
  },
  {
   "cell_type": "markdown",
   "id": "746653c0",
   "metadata": {},
   "source": [
    "<details>\n",
    "    \n",
    "<summary><strong>Click HERE to see an exemplar solution</strong></summary>    \n",
    "\n",
    "```python\n",
    "# 📦 Import necessary libraries\n",
    "import pandas as pd\n",
    "import numpy as np\n",
    "import matplotlib.pyplot as plt\n",
    "import seaborn as sns\n",
    "\n",
    "from sklearn.datasets import fetch_california_housing\n",
    "from sklearn.model_selection import train_test_split\n",
    "from sklearn.preprocessing import StandardScaler\n",
    "from sklearn.linear_model import LinearRegression\n",
    "from sklearn.metrics import r2_score, mean_squared_error\n",
    "\n",
    "# 📂 Load the dataset\n",
    "housing = fetch_california_housing(as_frame=True)\n",
    "data = housing.frame\n",
    "\n",
    "# 🔍 Explore the data\n",
    "print(data.info())\n",
    "print(data.describe())\n",
    "\n",
    "# Plot histogram of target\n",
    "plt.hist(data['MedHouseVal'], bins=30, edgecolor='k')\n",
    "plt.title(\"Distribution of Median House Values\")\n",
    "plt.xlabel(\"Median House Value ($100,000s)\")\n",
    "plt.ylabel(\"Frequency\")\n",
    "plt.show()\n",
    "\n",
    "# Correlation matrix\n",
    "plt.figure(figsize=(12, 8))\n",
    "sns.heatmap(data.corr(), annot=True, cmap='coolwarm')\n",
    "plt.title(\"Feature Correlation Heatmap\")\n",
    "plt.show()\n",
    "\n",
    "# 🧹 Data preparation\n",
    "X = data.drop('MedHouseVal', axis=1)\n",
    "y = data['MedHouseVal']\n",
    "\n",
    "# Standardize the features\n",
    "scaler = StandardScaler()\n",
    "X_scaled = scaler.fit_transform(X)\n",
    "X_scaled = pd.DataFrame(X_scaled, columns=X.columns)\n",
    "\n",
    "# 🧠 Feature selection (based on correlation heatmap)\n",
    "selected_features = ['MedInc', 'AveRooms', 'HouseAge']\n",
    "X_selected = X_scaled[selected_features]\n",
    "\n",
    "# 🧪 Split the data\n",
    "X_train, X_test, y_train, y_test = train_test_split(X_selected, y, test_size=0.2, random_state=42)\n",
    "\n",
    "# 📈 Train the model\n",
    "model = LinearRegression()\n",
    "model.fit(X_train, y_train)\n",
    "\n",
    "# 🔮 Predict\n",
    "y_pred = model.predict(X_test)\n",
    "\n",
    "# 🧮 Evaluate the model\n",
    "r2 = r2_score(y_test, y_pred)\n",
    "mse = mean_squared_error(y_test, y_pred)\n",
    "\n",
    "print(f\"R-squared: {r2:.4f}\")\n",
    "print(f\"Mean Squared Error: {mse:.4f}\")\n",
    "\n",
    "# 📊 Visualize predictions\n",
    "plt.figure(figsize=(8, 6))\n",
    "plt.scatter(y_test, y_pred, alpha=0.6)\n",
    "plt.plot([y_test.min(), y_test.max()], [y_test.min(), y_test.max()], 'r--')\n",
    "plt.xlabel(\"Actual Median House Value\")\n",
    "plt.ylabel(\"Predicted Median House Value\")\n",
    "plt.title(\"Actual vs. Predicted House Values\")\n",
    "plt.grid(True)\n",
    "plt.show()\n",
    "```"
   ]
  }
 ],
 "metadata": {
  "kernelspec": {
   "display_name": "Python 3 (ipykernel)",
   "language": "python",
   "name": "python3"
  },
  "language_info": {
   "codemirror_mode": {
    "name": "ipython",
    "version": 3
   },
   "file_extension": ".py",
   "mimetype": "text/x-python",
   "name": "python",
   "nbconvert_exporter": "python",
   "pygments_lexer": "ipython3",
   "version": "3.10.6"
  }
 },
 "nbformat": 4,
 "nbformat_minor": 5
}
