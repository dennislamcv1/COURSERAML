{
 "cells": [
  {
   "cell_type": "markdown",
   "id": "d6cc1814",
   "metadata": {},
   "source": [
    "# 👩‍💻 Loan Approval Prediction with Logistic Regression\n",
    "\n",
    "## 📋 Overview\n",
    "In this lab, you'll utilize logistic regression to predict loan approvals based on applicants' financial information. This hands-on experience will help you understand data preprocessing, model training, and result evaluation using key classification metrics. By working with a loan approval dataset, you'll gain practical experience implementing a binary classification model that has direct applications in real-world financial decision-making.\n",
    "\n",
    "## 🎯 Learning Outcomes\n",
    "By the end of this lab, you will be able to:\n",
    "\n",
    "- Preprocess financial data for machine learning applications\n",
    "- Implement logistic regression for binary classification problems\n",
    "- Evaluate classification model performance using multiple metrics\n",
    "- Visualize and interpret classification results\n",
    "- Apply machine learning techniques to solve financial industry problems"
   ]
  },
  {
   "cell_type": "markdown",
   "id": "c44617c7",
   "metadata": {},
   "source": [
    "## Task 1: Load and Explore the Dataset\n",
    "**Context:** Financial analysts need to first understand the data they're working with before building predictive models.\n",
    "\n",
    "**Steps:**\n",
    "\n",
    "1. Import the necessary libraries (pandas, sklearn, matplotlib, seaborn)\n",
    "2. Download the loan approval dataset using the provided curl command\n",
    "3. Load the 'loan_data.csv' dataset using pandas\n",
    "4. Display the first 5 rows to understand the structure\n",
    "5. Generate summary statistics to understand feature distributions\n",
    "6. Check for missing values in the dataset\n"
   ]
  },
  {
   "cell_type": "code",
   "execution_count": 1,
   "id": "6357a7c6",
   "metadata": {},
   "outputs": [],
   "source": [
    "import pandas as pd\n",
    "from sklearn.model_selection import train_test_split\n",
    "from sklearn.linear_model import LogisticRegression\n",
    "from sklearn.metrics import accuracy_score, precision_score, recall_score, confusion_matrix, roc_auc_score\n",
    "import seaborn as sns\n",
    "import matplotlib.pyplot as plt\n",
    "\n",
    "# Load the dataset\n",
    "data = pd.read_csv('loan_data.csv')\n",
    "\n",
    "# Your code for exploration goes here\n",
    "# Hint: Use data.head(), data.describe(), and data.isnull().sum()\n"
   ]
  },
  {
   "cell_type": "markdown",
   "id": "2db0b10d",
   "metadata": {},
   "source": [
    "**💡 Tip:** Pay special attention to the target variable ('loan_status') distribution to understand if the dataset is balanced or imbalanced.\n",
    "\n",
    "**⚙️ Test Your Work:**\n",
    "\n",
    "- Verify that the dataset is correctly loaded and displays information about applicants and loan approval status\n",
    "- Confirm you can see the data types and missing value counts\n"
   ]
  },
  {
   "cell_type": "markdown",
   "id": "e8ca04fc",
   "metadata": {},
   "source": [
    "## Task 2: Data Preparation and Preprocessing\n",
    "**Context:** Raw financial data often needs cleaning and transformation before modeling to ensure accurate predictions.\n",
    "\n",
    "**Steps:**\n",
    "\n",
    "1. Handle missing values using forward fill method\n",
    "2. Select relevant features for predicting loan approval\n",
    "3. Normalize the numerical features to ensure consistent scaling\n",
    "4. Create your feature matrix (X) and target vector (y)\n",
    "5. Split the data into training (80%) and testing (20%) sets using a fixed random state\n",
    "\n",
    "**💡 Tip:** Consider the correlation between features and the target variable when selecting which features to include in your model."
   ]
  },
  {
   "cell_type": "code",
   "execution_count": 2,
   "id": "2289a793",
   "metadata": {},
   "outputs": [],
   "source": [
    "# Handle missing values\n",
    "# Your code here\n",
    "\n",
    "# Feature selection - we'll use these three key features\n",
    "X = data[['person_income', 'credit_score', 'loan_amnt']]\n",
    "y = data['loan_status']\n",
    "\n",
    "# Splitting data into training and test sets\n",
    "# Your code here - use test_size=0.2 and random_state=42\n",
    "\n",
    "# Data normalization\n",
    "# Your code here\n"
   ]
  },
  {
   "cell_type": "markdown",
   "id": "49b37ab3",
   "metadata": {},
   "source": [
    "**⚙️ Test Your Work:**\n",
    "\n",
    "- Verify that there are no missing values in your processed dataset\n",
    "- Confirm that your features are properly scaled (mean close to 0, std close to 1)\n",
    "- Check that your train/test split has the expected proportions"
   ]
  },
  {
   "cell_type": "markdown",
   "id": "763e05c2",
   "metadata": {},
   "source": [
    "## Task 3: Model Training and Prediction\n",
    "**Context:** Financial institutions use classification models to automate the initial loan approval process evaluation.\n",
    "\n",
    "**Steps:**\n",
    "\n",
    "1. Initialize a LogisticRegression model with max_iter=100\n",
    "2. Fit the model using your training data\n",
    "3. Generate predictions for the test dataset"
   ]
  },
  {
   "cell_type": "code",
   "execution_count": 3,
   "id": "443a9aab",
   "metadata": {},
   "outputs": [],
   "source": [
    "# Training logistic regression model\n",
    "model = LogisticRegression(max_iter=100)\n",
    "# Your code to fit the model here\n",
    "\n",
    "# Making predictions\n",
    "# Your code here\n"
   ]
  },
  {
   "cell_type": "markdown",
   "id": "acf8f2d3",
   "metadata": {},
   "source": [
    "**💡 Tip:** If convergence warnings occur, try increasing max_iter or adjusting the regularization parameter.\n",
    "\n",
    "**⚙️ Test Your Work:**\n",
    "\n",
    "- Confirm that the model training completes without errors\n",
    "- Verify that predictions are binary values matching the target variable format"
   ]
  },
  {
   "cell_type": "markdown",
   "id": "c45628ef",
   "metadata": {},
   "source": [
    "## Task 4: Model Evaluation\n",
    "**Context:** Before deploying a loan approval model, banks must thoroughly evaluate its performance to ensure fair and accurate decisions.\n",
    "\n",
    "**Steps:**\n",
    "\n",
    "1. Calculate accuracy, precision, and recall scores\n",
    "2. Generate and visualize a confusion matrix\n",
    "3. Create an ROC curve and calculate the AUC score"
   ]
  },
  {
   "cell_type": "code",
   "execution_count": 4,
   "id": "5e6aa202",
   "metadata": {},
   "outputs": [
    {
     "ename": "NameError",
     "evalue": "name 'accuracy' is not defined",
     "output_type": "error",
     "traceback": [
      "\u001b[0;31m---------------------------------------------------------------------------\u001b[0m",
      "\u001b[0;31mNameError\u001b[0m                                 Traceback (most recent call last)",
      "Cell \u001b[0;32mIn [4], line 4\u001b[0m\n\u001b[1;32m      1\u001b[0m \u001b[38;5;66;03m# Evaluating model performance\u001b[39;00m\n\u001b[1;32m      2\u001b[0m \u001b[38;5;66;03m# Your code for accuracy, precision and recall here\u001b[39;00m\n\u001b[0;32m----> 4\u001b[0m \u001b[38;5;28mprint\u001b[39m(\u001b[38;5;124mf\u001b[39m\u001b[38;5;124m\"\u001b[39m\u001b[38;5;124mAccuracy: \u001b[39m\u001b[38;5;132;01m{\u001b[39;00m\u001b[43maccuracy\u001b[49m\u001b[38;5;132;01m:\u001b[39;00m\u001b[38;5;124m.2f\u001b[39m\u001b[38;5;132;01m}\u001b[39;00m\u001b[38;5;124m\"\u001b[39m)\n\u001b[1;32m      5\u001b[0m \u001b[38;5;28mprint\u001b[39m(\u001b[38;5;124mf\u001b[39m\u001b[38;5;124m\"\u001b[39m\u001b[38;5;124mPrecision: \u001b[39m\u001b[38;5;132;01m{\u001b[39;00mprecision\u001b[38;5;132;01m:\u001b[39;00m\u001b[38;5;124m.2f\u001b[39m\u001b[38;5;132;01m}\u001b[39;00m\u001b[38;5;124m\"\u001b[39m)\n\u001b[1;32m      6\u001b[0m \u001b[38;5;28mprint\u001b[39m(\u001b[38;5;124mf\u001b[39m\u001b[38;5;124m\"\u001b[39m\u001b[38;5;124mRecall: \u001b[39m\u001b[38;5;132;01m{\u001b[39;00mrecall\u001b[38;5;132;01m:\u001b[39;00m\u001b[38;5;124m.2f\u001b[39m\u001b[38;5;132;01m}\u001b[39;00m\u001b[38;5;124m\"\u001b[39m)\n",
      "\u001b[0;31mNameError\u001b[0m: name 'accuracy' is not defined"
     ]
    }
   ],
   "source": [
    "# Evaluating model performance\n",
    "# Your code for accuracy, precision and recall here\n",
    "\n",
    "print(f\"Accuracy: {accuracy:.2f}\")\n",
    "print(f\"Precision: {precision:.2f}\")\n",
    "print(f\"Recall: {recall:.2f}\")\n",
    "\n",
    "# Confusion Matrix\n",
    "# Your code here\n",
    "\n",
    "# ROC Curve\n",
    "from sklearn.metrics import roc_curve\n",
    "\n",
    "# Your code here to create the ROC curve\n",
    "\n",
    "# AUC Score\n",
    "from sklearn.metrics import roc_auc_score\n",
    "\n",
    "# Your code here to determine the AUC score\n"
   ]
  },
  {
   "cell_type": "markdown",
   "id": "6525810e",
   "metadata": {},
   "source": [
    "**💡 Tip:** In loan approval scenarios, consider which is more costly: falsely approving a bad loan or rejecting a good loan application.\n",
    "\n",
    "**⚙️ Test Your Work:**\n",
    "\n",
    "- Examine your metrics to ensure they're within a reasonable range\n",
    "- Verify that your confusion matrix and ROC curve display correctly\n",
    "\n",
    "## ✅ Success Checklist\n",
    "- Dataset is successfully loaded and explored\n",
    "- Missing values are properly handled\n",
    "- Features are correctly normalized\n",
    "- Data is appropriately split into training and testing sets\n",
    "- Logistic regression model is properly trained\n",
    "- Predictions are generated on the test set\n",
    "- Multiple evaluation metrics are calculated and interpreted\n",
    "- Visualizations effectively show the confusion matrix and ROC curve\n",
    "- All code runs without errors\n",
    "\n",
    "## 🔍 Common Issues & Solutions\n",
    "**Problem:** Dataset download fails \n",
    "- **Solution:** Ensure you have internet connectivity or download the dataset manually from Kaggle\n",
    "\n",
    "**Problem:** Missing values cause errors in model training \n",
    "- **Solution:** Verify that all missing values are handled with data.fillna() before training\n",
    "\n",
    "**Problem:** \"ConvergenceWarning\" appears during model training \n",
    "- **Solution:** Increase the max_iter parameter (e.g., to 1000) or normalize your features if not already done\n",
    "\n",
    "## 🔑 Key Points\n",
    "- Logistic regression is well-suited for binary classification problems like loan approval\n",
    "- Proper data preprocessing (handling missing values, normalization) is crucial for model performance\n",
    "- Multiple evaluation metrics provide a comprehensive view of model performance\n",
    "- Visualizations help communicate model results effectively to stakeholders\n"
   ]
  },
  {
   "cell_type": "markdown",
   "id": "c362bd9f",
   "metadata": {},
   "source": [
    "## Exemplar Solution\n",
    "After completing this activity (or if you get stuck!), take a moment to review the exemplar solution. This sample solution can offer insights into different techniques and approaches.\n",
    "Reflect on what you can learn from the exemplar solution to improve your coding skills.\n",
    "Remember, multiple solutions can exist for some problems; the goal is to learn and grow as a programmer by exploring various approaches.\n",
    "Use the exemplar solution as a learning tool to enhance your understanding and refine your approach to coding challenges.\n"
   ]
  },
  {
   "cell_type": "markdown",
   "id": "ae4c4896",
   "metadata": {},
   "source": [
    "<details>\n",
    "\n",
    "<summary><strong>Click HERE to see an exemplar solution</strong></summary>    \n",
    "    \n",
    "```python\n",
    "import pandas as pd\n",
    "from sklearn.model_selection import train_test_split\n",
    "from sklearn.linear_model import LogisticRegression\n",
    "from sklearn.metrics import accuracy_score, precision_score, recall_score, confusion_matrix, roc_auc_score\n",
    "import seaborn as sns\n",
    "import matplotlib.pyplot as plt\n",
    "\n",
    "# Load the dataset\n",
    "data = pd.read_csv('loan_data.csv')\n",
    "\n",
    "# Data Exploration\n",
    "print(data.head())\n",
    "print(data.describe())\n",
    "print(data.isnull().sum())\n",
    "\n",
    "# Data Cleaning\n",
    "data.fillna(method='ffill', inplace=True)\n",
    "\n",
    "# Feature selection based on domain knowledge or exploratory analysis\n",
    "X = data[['person_income', 'credit_score', 'loan_amnt']]\n",
    "y = data['loan_status']\n",
    "\n",
    "# Splitting data into training and test sets\n",
    "X_train, X_test, y_train, y_test = train_test_split(X, y, test_size=0.2, random_state=42)\n",
    "\n",
    "# Data normalization\n",
    "mean = X_train.mean()\n",
    "std = X_train.std()\n",
    "\n",
    "X_train_scaled = (X_train - mean) / std\n",
    "X_test_scaled = (X_test - mean) / std\n",
    "\n",
    "\n",
    "# Training logistic regression model\n",
    "model = LogisticRegression(max_iter=100)\n",
    "model.fit(X_train_scaled, y_train) # Use scaled training data\n",
    "\n",
    "# Making predictions\n",
    "y_pred = model.predict(X_test_scaled) # Use scaled test data\n",
    "y_prob = model.predict_proba(X_test_scaled)[:, 1] # Use scaled test data for probabilities\n",
    "\n",
    "\n",
    "# Evaluating model performance\n",
    "accuracy = accuracy_score(y_test, y_pred)\n",
    "precision = precision_score(y_test, y_pred)\n",
    "recall = recall_score(y_test, y_pred)\n",
    "auc_score = roc_auc_score(y_test, y_prob)\n",
    "\n",
    "print(f\"Accuracy: {accuracy:.2f}\")\n",
    "print(f\"Precision: {precision:.2f}\")\n",
    "print(f\"Recall: {recall:.2f}\")\n",
    "print(f\"AUC Score: {auc_score:.4f}\")\n",
    "\n",
    "# Confusion Matrix\n",
    "cm = confusion_matrix(y_test, y_pred)\n",
    "sns.heatmap(cm, annot=True, fmt='d')\n",
    "plt.xlabel('Predicted')\n",
    "plt.ylabel('Actual')\n",
    "plt.title('Confusion Matrix')\n",
    "plt.show()\n",
    "\n",
    "# ROC Curve\n",
    "from sklearn.metrics import roc_curve\n",
    "\n",
    "y_prob = model.predict_proba(X_test)[:, 1]\n",
    "fpr, tpr, thresholds = roc_curve(y_test, y_prob)\n",
    "plt.plot(fpr, tpr)\n",
    "plt.xlabel('False Positive Rate')\n",
    "plt.ylabel('True Positive Rate')\n",
    "plt.title('ROC Curve')\n",
    "plt.show()\n",
    "\n",
    "    \n",
    "    \n",
    "```    "
   ]
  }
 ],
 "metadata": {
  "kernelspec": {
   "display_name": "Python 3 (ipykernel)",
   "language": "python",
   "name": "python3"
  },
  "language_info": {
   "codemirror_mode": {
    "name": "ipython",
    "version": 3
   },
   "file_extension": ".py",
   "mimetype": "text/x-python",
   "name": "python",
   "nbconvert_exporter": "python",
   "pygments_lexer": "ipython3",
   "version": "3.10.6"
  }
 },
 "nbformat": 4,
 "nbformat_minor": 5
}
