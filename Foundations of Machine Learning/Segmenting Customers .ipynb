{
 "cells": [
  {
   "cell_type": "markdown",
   "id": "f031cb1b",
   "metadata": {},
   "source": [
    "# 👩‍💻 Customer Segmentation with K-Means Clustering\n",
    "\n",
    "## 📋 Overview\n",
    "In this lab, you’ll apply **K-Means Clustering** to the **Mall Customer Segmentation Dataset**. You’ll experiment with different numbers of clusters, use the **Elbow Method** to find the best K, visualize your results, and interpret meaningful customer segments based on real purchasing behavior.\n",
    "\n",
    "## 🎯 Learning Outcomes\n",
    "By the end of this lab, you will be able to:\n",
    "\n",
    "- Preprocess real-world datasets for clustering\n",
    " \n",
    "- Apply K-Means clustering with multiple K values\n",
    " \n",
    "- Use the Elbow Method to find an optimal K\n",
    " \n",
    "- Visualize and interpret customer segments"
   ]
  },
  {
   "cell_type": "markdown",
   "id": "9d006d6b",
   "metadata": {},
   "source": [
    "## Task 1: Load and Explore the Dataset \n",
    "**Context:** Always start with understanding your data before modeling.\n",
    "\n",
    "**Steps:**\n",
    "\n",
    "1. Load `Mall_Customers.csv `using Pandas.\n",
    "2. Use`.head()`, `.info()`, and `.describe()` to inspect structure and summary statistics.\n",
    "3. Focus on `Age`, `Annual Income (k$)`, and `Spending Score (1-100)`.\n",
    "\n",
    "**Prompting Questions:**\n",
    "\n",
    "- Are the relevant features clean and properly formatted?\n",
    "- Are there obvious patterns or groupings already?\n",
    "\n",
    "\n",
    "💡 **Tip:** Remember: K-Means is sensitive to feature scale"
   ]
  },
  {
   "cell_type": "code",
   "execution_count": null,
   "id": "067f76f6",
   "metadata": {},
   "outputs": [],
   "source": [
    "# Import necessary libraries\n",
    "import pandas as pd\n",
    "import numpy as np\n",
    "import matplotlib.pyplot as plt\n",
    "import seaborn as sns\n",
    "from sklearn.cluster import KMeans\n",
    "from sklearn.preprocessing import StandardScaler\n",
    "\n",
    "# Load the dataset\n",
    "data = pd.read_csv('Mall_Customers.csv')\n",
    "\n",
    "# Preview the data\n",
    "# <your code here>"
   ]
  },
  {
   "cell_type": "markdown",
   "id": "8144c9f4",
   "metadata": {},
   "source": [
    "⚙️ **Test Your Work:**\n",
    "\n",
    "- DataFrame loads correctly with expected columns\n"
   ]
  },
  {
   "cell_type": "markdown",
   "id": "bbf9f5bd",
   "metadata": {},
   "source": [
    "## Task 2: Data Preprocessing \n",
    "**Context:** K-Means clustering assumes features are scaled similarly.\n",
    "\n",
    "**Steps:**\n",
    "\n",
    "1. Check for missing values (`.isnull().sum()`).\n",
    "2. Standardize `Age`,` Annual Income (k$)`, and `Spending Score (1-100)` using `StandardScaler`.\n",
    "3. Create a new scaled features DataFrame (`X_scaled`).\n",
    "\n",
    "**Prompting Questions:**\n",
    "- Are any features heavily skewed or scaled differently?\n",
    "\n",
    "💡 **Tip:** Use `StandardScaler()` from `sklearn.preprocessing`."
   ]
  },
  {
   "cell_type": "code",
   "execution_count": null,
   "id": "0d62c009",
   "metadata": {},
   "outputs": [],
   "source": [
    "# Standardize features using StandardScaler"
   ]
  },
  {
   "cell_type": "markdown",
   "id": "dbcf2862",
   "metadata": {},
   "source": [
    "⚙️ **Test Your Work:**\n",
    "\n",
    "`X_scaled` has mean 0 and standard deviation 1 across features"
   ]
  },
  {
   "cell_type": "markdown",
   "id": "f597f601",
   "metadata": {},
   "source": [
    "## Task 3: Implement the Elbow Method to Determine K\n",
    "**Context:** Choosing the right number of clusters is crucial.\n",
    "\n",
    "**Steps:**\n",
    "\n",
    "1. Train K-Means models with a range of K values (e.g., 1 to 10).\n",
    "2.  Store and plot the inertia (within-cluster sum of squares) for each K.\n",
    "3.  Identify the \"elbow\" point visually where inertia starts decreasing more slowly.\n",
    "\n",
    "**Prompting Questions:**\n",
    "\n",
    "- Where does the plot flatten out noticeably?\n",
    "- What K seems to best balance simplicity and accuracy?\n",
    "\n",
    "\n",
    "💡 **Tip:** The elbow point is where adding another cluster doesn’t improve much."
   ]
  },
  {
   "cell_type": "code",
   "execution_count": null,
   "id": "67a3c588",
   "metadata": {},
   "outputs": [],
   "source": [
    "# Implement elbow method for KMeans clustering"
   ]
  },
  {
   "cell_type": "markdown",
   "id": "46f68e02",
   "metadata": {},
   "source": [
    "⚙️ **Test Your Work:**\n",
    "\n",
    "- Inertia vs K plot is created\n",
    "- An elbow point should be visible in the plot, suggesting a potential optimal K value."
   ]
  },
  {
   "cell_type": "markdown",
   "id": "6d224fd1",
   "metadata": {},
   "source": [
    "## Task 4: Apply K-Means Clustering\n",
    "**Context:** Now apply K-Means using your chosen K value.\n",
    "\n",
    "**Steps:**\n",
    "\n",
    "1. Train a KMeans model using the selected optimal K.\n",
    "2. Predict cluster labels for each customer.\n",
    "3. Add these cluster labels to your DataFrame.\n",
    "\n",
    "**Prompting Questions:**\n",
    "\n",
    "- Are the clusters evenly sized?\n",
    "- Do cluster centers seem reasonable?\n",
    "\n",
    "\n",
    "💡 **Tip:** Set `random_state=42` for reproducibility."
   ]
  },
  {
   "cell_type": "code",
   "execution_count": null,
   "id": "62bd640e",
   "metadata": {},
   "outputs": [],
   "source": [
    "# Train final KMeans model and assign cluster labels"
   ]
  },
  {
   "cell_type": "markdown",
   "id": "31256544",
   "metadata": {},
   "source": [
    "⚙️ **Test Your Work:**\n",
    "    \n",
    "- DataFrame has new `Cluster` column\n",
    "- No major errors or extreme cluster sizes\n"
   ]
  },
  {
   "cell_type": "markdown",
   "id": "1a8b32ac",
   "metadata": {},
   "source": [
    "## Task 5: Visualize the Clusters \n",
    "**Context:** See your clustering visually to validate it intuitively.\n",
    "\n",
    "**Steps:**\n",
    "\n",
    "1. Create scatter plots using two principal features (e.g., Income vs Spending Score).\n",
    "2. Color points based on cluster labels.\n",
    "3. Plot cluster centroids as larger markers.\n",
    "\n",
    "**Prompting Questions:**\n",
    "\n",
    "- Are clusters tight and separated?\n",
    "- Do centroids lie near cluster centers?\n",
    "\n",
    "\n",
    "💡 **Tip:** Use different colors and legend labels for each cluster."
   ]
  },
  {
   "cell_type": "code",
   "execution_count": null,
   "id": "889bc342",
   "metadata": {},
   "outputs": [],
   "source": [
    "# Visualize clusters and centroids using matplotlib"
   ]
  },
  {
   "cell_type": "markdown",
   "id": "84508816",
   "metadata": {},
   "source": [
    "⚙️ **Test Your Work:**\n",
    "    \n",
    "- Distinct clusters visible in scatter plot\n",
    "- Centroids plotted and correctly positioned\n"
   ]
  },
  {
   "cell_type": "markdown",
   "id": "a451ef7d",
   "metadata": {},
   "source": [
    "## Task 6: Interpret the Clusters\n",
    "**Context:** Turn technical results into business insights.\n",
    "\n",
    "**Steps:**\n",
    "\n",
    "1. Summarize each cluster:\n",
    "   - High Income, High Spending\n",
    "   - Low Income, High Spending\n",
    "   - etc.\n",
    "\n",
    "2. Reflect on how each group might be targeted differently by marketing teams.\n",
    "\n",
    "**Prompting Questions:**\n",
    "\n",
    "- Which clusters are ideal targets for promotions?\n",
    "\n",
    "- Which clusters might need retention strategies?\n",
    "\n",
    "\n",
    "💡 **Tip:** Think about customer \"personas\" emerging from clusters."
   ]
  },
  {
   "cell_type": "code",
   "execution_count": null,
   "id": "8f853cba",
   "metadata": {},
   "outputs": [],
   "source": [
    "#Task 6: Interpret the Clusters"
   ]
  },
  {
   "cell_type": "markdown",
   "id": "c54b804f",
   "metadata": {},
   "source": [
    "## ✅ Success Checklist\n",
    "\n",
    "- Dataset loaded and inspected\n",
    "- Data standardized for clustering\n",
    "- Elbow Method plot created and interpreted\n",
    "- K-Means model trained and clusters assigned\n",
    "- Visualizations of clusters and centroids created\n",
    "- Business insights about clusters documented\n",
    "\n",
    "\n",
    "## 🔍 Common Issues & Solutions\n",
    "\n",
    "**Problem:** K-Means clustering not converging\n",
    "\n",
    "**Solution:** Increase `max_iter` in `KMeans()`\n",
    " \n",
    "**Problem:** Elbow point hard to spot\n",
    "\n",
    "**Solution:** Try zooming into the plot or rerun with slightly larger K range\n",
    " \n",
    "**Problem:** All points assigned to one cluster\n",
    "\n",
    "**Solution:** Double-check scaling — features must be standardized\n",
    "\n",
    "## 🔑 Key Points\n",
    "\n",
    "- K-Means requires properly scaled features\n",
    "- The Elbow Method helps choose an optimal K\n",
    "- Clustering can reveal actionable customer segments for targeted marketing"
   ]
  },
  {
   "cell_type": "markdown",
   "id": "c85b58d9",
   "metadata": {},
   "source": [
    "## 💻 Exemplar Solution\n",
    "After completing this activity (or if you get stuck!), take a moment to review the exemplar solution. This sample solution can offer insights into different techniques and approaches.\n",
    "Reflect on what you can learn from the exemplar solution to improve your coding skills.\n",
    "Remember, multiple solutions can exist for some problems; the goal is to learn and grow as a programmer by exploring various approaches.\n",
    "Use the exemplar solution as a learning tool to enhance your understanding and refine your approach to coding challenges."
   ]
  },
  {
   "cell_type": "markdown",
   "id": "f3466f90",
   "metadata": {},
   "source": [
    "<details>\n",
    "\n",
    "<summary><strong>Click HERE to see an exemplar solution</strong></summary>    \n",
    "    \n",
    "```python\n",
    "# -------------------------------\n",
    "# Task 1: Load and Explore Dataset\n",
    "# -------------------------------\n",
    "\n",
    "import pandas as pd\n",
    "import numpy as np\n",
    "import matplotlib.pyplot as plt\n",
    "import seaborn as sns\n",
    "from sklearn.cluster import KMeans\n",
    "from sklearn.preprocessing import StandardScaler\n",
    "\n",
    "# Load the dataset\n",
    "data = pd.read_csv('Mall_Customers.csv')\n",
    "\n",
    "# Preview the dataset\n",
    "print(data.head())\n",
    "print(data.info())\n",
    "print(data.describe())\n",
    "\n",
    "# Focus on selected features\n",
    "features = data[['Age', 'Annual Income (k$)', 'Spending Score (1-100)']]\n",
    "\n",
    "# -------------------------------\n",
    "# Task 2: Data Preprocessing\n",
    "# -------------------------------\n",
    "\n",
    "# Check for missing values\n",
    "print(features.isnull().sum())\n",
    "\n",
    "# Standardize the features\n",
    "scaler = StandardScaler()\n",
    "X_scaled = scaler.fit_transform(features)\n",
    "\n",
    "# -------------------------------\n",
    "# Task 3: Implement Elbow Method\n",
    "# -------------------------------\n",
    "\n",
    "inertia = []\n",
    "K_range = range(1, 11)\n",
    "\n",
    "for k in K_range:\n",
    "    kmeans = KMeans(n_clusters=k, random_state=42)\n",
    "    kmeans.fit(X_scaled)\n",
    "    inertia.append(kmeans.inertia_)\n",
    "\n",
    "# Plot the Elbow Method graph\n",
    "plt.figure(figsize=(8,5))\n",
    "plt.plot(K_range, inertia, marker='o')\n",
    "plt.title('Elbow Method for Optimal K')\n",
    "plt.xlabel('Number of Clusters (K)')\n",
    "plt.ylabel('Inertia')\n",
    "plt.grid(True)\n",
    "plt.show()\n",
    "\n",
    "# -------------------------------\n",
    "# Task 4: Apply K-Means Clustering\n",
    "# -------------------------------\n",
    "\n",
    "# Assuming from Elbow method K=5. Depending on the trials and elbow point, this can be updated.\n",
    "optimal_k = 5\n",
    "\n",
    "# Train final KMeans model\n",
    "kmeans_final = KMeans(n_clusters=optimal_k, random_state=42)\n",
    "cluster_labels = kmeans_final.fit_predict(X_scaled)\n",
    "\n",
    "# Add cluster labels to original data\n",
    "data['Cluster'] = cluster_labels\n",
    "\n",
    "# -------------------------------\n",
    "# Task 5: Visualize the Clusters\n",
    "# -------------------------------\n",
    "\n",
    "# Plot Income vs Spending Score colored by cluster\n",
    "plt.figure(figsize=(8,6))\n",
    "scatter = plt.scatter(\n",
    "    X_scaled[:,1],  # Annual Income (standardized)\n",
    "    X_scaled[:,2],  # Spending Score (standardized)\n",
    "    c=cluster_labels, \n",
    "    cmap='viridis'\n",
    ")\n",
    "\n",
    "# Plot centroids\n",
    "plt.scatter(\n",
    "    kmeans_final.cluster_centers_[:,1],\n",
    "    kmeans_final.cluster_centers_[:,2],\n",
    "    s=300,\n",
    "    c='red',\n",
    "    marker='X',\n",
    "    label='Centroids'\n",
    ")\n",
    "\n",
    "plt.title('Customer Segments by K-Means')\n",
    "plt.xlabel('Annual Income (standardized)')\n",
    "plt.ylabel('Spending Score (standardized)')\n",
    "plt.legend()\n",
    "plt.grid(True)\n",
    "plt.show()\n",
    "\n",
    "# -------------------------------\n",
    "# Task 6: Interpret the Clusters\n",
    "# -------------------------------\n",
    "\n",
    "\"\"\"Cluster Interpretation:\n",
    "- Cluster 0: High income, high spending customers\n",
    "- Cluster 1: Lower income, lower spending customers\n",
    "- Cluster 2: High income, moderate spending\n",
    "- Cluster 3: Younger customers with high spending\n",
    "- Cluster 4: Moderate income and moderate spending\n",
    "Insights:\n",
    "- High spenders could be targeted for premium loyalty programs.\n",
    "- Low income, low spenders might need budget-focused promotions.\n",
    "- Younger high spenders could be targeted for trendy or luxury products.\n",
    "\"\"\"\n",
    "``` "
   ]
  }
 ],
 "metadata": {
  "kernelspec": {
   "display_name": "Python 3 (ipykernel)",
   "language": "python",
   "name": "python3"
  },
  "language_info": {
   "codemirror_mode": {
    "name": "ipython",
    "version": 3
   },
   "file_extension": ".py",
   "mimetype": "text/x-python",
   "name": "python",
   "nbconvert_exporter": "python",
   "pygments_lexer": "ipython3",
   "version": "3.10.6"
  }
 },
 "nbformat": 4,
 "nbformat_minor": 5
}
