{
 "cells": [
  {
   "cell_type": "markdown",
   "id": "739f1d58",
   "metadata": {},
   "source": [
    "# 👩‍💻 Seasonal-Trend Decomposition of Climatic Temperature Series Analysis\n",
    "## 📋 Overview\n",
    "In this lab, you will analyze daily minimum temperature data using time series decomposition techniques. You'll load historical temperature data, prepare it for analysis, visualize the time series, and decompose it into its trend, seasonal, and residual components. This type of analysis is crucial for understanding patterns in time-dependent data, which can inform business decisions like inventory management, resource planning, and forecasting.\n",
    "## 🎯 Learning Outcomes\n",
    "By the end of this lab, you will be able to:\n",
    "\n",
    "- Load and prepare time series data for analysis\n",
    "- Visualize time series data to identify patterns\n",
    "- Apply seasonal decomposition to extract trend, seasonal, and residual components\n",
    "- Interpret decomposition results to derive actionable insights\n",
    "\n",
    "## 🚀 Starting Point\n",
    "Access the starter code given below.\n",
    "\n",
    "Required tools/setup:\n",
    "\n",
    "- Python 3.x\n",
    "- pandas\n",
    "- matplotlib\n",
    "- statsmodels\n",
    "\n",
    "Make sure to have a basic understanding of time series data concepts from previous lectures."
   ]
  },
  {
   "cell_type": "code",
   "execution_count": null,
   "id": "7ff81214",
   "metadata": {},
   "outputs": [],
   "source": [
    "# Starter code - imports\n",
    "import pandas as pd\n",
    "import matplotlib.pyplot as plt\n",
    "import numpy as np\n",
    "from statsmodels.tsa.seasonal import seasonal_decompose"
   ]
  },
  {
   "cell_type": "markdown",
   "id": "169ff169",
   "metadata": {},
   "source": [
    "## Task 1: Data Loading and Exploration\n",
    "**Context:** Before analyzing any time series, we need to understand its structure and basic properties.\n",
    "\n",
    "**Steps:**\n",
    "\n",
    "1. Load the temperature dataset using pandas:\n",
    "\n",
    "    - Use `pd.read_csv()` with appropriate parameters\n",
    "    - Set the 'Date' column as the index with `parse_dates=True`\n",
    "\n",
    "\n",
    "2. Explore the dataset:\n",
    "\n",
    "    - Display the first few rows using `.head()`\n",
    "    - Examine the data information using `.info()`\n",
    "    - Check for missing values using `.isnull().sum()`"
   ]
  },
  {
   "cell_type": "code",
   "execution_count": null,
   "id": "2d5e4857",
   "metadata": {},
   "outputs": [],
   "source": [
    "# Load the dataset\n",
    "data = pd.read_csv('daily-minimum-temperatures-in-me.csv', index_col='Date', parse_dates=True)\n",
    "\n",
    "# Explore the dataset\n",
    "# YOUR CODE HERE"
   ]
  },
  {
   "cell_type": "markdown",
   "id": "bf8feb45",
   "metadata": {},
   "source": [
    "**💡 Tip:** When loading time series data, always check the data type of your date column and ensure it's properly parsed as datetime."
   ]
  },
  {
   "cell_type": "markdown",
   "id": "8bbe529a",
   "metadata": {},
   "source": [
    "## Task 2: Data Preprocessing\n",
    "**Context:** Real-world time series data often contains missing or invalid values that need to be addressed.\n",
    "\n",
    "**Steps:**\n",
    "\n",
    "1. Convert temperature column to numeric:\n",
    "\n",
    "    - Use `pd.to_numeric()` with appropriate error handling\n",
    "    \n",
    "\n",
    "2. Handle missing values:\n",
    "\n",
    "    - Identify an appropriate interpolation method\n",
    "    - Use `.interpolate()` to fill missing values"
   ]
  },
  {
   "cell_type": "code",
   "execution_count": null,
   "id": "26b59b44",
   "metadata": {},
   "outputs": [],
   "source": [
    "# Handle data types and missing values\n",
    "# YOUR CODE HERE"
   ]
  },
  {
   "cell_type": "markdown",
   "id": "8b461cd0",
   "metadata": {},
   "source": [
    "**⚙️ Test Your Work:**\n",
    "\n",
    "- Check for any remaining missing values with `data.isnull().sum()`\n",
    "- The output should show zero missing values"
   ]
  },
  {
   "cell_type": "markdown",
   "id": "cfdaa3f2",
   "metadata": {},
   "source": [
    "## Task 3: Time Series Visualization\n",
    "**Context:** Visualization helps identify patterns, trends, and potential anomalies in time series data.\n",
    "\n",
    "**Steps:**\n",
    "\n",
    "1. Create a line plot of the temperature data:\n",
    "\n",
    "    - Use the `.plot()` method from pandas\n",
    "    - Add appropriate title, x-label, and y-label using matplotlib functions\n",
    "    - Display the plot using `plt.show()`"
   ]
  },
  {
   "cell_type": "code",
   "execution_count": null,
   "id": "ea0a2641",
   "metadata": {},
   "outputs": [],
   "source": [
    "# Visualize the time series\n",
    "# YOUR CODE HERE"
   ]
  },
  {
   "cell_type": "markdown",
   "id": "4e9a2b61",
   "metadata": {},
   "source": [
    "**💡 Tip:** Look for patterns in your visualization - are there obvious seasonal patterns or trends?"
   ]
  },
  {
   "cell_type": "markdown",
   "id": "adbd2985",
   "metadata": {},
   "source": [
    "## Task 4: Seasonal Decomposition\n",
    "**Context:** Breaking down a time series into its components reveals underlying patterns that drive the data.\n",
    "\n",
    "**Steps:**\n",
    "\n",
    "1. Apply seasonal decomposition:\n",
    "\n",
    "    - Use `seasonal_decompose()` from statsmodels\n",
    "    - Choose an appropriate model ('additive' or 'multiplicative')\n",
    "    - Set the period parameter based on the data frequency (hint: for daily data with yearly patterns, use 365)"
   ]
  },
  {
   "cell_type": "code",
   "execution_count": null,
   "id": "17d6b5b3",
   "metadata": {},
   "outputs": [],
   "source": [
    "# Perform Seasonal Decomposition\n",
    "# YOUR CODE HERE"
   ]
  },
  {
   "cell_type": "markdown",
   "id": "22486bcc",
   "metadata": {},
   "source": [
    "## Task 5: Analyzing Decomposition Results\n",
    "**Context:** The individual components from decomposition provide valuable insights about different aspects of the time series.\n",
    "\n",
    "**Steps:**\n",
    "\n",
    "1. Visualize decomposition components:\n",
    "\n",
    "    - Use the `.plot()` method of the decomposition object\n",
    "    - Display the plot using `plt.show()`\n",
    "    \n",
    "    \n",
    "2. Analyze the components:\n",
    "\n",
    "    - Examine the trend component for long-term patterns\n",
    "    - Study the seasonal component for recurring patterns\n",
    "    - Look at the residual component for anomalies"
   ]
  },
  {
   "cell_type": "code",
   "execution_count": null,
   "id": "adba74ff",
   "metadata": {},
   "outputs": [],
   "source": [
    "# Visualize and analyze decomposition components\n",
    "# YOUR CODE HERE"
   ]
  },
  {
   "cell_type": "markdown",
   "id": "a73e9543",
   "metadata": {},
   "source": [
    "**⚙️ Test Your Work:**\n",
    "\n",
    "- You should see four plots: original data, trend, seasonal, and residual components\n",
    "- The seasonal component should show a clear yearly pattern\n",
    "\n",
    "## ✅ Success Checklist\n",
    "- Data is loaded correctly with dates as the index\n",
    "- Missing values are properly handled\n",
    "- Time series visualization is created with proper labels\n",
    "- Seasonal decomposition is correctly applied\n",
    "- Decomposition components are visualized and analyzed\n",
    "- Program runs without errors\n",
    "\n",
    "## 🔍 Common Issues & Solutions\n",
    "**Problem:** Date parsing errors when loading the data\n",
    "\n",
    "**Solution:** Ensure you're using `parse_dates=True` and set the index correctly with `index_col='Date'`\n",
    "\n",
    "**Problem:** Error during seasonal decomposition\n",
    "\n",
    "**Solution:** Check that there are no missing values in your data before decomposition and that you've set an appropriate period parameter\n",
    "\n",
    "\n",
    "## 🔑 Key Points\n",
    "- Time series decomposition helps separate the underlying patterns from noise\n",
    "- Seasonal patterns in temperature data typically follow yearly cycles\n",
    "- Interpolation is a common technique for handling missing values in time series data\n",
    "- Understanding each component can help make better predictions and business decisions"
   ]
  },
  {
   "cell_type": "markdown",
   "id": "5dcc6828",
   "metadata": {},
   "source": [
    "## 💻 Exemplar Solution"
   ]
  },
  {
   "cell_type": "markdown",
   "id": "a9bcda78",
   "metadata": {},
   "source": [
    "<details>\n",
    "\n",
    "<summary><strong>Click HERE to see an exemplar solution</strong></summary>    \n",
    "    \n",
    "```python\n",
    "# Starter code - imports\n",
    "import pandas as pd\n",
    "import matplotlib.pyplot as plt\n",
    "import numpy as np\n",
    "from statsmodels.tsa.seasonal import seasonal_decompose\n",
    "\n",
    "# Load and explore the dataset\n",
    "data = pd.read_csv('daily-minimum-temperatures-in-me.csv', index_col='Date', parse_dates=True)\n",
    "# Convert the '#Daily minimum temperatures' column to numeric\n",
    "data['Daily minimum temperatures'] = pd.to_numeric(data['Daily minimum temperatures'], errors='coerce')\n",
    "\n",
    "# Handle missing values by interpolation before decomposition\n",
    "# Linear interpolation is used here, other methods like 'spline', 'polynomial' can also be considered\n",
    "data['Daily minimum temperatures'] = data['Daily minimum temperatures'].interpolate(method='linear')\n",
    "\n",
    "print(data.head())\n",
    "print(data.info())\n",
    "\n",
    "# Visualize the time series\n",
    "data.plot()\n",
    "plt.title('Daily Minimum Temperatures')\n",
    "plt.ylabel('Minimum Temp for Day')\n",
    "plt.xlabel('Date')\n",
    "plt.show()\n",
    "\n",
    "# Perform Seasonal Decomposition\n",
    "decomposition = seasonal_decompose(data['Daily minimum temperatures'], model='additive', period=365)\n",
    "\n",
    "# Visualize and analyze each component\n",
    "decomposition.plot()\n",
    "plt.show()\n",
    "\n",
    "# Reflect on the long-term trends and seasonality\n",
    "# Document insights that could guide decision-making\n",
    "    \n",
    "``` "
   ]
  }
 ],
 "metadata": {
  "kernelspec": {
   "display_name": "Python 3 (ipykernel)",
   "language": "python",
   "name": "python3"
  },
  "language_info": {
   "codemirror_mode": {
    "name": "ipython",
    "version": 3
   },
   "file_extension": ".py",
   "mimetype": "text/x-python",
   "name": "python",
   "nbconvert_exporter": "python",
   "pygments_lexer": "ipython3",
   "version": "3.10.6"
  }
 },
 "nbformat": 4,
 "nbformat_minor": 5
}
