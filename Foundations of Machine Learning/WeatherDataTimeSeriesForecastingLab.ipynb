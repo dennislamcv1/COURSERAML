{
 "cells": [
  {
   "cell_type": "markdown",
   "id": "6fed7233",
   "metadata": {},
   "source": [
    "# 👩‍💻 Weather Data Time Series Forecasting Lab\n",
    "\n",
    "## 📋 Overview\n",
    "In this lab, you'll apply time series forecasting techniques to weather data, predicting temperature patterns using ARIMA and Exponential Smoothing models. You'll download historical weather data, prepare it for analysis, implement both forecasting methods, and evaluate their comparative performance. This practical exercise will help you understand when and how to apply different forecasting techniques to extract insights from time series data.\n",
    "\n",
    "## 🎯 Learning Outcomes\n",
    "By the end of this lab, you will be able to:\n",
    "\n",
    "- Download and prepare time series weather data for forecasting\n",
    "- Implement and configure ARIMA models for temperature prediction\n",
    "- Apply Exponential Smoothing techniques with seasonal components\n",
    "- Evaluate and compare forecasting methods using standard accuracy metrics\n",
    "- Visualize time series predictions and interpret the results\n",
    "\n",
    "## 🚀 Starting Point\n",
    "Required tools/setup:\n",
    "\n",
    "- Python 3.x\n",
    "- Pandas, NumPy, Matplotlib, Statsmodels, and Scikit-learn libraries\n"
   ]
  },
  {
   "cell_type": "markdown",
   "id": "ca5885e9",
   "metadata": {},
   "source": [
    "## Task 1: Basic checks on the dataset and exploration\n",
    "**Context:** Weather forecasters need historical data to build reliable prediction models. Check the min and max dates, the data trends and if there are missing values.\n",
    "\n",
    "**Steps:**\n",
    "\n",
    "1. Load the data and consider any overall trends:\n",
    "\n",
    " - Use `pd.read_csv()` to load data from the file\n",
    " - Check if there is any missing data\n",
    " - Any hypothesis basis the visual trends?\n"
   ]
  },
  {
   "cell_type": "code",
   "execution_count": null,
   "id": "94be35dd",
   "metadata": {},
   "outputs": [],
   "source": [
    "# Starter code - import necessary libraries\n",
    "import os\n",
    "import pandas as pd\n",
    "import matplotlib.pyplot as plt\n",
    "import numpy as np\n",
    "from statsmodels.tsa.arima.model import ARIMA\n",
    "from statsmodels.tsa.holtwinters import ExponentialSmoothing\n",
    "from sklearn.metrics import mean_absolute_error, mean_squared_error\n",
    "\n",
    "# Load and explore the GSOD dataset\n",
    "\n",
    "data = pd.read_csv(\"niagara_falls_weather_data/weather_data.csv\")\n",
    "print(data.head())\n",
    "# Convert DATE to datetime and set as index\n",
    "data['DATE'] = pd.to_datetime(data['DATE'])\n",
    "data.set_index('DATE', inplace=True)"
   ]
  },
  {
   "cell_type": "markdown",
   "id": "acf7c3a7",
   "metadata": {},
   "source": [
    "2. Basic exploration of dataset"
   ]
  },
  {
   "cell_type": "code",
   "execution_count": null,
   "id": "d6ec4dde",
   "metadata": {},
   "outputs": [],
   "source": [
    "# YOUR CODE HERE"
   ]
  },
  {
   "cell_type": "markdown",
   "id": "0d61281e",
   "metadata": {},
   "source": [
    "💡 **Tip:** Use try-except blocks to handle potential network or file errors when downloading data.\n",
    "\n",
    "⚙️ **Test Your Work:**\n",
    "\n",
    "- Verify that the CSV file is loaded as expected\n",
    "- Check that the file contains data for all years requested\n"
   ]
  },
  {
   "cell_type": "markdown",
   "id": "b04bb6c6",
   "metadata": {},
   "source": [
    "## Task 2: Explore and Visualize the Weather Data\n",
    "**Context:** Before building forecasting models, data scientists need to understand the patterns and characteristics of their time series data.\n",
    "\n",
    "**Steps:**\n",
    "\n",
    "1. Load the downloaded dataset and prepare it for time series analysis:\n",
    " - Read the CSV file using pandas\n",
    " - Convert the date column to datetime format and set it as the index\n",
    " - Handle missing values (GSOD uses 9999.9 to indicate missing data)"
   ]
  },
  {
   "cell_type": "code",
   "execution_count": null,
   "id": "3c52f956",
   "metadata": {},
   "outputs": [],
   "source": [
    "# Load and prepare the data\n",
    "# YOUR CODE HERE"
   ]
  },
  {
   "cell_type": "markdown",
   "id": "d38903e1",
   "metadata": {},
   "source": [
    "2. Create a visualization of the temperature data:\n",
    " - Plot the daily mean temperature over time\n",
    " - Add appropriate titles, labels, and grid\n",
    " - Observe any trends, seasonality, or irregularities"
   ]
  },
  {
   "cell_type": "code",
   "execution_count": null,
   "id": "f30c706c",
   "metadata": {},
   "outputs": [],
   "source": [
    "# Visualize the daily temperature data\n",
    "# YOUR CODE HERE"
   ]
  },
  {
   "cell_type": "markdown",
   "id": "8fd2084c",
   "metadata": {},
   "source": [
    "💡 **Tip:** Look for seasonal patterns in temperature data that will inform your forecasting models.\n",
    "\n",
    "⚙️ **Test Your Work:**\n",
    "\n",
    "- The plot should show clear temperature patterns over time\n",
    "- There should be no extreme outliers (like 9999.9) visible in your data"
   ]
  },
  {
   "cell_type": "markdown",
   "id": "40507f24",
   "metadata": {},
   "source": [
    "## Task 3: Split Data and Implement ARIMA Forecasting\n",
    "**Context:** Time series forecasting requires separate training and testing datasets to evaluate model performance properly.\n",
    "\n",
    "**Steps:**\n",
    "\n",
    "1. Split the data into training and testing sets:\n",
    " - Use 80% of the data for training and 20% for testing\n",
    " - Store the length of the test period for later use"
   ]
  },
  {
   "cell_type": "code",
   "execution_count": null,
   "id": "80611059",
   "metadata": {},
   "outputs": [],
   "source": [
    "# Split data for training and evaluation\n",
    "# YOUR CODE HERE"
   ]
  },
  {
   "cell_type": "markdown",
   "id": "d33c3835",
   "metadata": {},
   "source": [
    "2. Implement the ARIMA model for temperature forecasting:\n",
    " - Import the ARIMA model from statsmodels\n",
    " - Set appropriate order parameters (p, d, q)\n",
    " - Fit the model to your training data\n",
    " - Generate forecasts for the test period"
   ]
  },
  {
   "cell_type": "code",
   "execution_count": null,
   "id": "22cf11f0",
   "metadata": {},
   "outputs": [],
   "source": [
    "# Implement ARIMA Forecasting\n",
    "# YOUR CODE HERE"
   ]
  },
  {
   "cell_type": "markdown",
   "id": "9e4c26fb",
   "metadata": {},
   "source": [
    "**💡 Tip**: For ARIMA models, p controls the autoregressive terms, d handles differencing, and q manages moving average terms. Start with (5,1,0) and adjust based on results.\n",
    "\n",
    "**⚙️ Test Your Work:**\n",
    "\n",
    "- The ARIMA model should fit without errors\n",
    "- You should have forecast values for each day in your test period"
   ]
  },
  {
   "cell_type": "markdown",
   "id": "079a7137",
   "metadata": {},
   "source": [
    "## Task 4: Implement Exponential Smoothing\n",
    "**Context:** Exponential Smoothing is another popular forecasting method that can capture both trend and seasonality in time series data.\n",
    "\n",
    "**Steps:**\n",
    "\n",
    "1. Apply the Exponential Smoothing model:\n",
    " - Import ExponentialSmoothing from statsmodels\n",
    " - Configure the model with trend and seasonality components\n",
    " - Set an appropriate seasonal period (7 for weekly patterns)\n",
    " - Fit the model to your training data\n",
    " - Generate forecasts for the test period"
   ]
  },
  {
   "cell_type": "code",
   "execution_count": null,
   "id": "81567938",
   "metadata": {},
   "outputs": [],
   "source": [
    "# Apply Exponential Smoothing\n",
    "# YOUR CODE HERE"
   ]
  },
  {
   "cell_type": "markdown",
   "id": "a4fae488",
   "metadata": {},
   "source": [
    "💡 **Tip:** For daily temperature data, consider both weekly (7-day) and yearly (365-day) seasonal patterns.\n",
    "\n",
    "**⚙️ Test Your Work:**\n",
    "\n",
    "- The Exponential Smoothing model should fit without errors\n",
    "- You should have forecast values for each day in your test period"
   ]
  },
  {
   "cell_type": "markdown",
   "id": "982aa6bb",
   "metadata": {},
   "source": [
    "## Task 5: Visualize and Compare Forecast Results\n",
    "**Context:** Visual comparison of forecasts helps analysts determine which model best captures the patterns in the data.\n",
    "\n",
    "**Steps:**\n",
    "\n",
    "1. Create a combined plot showing both forecasting methods:\n",
    " - Plot the training data, actual test data, and both forecasts\n",
    " - Use different line styles to distinguish between data series\n",
    " - Add appropriate labels, title, and legend\n"
   ]
  },
  {
   "cell_type": "code",
   "execution_count": null,
   "id": "dbf1cd2b",
   "metadata": {},
   "outputs": [],
   "source": [
    "# Create a combined visualization of both forecasts\n",
    "# YOUR CODE HERE"
   ]
  },
  {
   "cell_type": "markdown",
   "id": "c13a4213",
   "metadata": {},
   "source": [
    "2. Generate individual plots for each forecasting method:\n",
    " - Create separate visualizations for ARIMA and Exponential Smoothing\n",
    " - Include training data, actual test data, and forecast values\n",
    " - Add appropriate formatting and labels"
   ]
  },
  {
   "cell_type": "code",
   "execution_count": null,
   "id": "fbde95d1",
   "metadata": {},
   "outputs": [],
   "source": [
    "# Create individual plots for each forecasting method\n",
    "# YOUR CODE HERE"
   ]
  },
  {
   "cell_type": "markdown",
   "id": "78f3670b",
   "metadata": {},
   "source": [
    "**💡 Tip:** Use different colors and line styles to clearly differentiate between actual values and predictions.\n",
    "\n",
    "**⚙️ Test Your Work:**\n",
    "\n",
    "- The plots should clearly show the relationship between actual and predicted values\n",
    "- Legends should correctly identify each data series"
   ]
  },
  {
   "cell_type": "markdown",
   "id": "e0f2adf4",
   "metadata": {},
   "source": [
    "## Task 6: Evaluate Forecast Accuracy\n",
    "**Context:** Quantitative metrics help analysts objectively compare the accuracy of different forecasting methods.\n",
    "\n",
    "**Steps:**\n",
    "\n",
    "1. Calculate error metrics for both forecasting methods:\n",
    " - Compute Mean Absolute Error (MAE)\n",
    " - Calculate Mean Squared Error (MSE)\n",
    " - Determine Root Mean Squared Error (RMSE)\n",
    " - Compare the results between ARIMA and Exponential Smoothing"
   ]
  },
  {
   "cell_type": "code",
   "execution_count": null,
   "id": "4399d96d",
   "metadata": {},
   "outputs": [],
   "source": [
    "# Evaluate forecast accuracy\n",
    "# YOUR CODE HERE"
   ]
  },
  {
   "cell_type": "markdown",
   "id": "3c3aae3c",
   "metadata": {},
   "source": [
    "2. Analyze the results and determine which model performed better for this dataset.\n",
    "\n",
    "**💡 Tip:** Lower values for MAE, MSE, and RMSE indicate better forecast accuracy.\n",
    "\n",
    "**⚙️ Test Your Work:**\n",
    "\n",
    "- You should have numerical values for each error metric\n",
    "- The metrics should allow for clear comparison between models"
   ]
  },
  {
   "cell_type": "markdown",
   "id": "1b883a66",
   "metadata": {},
   "source": [
    "## ✅ Success Checklist\n",
    "\n",
    "- Successfully downloaded and combined weather data from multiple years\n",
    "- Properly prepared and visualized the time series data\n",
    "- Split the data appropriately for training and testing\n",
    "- Implemented and configured an ARIMA model for temperature forecasting\n",
    "- Applied Exponential Smoothing with seasonal components\n",
    "- Created clear visualizations comparing actual values with forecasts\n",
    "- Calculated and compared accuracy metrics for both forecasting methods\n",
    "- Program runs without errors\n",
    "\n",
    "## 🔍 Common Issues & Solutions\n",
    "\n",
    "**Problem:** CSV file not downloading properly. \n",
    "\n",
    "**Solution:** Check your internet connection and verify the station ID and URL format.\n",
    "\n",
    "**Problem:** ARIMA model throwing convergence errors.\n",
    "\n",
    "**Solution:** Try different order parameters (p,d,q) or use auto_arima from pmdarima package to find optimal parameters.\n",
    "\n",
    "**Problem:** Forecasts show unrealistic temperature values.\n",
    "\n",
    "**Solution:** Ensure proper data cleaning, especially removing outliers and handling missing values correctly.\n",
    "\n",
    "## 🔑 Key Points\n",
    "\n",
    "- Time series forecasting requires proper data preparation, including handling missing values and setting the date as index\n",
    "- ARIMA models are useful for capturing autocorrelations in time series data\n",
    "- Exponential Smoothing excels at capturing trend and seasonality components\n",
    "- Visualization is essential for understanding time series patterns and forecast performance\n",
    "- Multiple evaluation metrics should be used to compare forecasting methods objectively"
   ]
  },
  {
   "cell_type": "markdown",
   "id": "4754f17d",
   "metadata": {},
   "source": [
    "## 💻Exemplar Solution\n",
    "After completing this activity (or if you get stuck!), take a moment to review the exemplar solution. This sample solution can offer insights into different techniques and approaches.\n",
    "Reflect on what you can learn from the exemplar solution to improve your coding skills.\n",
    "Remember, multiple solutions can exist for some problems; the goal is to learn and grow as a programmer by exploring various approaches.\n",
    "Use the exemplar solution as a learning tool to enhance your understanding and refine your approach to coding challenges."
   ]
  },
  {
   "cell_type": "markdown",
   "id": "82fa8d9f",
   "metadata": {},
   "source": [
    "<details>\n",
    "\n",
    "<summary><strong>Click HERE to see an exemplar solution</strong></summary>    \n",
    "    \n",
    "```python\n",
    "# Starter code - import necessary libraries\n",
    "import os\n",
    "import pandas as pd\n",
    "import matplotlib.pyplot as plt\n",
    "import numpy as np\n",
    "from statsmodels.tsa.arima.model import ARIMA\n",
    "from statsmodels.tsa.holtwinters import ExponentialSmoothing\n",
    "from sklearn.metrics import mean_absolute_error, mean_squared_error\n",
    "\n",
    "# Load and explore the GSOD dataset\n",
    "\n",
    "data = pd.read_csv(\"niagara_falls_weather_data/weather_data.csv\")\n",
    "print(data.head())\n",
    "# Convert DATE to datetime and set as index\n",
    "data['DATE'] = pd.to_datetime(data['DATE'])\n",
    "data.set_index('DATE', inplace=True)\n",
    "\n",
    "# Let's use the TEMP (mean temperature) column for forecasting\n",
    "# First, let's clean the data - GSOD uses 9999.9 for missing values\n",
    "data['TEMP'] = data['TEMP'].replace(9999.9, np.nan)\n",
    "data = data.dropna(subset=['TEMP'])\n",
    "\n",
    "# Exploratory visualization\n",
    "plt.figure(figsize=(12, 6))\n",
    "data['TEMP'].plot()\n",
    "plt.title('Daily Mean Temperature')\n",
    "plt.ylabel('Temperature (°F)')\n",
    "plt.xlabel('Date')\n",
    "plt.grid(True)\n",
    "plt.show()\n",
    "\n",
    "# Split data for training and evaluation\n",
    "# Let's use 80% for training, 20% for testing\n",
    "train_size = int(len(data) * 0.8)\n",
    "train_data = data[:train_size]\n",
    "test_data = data[train_size:]\n",
    "test_period = len(test_data)\n",
    "\n",
    "# Implement ARIMA Forecasting - adjust order parameters as needed for temperature data\n",
    "arima_model = ARIMA(train_data['TEMP'], order=(2, 1, 2))  # AR(2), I(1), MA(2)\n",
    "arima_fit = arima_model.fit()\n",
    "arima_forecast = arima_fit.forecast(steps=test_period)\n",
    "\n",
    "# Apply Exponential Smoothing\n",
    "# For temperature data, seasonal_periods=365 might be more appropriate\n",
    "# But for a short dataset, we might use 7 for weekly patterns\n",
    "exp_smooth_model = ExponentialSmoothing(\n",
    "    train_data['TEMP'],\n",
    "    trend='add',\n",
    "    seasonal='add',\n",
    "    seasonal_periods=365,\n",
    "    damped_trend=True\n",
    "\n",
    ")\n",
    "exp_fit = exp_smooth_model.fit()\n",
    "exp_forecast = exp_fit.forecast(steps=test_period)\n",
    "\n",
    "# Visualize forecasts against actual data\n",
    "plt.figure(figsize=(14, 7))\n",
    "plt.plot(train_data['TEMP'], label='Training Data')\n",
    "plt.plot(test_data['TEMP'], label='Actual Temperature')\n",
    "plt.plot(test_data.index, arima_forecast, label='ARIMA Forecast', linestyle='--')\n",
    "plt.plot(test_data.index, exp_forecast, label='Exponential Smoothing Forecast', linestyle='-.')\n",
    "plt.title('Temperature Forecasts Comparison')\n",
    "plt.ylabel('Temperature (°F)')\n",
    "plt.xlabel('Date')\n",
    "plt.legend()\n",
    "plt.grid(True)\n",
    "plt.show()\n",
    "\n",
    "# Individual model plots\n",
    "plt.figure(figsize=(12, 6))\n",
    "plt.plot(train_data['TEMP'], label='Training Data')\n",
    "plt.plot(test_data['TEMP'], label='Actual Temperature')\n",
    "plt.plot(test_data.index, arima_forecast, label='ARIMA Forecast', linestyle='--')\n",
    "plt.title('ARIMA Temperature Forecast')\n",
    "plt.ylabel('Temperature (°F)')\n",
    "plt.xlabel('Date')\n",
    "plt.legend()\n",
    "plt.grid(True)\n",
    "plt.show()\n",
    "\n",
    "plt.figure(figsize=(12, 6))\n",
    "plt.plot(train_data['TEMP'], label='Training Data')\n",
    "plt.plot(test_data['TEMP'], label='Actual Temperature')\n",
    "plt.plot(test_data.index, exp_forecast, label='Exponential Smoothing Forecast', linestyle='--')\n",
    "plt.title('Exponential Smoothing Temperature Forecast')\n",
    "plt.ylabel('Temperature (°F)')\n",
    "plt.xlabel('Date')\n",
    "plt.legend()\n",
    "plt.grid(True)\n",
    "plt.show()\n",
    "\n",
    "# Evaluate Forecast Accuracy\n",
    "print('ARIMA MAE:', mean_absolute_error(test_data['TEMP'], arima_forecast))\n",
    "print('Exp. Smoothing MAE:', mean_absolute_error(test_data['TEMP'], exp_forecast))\n",
    "print('ARIMA MSE:', mean_squared_error(test_data['TEMP'], arima_forecast))\n",
    "print('Exp. Smoothing MSE:', mean_squared_error(test_data['TEMP'], exp_forecast))\n",
    "print('ARIMA RMSE:', np.sqrt(mean_squared_error(test_data['TEMP'], arima_forecast)))\n",
    "print('Exp. Smoothing RMSE:', np.sqrt(mean_squared_error(test_data['TEMP'], exp_forecast)))\n",
    "  ```"
   ]
  }
 ],
 "metadata": {
  "kernelspec": {
   "display_name": "Python 3 (ipykernel)",
   "language": "python",
   "name": "python3"
  },
  "language_info": {
   "codemirror_mode": {
    "name": "ipython",
    "version": 3
   },
   "file_extension": ".py",
   "mimetype": "text/x-python",
   "name": "python",
   "nbconvert_exporter": "python",
   "pygments_lexer": "ipython3",
   "version": "3.10.6"
  }
 },
 "nbformat": 4,
 "nbformat_minor": 5
}
