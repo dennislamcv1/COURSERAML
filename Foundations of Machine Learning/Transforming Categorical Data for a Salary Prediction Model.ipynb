{
 "cells": [
  {
   "cell_type": "markdown",
   "id": "cf2b192e",
   "metadata": {},
   "source": [
    "\n",
    "# 👩‍💻 Data Preparation: Encoding Categorical Variables for Salary Prediction\n",
    "\n",
    "## 📋 Overview\n",
    "In this lab, you'll learn how to transform categorical data into numerical form - a crucial step in preparing data for machine learning models. You'll work with a dataset containing information about individuals' salaries, education levels, and occupations. By applying appropriate encoding techniques to these categorical variables, you'll prepare the data for a salary prediction model while maintaining the underlying relationships within the data.\n",
    "\n",
    "## 🎯 Learning Outcomes\n",
    "By the end of this lab, you will be able to:\n",
    "\n",
    "- Identify which categorical variables need transformation and select appropriate encoding techniques\n",
    "\n",
    "- Implement One-Hot Encoding for nominal categorical variables using scikit-learn\n",
    "\n",
    "- Apply Label Encoding for ordinal categorical variables\n",
    "\n",
    "- Integrate encoded variables back into a dataset for machine learning preparation\n",
    "\n",
    "## 🚀 Starting Point\n"
   ]
  },
  {
   "cell_type": "code",
   "execution_count": null,
   "id": "5434bd5d",
   "metadata": {},
   "outputs": [],
   "source": [
    "# Starter code - imports and data loading\n",
    "import pandas as pd\n",
    "import numpy as np\n",
    "from sklearn.preprocessing import OneHotEncoder, LabelEncoder\n",
    "\n",
    "# Load the dataset\n",
    "data = pd.read_csv('Salary Data.csv')"
   ]
  },
  {
   "cell_type": "markdown",
   "id": "ce7d9e8c",
   "metadata": {},
   "source": [
    "## Task 1: Dataset Exploration\n",
    "**Context:** Before we can process categorical data, we need to understand the structure of our dataset and identify which variables need encoding.\n",
    "\n",
    "**Steps:**\n",
    "\n",
    "1. Use the `head()` method to view the first few rows of the dataset\n",
    " - This will help you identify the columns present in the dataset\n",
    " - Look for categorical variables like job titles and education levels\n",
    "\n",
    "2. Use the `describe()` method to get summary statistics for numerical columns\n",
    "  - Pay attention to which columns are included or excluded from this summary\n",
    "  - Columns not included are likely categorical and will need encoding\n",
    "\n",
    "3. Examine the unique values in each categorical column\n",
    "\n",
    "  - Use `data['column_name'].unique()` to see the distinct categories\n",
    "  - Note whether categories have a natural order (ordinal) or not (nominal)\n"
   ]
  },
  {
   "cell_type": "code",
   "execution_count": null,
   "id": "71f8cfe5",
   "metadata": {},
   "outputs": [],
   "source": [
    "# Your code for dataset exploration"
   ]
  },
  {
   "cell_type": "markdown",
   "id": "eb9630bf",
   "metadata": {},
   "source": [
    "💡 **Tip:** Pay special attention to the data types returned by `data.info()` - columns with 'object' or 'string' types typically contain categorical data.\n",
    "\n",
    "⚙️ **Test Your Work:**\n",
    "\n",
    "- Your output should show that the dataset contains categorical columns including 'Job Title' and 'Education Level'\n",
    "- You should be able to identify which columns need encoding for machine learning use\n"
   ]
  },
  {
   "cell_type": "markdown",
   "id": "e34d78b1",
   "metadata": {},
   "source": [
    "## Task 2: Select Encoding Techniques\n",
    "**Context:** Different types of categorical data require different encoding approaches. In this task, you'll determine which encoding technique is best for each categorical variable.\n",
    "\n",
    "**Steps:**\n",
    "\n",
    "1. Identify nominal categorical variables (no inherent order)\n",
    "\n",
    " - Look at 'Job Title' - does one occupation inherently rank above another?\n",
    " - Consider whether One-Hot Encoding would be appropriate for this variable\n",
    "\n",
    "2. Identify ordinal categorical variables (have a natural order)\n",
    "\n",
    " - Examine 'Education Level' - do the values have a natural progression?\n",
    " - Consider whether Label Encoding would preserve the ordinal relationship\n"
   ]
  },
  {
   "cell_type": "code",
   "execution_count": null,
   "id": "9e03ed5e",
   "metadata": {},
   "outputs": [],
   "source": [
    "# Your code for identifying variable types and selecting encoding techniques"
   ]
  },
  {
   "cell_type": "markdown",
   "id": "c33f4273",
   "metadata": {},
   "source": [
    "💡 **Tip:** One-Hot Encoding creates new binary columns for each category, while Label Encoding assigns a single numeric value to each category. Choose based on whether the relationship between categories matters.\n",
    "\n",
    "⚙️ **Test Your Work:**\n",
    "\n",
    "- You should have clearly identified 'Job Title' as a nominal variable suitable for One-Hot Encoding\n",
    "- You should have identified 'Education Level' as an ordinal variable suitable for Label Encoding\n"
   ]
  },
  {
   "cell_type": "markdown",
   "id": "69017aae",
   "metadata": {},
   "source": [
    "## Task 3: Apply One-Hot Encoding\n",
    "**Context:** One-Hot Encoding transforms a categorical variable into multiple binary columns, one for each category. This prevents the model from assuming ordinal relationships between categories.\n",
    "\n",
    "**Steps:**\n",
    "\n",
    "1. Import and initialize the OneHotEncoder\n",
    "\n",
    " - Set `sparse_output=False` to get a dense array rather than a sparse matrix\n",
    "\n",
    "2. Apply the encoder to the 'Job Title' column\n",
    "\n",
    " - Use `fit_transform()` on the column reshaped as a 2D array\n",
    " - Note that OneHotEncoder expects a 2D array input, so use double brackets: `[['column_name']]`\n",
    "\n",
    "3. Convert the encoded array to a DataFrame with appropriate column names\n",
    "\n",
    " - Use `encoder.get_feature_names_out()` to generate the column names\n",
    " - Create a DataFrame with these names and the encoded values"
   ]
  },
  {
   "cell_type": "code",
   "execution_count": null,
   "id": "0c02d6de",
   "metadata": {},
   "outputs": [],
   "source": [
    "# Your code for One-Hot Encoding"
   ]
  },
  {
   "cell_type": "markdown",
   "id": "3befdc3d",
   "metadata": {},
   "source": [
    "💡 **Tip:** Check the shape of your output to ensure you have the expected number of new columns (one for each unique job title).\n",
    "\n",
    "⚙️ **Test Your Work:**\n",
    "\n",
    "- Your output should include new binary columns for each unique job title\n",
    "- Each row should have a 1 in exactly one of the job title columns and 0s elsewhere\n"
   ]
  },
  {
   "cell_type": "markdown",
   "id": "b44a7dcf",
   "metadata": {},
   "source": [
    "## Task 4: Apply Label Encoding\n",
    "**Context:** Label Encoding converts categorical values into numeric values while preserving the ordinal relationship between categories.\n",
    "\n",
    "**Steps:**\n",
    "\n",
    "1. Import and initialize the LabelEncoder\n",
    "\n",
    "2. Apply the encoder to the 'Education Level' column\n",
    "\n",
    " - Use `fit_transform()` directly on the column\n",
    " - Add the result as a new column in your DataFrame\n",
    "\n",
    "3. Confirm the mapping between original values and encoded values\n",
    "\n",
    " - Use `label_encoder.classes_` to see the original categories\n",
    " - The index of each category in this array corresponds to its encoded value\n"
   ]
  },
  {
   "cell_type": "code",
   "execution_count": null,
   "id": "d77bd316",
   "metadata": {},
   "outputs": [],
   "source": [
    "# Your code for Label Encoding"
   ]
  },
  {
   "cell_type": "markdown",
   "id": "4750ab77",
   "metadata": {},
   "source": [
    "💡 **Tip:** If the order of your categories matters (e.g., 'High School' < 'Bachelor' < 'Master'), you may need to manually specify this order rather than letting LabelEncoder decide automatically.\n",
    "\n",
    "⚙️ **Test Your Work:**\n",
    "\n",
    "- You should have a new column like 'Education_Level_Encoded' containing numeric values\n",
    "- Higher education levels should generally have higher encoded values\n"
   ]
  },
  {
   "cell_type": "markdown",
   "id": "fae7a1ed",
   "metadata": {},
   "source": [
    "## Task 5: Prepare Data for Modeling\n",
    "**Context:** Now that we've encoded our categorical variables, we need to integrate them into a final dataset ready for machine learning.\n",
    "\n",
    "**Steps:**\n",
    "\n",
    "1. Drop the original categorical columns from the dataset\n",
    "\n",
    " - These are no longer needed since we have encoded versions\n",
    "\n",
    "2. Concatenate the original numeric columns with the encoded categorical columns\n",
    "\n",
    " - Use `pd.concat()` to join DataFrames along the column axis (axis=1)\n",
    "\n",
    "3. Verify that the final dataset contains all necessary features in appropriate format\n",
    "\n",
    " - Check that all categorical data has been properly encoded\n",
    " - Ensure there are no missing values\n"
   ]
  },
  {
   "cell_type": "code",
   "execution_count": null,
   "id": "61ffa864",
   "metadata": {},
   "outputs": [],
   "source": [
    "# Your code for integrating encoded data"
   ]
  },
  {
   "cell_type": "markdown",
   "id": "d79d8535",
   "metadata": {},
   "source": [
    "💡 **Tip:** Always check your final dataset shape to confirm you have the expected number of rows and columns after joining.\n",
    "\n",
    "⚙️ **Test Your Work:**\n",
    "\n",
    "- Your final DataFrame should no longer contain string-based categorical columns\n",
    "- The row count should match your original dataset\n",
    "- The column count should be greater than the original due to one-hot encoding\n"
   ]
  },
  {
   "cell_type": "markdown",
   "id": "97153e3e",
   "metadata": {},
   "source": [
    "## ✅ Success Checklist\n",
    "\n",
    "- Successfully loaded and explored the salary dataset\n",
    "- Identified which variables require encoding and selected appropriate techniques\n",
    "- Applied One-Hot Encoding to the 'Job Title' variable\n",
    "- Applied Label Encoding to the 'Education Level' variable\n",
    "- Created a final dataset with all categorical variables properly encoded\n",
    "- Documented the reasoning behind encoding choices\n",
    "- Program runs without errors\n",
    "\n",
    "## 🔍 Common Issues & Solutions\n",
    "\n",
    "**Problem:** One-Hot Encoding creates too many columns when there are many unique categories.\n",
    "\n",
    "**Solution:** Consider grouping similar categories together before encoding, or use dimensionality reduction techniques afterward.\n",
    "\n",
    "**Problem:** LabelEncoder assigns numbers based on alphabetical order, which may not match the logical ordering.\n",
    "\n",
    "**Solution:** Create a custom mapping dictionary to assign numbers in the correct order, or use OrdinalEncoder with specified category orders.\n",
    "\n",
    "**Problem:** Missing values in categorical columns cause errors during encoding.\n",
    "\n",
    "**Solution:** Handle missing values before encoding, either by filling them in or creating a separate category for missing values.\n",
    "\n",
    "## 🔑 Key Points\n",
    "- The choice of encoding technique depends on the nature of the categorical variable and its relationship to the target variable\n",
    "- One-Hot Encoding preserves the lack of order in nominal variables but increases dimensionality\n",
    "- Label Encoding is efficient for ordinal variables but can mislead models with non-ordinal data\n",
    "- Proper encoding is essential for machine learning models to effectively use categorical information\n"
   ]
  },
  {
   "cell_type": "markdown",
   "id": "1439ee33",
   "metadata": {},
   "source": [
    "## 💻 Exemplar Solution\n",
    "After completing this activity (or if you get stuck!), take a moment to review the exemplar solution. This sample solution can offer insights into different techniques and approaches.\n",
    "Reflect on what you can learn from the exemplar solution to improve your coding skills.\n",
    "Remember, multiple solutions can exist for some problems; the goal is to learn and grow as a programmer by exploring various approaches.\n",
    "Use the exemplar solution as a learning tool to enhance your understanding and refine your approach to coding challenges.\n"
   ]
  },
  {
   "cell_type": "markdown",
   "id": "61e2a1ea",
   "metadata": {},
   "source": [
    "<details>\n",
    "\n",
    "<summary><strong>Click HERE to see an exemplar solution</strong></summary>    \n",
    "    \n",
    "```python\n",
    "# Import necessary libraries\n",
    "import pandas as pd\n",
    "from sklearn.preprocessing import OneHotEncoder, LabelEncoder\n",
    "\n",
    "# Load the dataset\n",
    "data = pd.read_csv('Salary Data.csv')\n",
    "\n",
    "# Task 1: Dataset Exploration\n",
    "print(data.head())\n",
    "print(data.describe())\n",
    "print(data['Job Title'].unique())\n",
    "print(data['Education Level'].unique())\n",
    "\n",
    "# Task 2: Select Encoding Technique\n",
    "# (This is a decision point based on analysis)\n",
    "\n",
    "# Task 3: Apply One-Hot Encoding\n",
    "encoder = OneHotEncoder(sparse=False)\n",
    "occupation_encoded = encoder.fit_transform(data[['Job Title']])\n",
    "occupation_encoded_df = pd.DataFrame(occupation_encoded, \n",
    "                                    columns=encoder.get_feature_names_out(['Job Title']))\n",
    "\n",
    "# Task 4: Apply Label Encoding\n",
    "label_encoder = LabelEncoder()\n",
    "data['Education_Level_Encoded'] = label_encoder.fit_transform(data['Education Level'])\n",
    "print(\"Original education levels:\", label_encoder.classes_)\n",
    "print(\"Encoded education levels:\", {edu: idx for idx, edu in enumerate(label_encoder.classes_)})\n",
    "\n",
    "# Task 5: Prepare Data for Modeling\n",
    "data_encoded = pd.concat([data.drop(['Job Title', 'Education Level'], axis=1), \n",
    "                         occupation_encoded_df], axis=1)\n",
    "print(data_encoded.head())\n",
    "\n",
    "# Reflection\n",
    "# Note: provide your own reflection on how encoding choices\n",
    "# impact model development and performance\n",
    "    \n",
    "       \n",
    "```     "
   ]
  }
 ],
 "metadata": {
  "kernelspec": {
   "display_name": "Python 3 (ipykernel)",
   "language": "python",
   "name": "python3"
  },
  "language_info": {
   "codemirror_mode": {
    "name": "ipython",
    "version": 3
   },
   "file_extension": ".py",
   "mimetype": "text/x-python",
   "name": "python",
   "nbconvert_exporter": "python",
   "pygments_lexer": "ipython3",
   "version": "3.10.6"
  }
 },
 "nbformat": 4,
 "nbformat_minor": 5
}
