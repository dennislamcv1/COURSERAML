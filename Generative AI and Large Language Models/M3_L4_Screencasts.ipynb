{
  "nbformat": 4,
  "nbformat_minor": 0,
  "metadata": {
    "colab": {
      "provenance": []
    },
    "kernelspec": {
      "name": "python3",
      "display_name": "Python 3"
    },
    "language_info": {
      "name": "python"
    }
  },
  "cells": [
    {
      "cell_type": "markdown",
      "source": [
        "# Course 4 Module 3 Lesson 4 Screencasts"
      ],
      "metadata": {
        "id": "lIz8Fbg5ky17"
      }
    },
    {
      "cell_type": "markdown",
      "source": [
        "## M3L4SC1: Simulate an AI Agent Using OpenAI Function Calling or Tool Simulation"
      ],
      "metadata": {
        "id": "Ek1Qgdm-kyyc"
      }
    },
    {
      "cell_type": "markdown",
      "source": [
        "### Step 1: Setting Up Your Environment"
      ],
      "metadata": {
        "id": "Ysez7PIzk64_"
      }
    },
    {
      "cell_type": "code",
      "source": [
        "from openai import OpenAI\n",
        "\n",
        "client = OpenAI(api_key='your-api-key')  # For demonstration, we'll simulate responses\n",
        "\n",
        "def simulate_ai_response(prompt: str) -> str:\n",
        "    \"\"\"Simulate AI responses for demonstration\"\"\"\n",
        "    return \"I'll help solve this problem using the available functions.\""
      ],
      "metadata": {
        "id": "hvCFSjb_kynT"
      },
      "execution_count": null,
      "outputs": []
    },
    {
      "cell_type": "markdown",
      "source": [
        "### Step 2: Defining Tools and Functions"
      ],
      "metadata": {
        "id": "o6q2ze-Cl5HJ"
      }
    },
    {
      "cell_type": "code",
      "execution_count": null,
      "metadata": {
        "id": "6utYf0zZkuCN"
      },
      "outputs": [],
      "source": [
        "def calculate_sum(a: int, b: int) -> int:\n",
        "    \"\"\"Simple addition function\"\"\"\n",
        "    return a + b\n",
        "\n",
        "def select_action(speed: str, situation: str) -> str:\n",
        "    \"\"\"Choose an action based on conditions\"\"\"\n",
        "    actions = ['run', 'wait', 'stop']\n",
        "    if speed == 'fast' and situation == 'clear':\n",
        "        return 'run'\n",
        "    elif situation == 'unclear':\n",
        "        return 'wait'\n",
        "    return 'stop'"
      ]
    },
    {
      "cell_type": "markdown",
      "source": [
        "### Step 3: Creating AI Agent Prompts"
      ],
      "metadata": {
        "id": "7piDQIHmmGAW"
      }
    },
    {
      "cell_type": "code",
      "source": [
        "def create_agent_prompt(task: str, available_functions: list) -> str:\n",
        "    return f\"\"\"\n",
        "    You are a helpful AI agent. You have these functions available: {available_functions}\n",
        "\n",
        "    Your task: {task}\n",
        "\n",
        "    Think step by step:\n",
        "    1. What function will help?\n",
        "    2. What inputs are needed?\n",
        "    3. Execute the function\n",
        "    4. Report the result\n",
        "    \"\"\"\n",
        "\n",
        "# Example prompt\n",
        "calculation_prompt = create_agent_prompt(\n",
        "    task=\"Calculate the sum of 5 and 3\",\n",
        "    available_functions=[\"calculate_sum\"]\n",
        ")"
      ],
      "metadata": {
        "id": "1_h7-ASJmGj5"
      },
      "execution_count": null,
      "outputs": []
    },
    {
      "cell_type": "markdown",
      "source": [
        "### Step 4: Running the AI Agent"
      ],
      "metadata": {
        "id": "wkbB2FP5mWCb"
      }
    },
    {
      "cell_type": "code",
      "source": [
        "def run_agent(prompt: str):\n",
        "    # Simulate AI thinking and function execution\n",
        "    print(\"Agent thinking...\")\n",
        "    print(\"Using available functions...\")\n",
        "\n",
        "    if \"sum\" in prompt:\n",
        "        result = calculate_sum(5, 3)\n",
        "        return f\"I used calculate_sum(5, 3) to get: {result}\"\n",
        "    elif \"action\" in prompt:\n",
        "        result = select_action('fast', 'clear')\n",
        "        return f\"Based on conditions, I chose action: {result}\"\n",
        "\n",
        "# Try it out\n",
        "response = run_agent(calculation_prompt)\n",
        "print(response)"
      ],
      "metadata": {
        "id": "ZrIDJ1E6mWTh",
        "colab": {
          "base_uri": "https://localhost:8080/"
        },
        "outputId": "90e99db0-c883-423d-f604-513845cd7219"
      },
      "execution_count": null,
      "outputs": [
        {
          "output_type": "stream",
          "name": "stdout",
          "text": [
            "Agent thinking...\n",
            "Using available functions...\n",
            "I used calculate_sum(5, 3) to get: 8\n"
          ]
        }
      ]
    }
  ]
}