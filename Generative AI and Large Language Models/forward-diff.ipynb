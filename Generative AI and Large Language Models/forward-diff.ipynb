{
 "cells": [
  {
   "cell_type": "markdown",
   "metadata": {},
   "source": [
    "# 🤖💻 **Simulate Forward Diffusion on Images Using PyTorch**\n",
    "\n",
    "**Time Estimate:** 45 minutes\n",
    "\n",
    "## 📋 **Overview**\n",
    "\n",
    "In this activity, you'll simulate the forward diffusion process on images using PyTorch. This exercise will help you visualize and understand how diffusion models gradually transition images into noise—a key aspect of how these models generate high-quality images in practice.\n",
    "\n",
    "This knowledge is vital for roles that deal with image generation and transformation, such as AI research engineers and graphics processing specialists, because diffusion models enhance image quality and diversity.\n",
    "\n",
    "## 🎯 **Learning Outcomes**\n",
    "\n",
    "By the end of this lab, you will be able to:\n",
    "\n",
    "- Implement the forward diffusion process on images using PyTorch.\n",
    "- Visualize and understand how noise is progressively added to images.\n",
    "- Experiment with parameters affecting the noise process."
   ]
  },
  {
   "cell_type": "markdown",
   "metadata": {},
   "source": [
    "## Task 1: Select and Prepare an Image [10 minutes]"
   ]
  },
  {
   "cell_type": "code",
   "execution_count": null,
   "metadata": {},
   "outputs": [],
   "source": [
    "# imports\n",
    "import torch\n",
    "import torchvision.transforms as transforms\n",
    "from torchvision.io import read_image\n",
    "import matplotlib.pyplot as plt\n",
    "import numpy as np"
   ]
  },
  {
   "cell_type": "markdown",
   "metadata": {},
   "source": [
    "You'll begin by selecting and preparing an image using PyTorch and torchvision to convert it to a tensor format."
   ]
  },
  {
   "cell_type": "code",
   "execution_count": null,
   "metadata": {},
   "outputs": [],
   "source": [
    "# Task 1\n",
    "# your code here..."
   ]
  },
  {
   "cell_type": "markdown",
   "metadata": {},
   "source": [
    "🔍 **Practice**\n",
    "\n",
    "Consider the image preprocessing steps:\n",
    "\n",
    "1. Verify the tensor's shape and range of values.\n",
    "2. Reflect on how resizing might affect image quality."
   ]
  },
  {
   "cell_type": "markdown",
   "metadata": {},
   "source": [
    "✅ **Success Checklist**\n",
    "\n",
    "- Selected image is converted to a normalized tensor.\n",
    "- Image preparation steps are accurately implemented."
   ]
  },
  {
   "cell_type": "markdown",
   "metadata": {},
   "source": [
    "💡 **Key Points**\n",
    "\n",
    "- Normalization is crucial for image processing.\n",
    "- Image transformation prepares data for noise addition.\n",
    "\n",
    "❗ **Common Mistakes to Avoid**\n",
    "\n",
    "- Incorrect normalization: Ensure image values are normalized between [0,1].\n",
    "- Not verifying tensor dimensions before proceeding.\n",
    "- Forgetting to handle different image formats (RGB vs RGBA)."
   ]
  },
  {
   "cell_type": "markdown",
   "metadata": {},
   "source": [
    "## Task 2: Implement Noise Addition and Simulate Forward Process [20 minutes]\n",
    "Code a function to progressively add Gaussian noise to the image, followed by simulating the forward diffusion.\n",
    "1. Create a function to add Gaussian noise to images\n",
    "2. Implement the forward diffusion simulation loop\n",
    "3. Store intermediate noisy images for visualization\n",
    "4. Experiment with different noise factors and iteration counts"
   ]
  },
  {
   "cell_type": "code",
   "execution_count": null,
   "metadata": {},
   "outputs": [],
   "source": [
    "# Task 2\n",
    "# your code here ..."
   ]
  },
  {
   "cell_type": "markdown",
   "metadata": {},
   "source": [
    "🔍 **Practice**\n",
    "\n",
    "Analyze the forward diffusion process:\n",
    "\n",
    "1. Run the code to visualize the effects of progressive noise addition.\n",
    "2. Observe the impact of different noise factors and iterations."
   ]
  },
  {
   "cell_type": "markdown",
   "metadata": {},
   "source": [
    "✅ **Success Checklist**\n",
    "\n",
    "- Noise function is correctly implemented and demonstrates increasing noise.\n",
    "- Forward diffusion process is effectively simulated.\n",
    "- Visualization shows clear progression from original image to noise."
   ]
  },
  {
   "cell_type": "markdown",
   "metadata": {},
   "source": [
    "💡 **Key Points**\n",
    "\n",
    "- Gaussian noise addition simulates the forward diffusion process.\n",
    "- Clipping ensures pixel values remain in valid range.\n",
    "- Progressive noise addition gradually destroys image structure.\n",
    "\n",
    "❗ **Common Mistakes to Avoid**\n",
    "\n",
    "- Improperly handling tensors: Verify tensor dimensions and operations.\n",
    "- Not clipping values after noise addition, causing invalid pixel values.\n",
    "- Using inappropriate noise scales that either destroy the image too quickly or have minimal effect."
   ]
  },
  {
   "cell_type": "markdown",
   "metadata": {},
   "source": [
    "🚀 **Next Steps**\n",
    "\n",
    "After understanding the forward diffusion process, you'll be equipped to explore reverse processes in diffusion models and how they generate structured outputs from noise in the following modules."
   ]
  },
  {
   "cell_type": "markdown",
   "metadata": {},
   "source": [
    "## 💻 Exemplar Solution"
   ]
  },
  {
   "cell_type": "markdown",
   "metadata": {},
   "source": [
    "<details>    \n",
    "<summary><strong>Click HERE to see an exemplar solution</strong></summary>\n",
    "\n",
    "### Task 1 Solution\n",
    "    \n",
    "```python\n",
    "# Load and normalize an image\n",
    "transform = transforms.Compose([\n",
    "    transforms.ToPILImage(),\n",
    "    transforms.Resize((128, 128)),\n",
    "    transforms.ToTensor()\n",
    "])\n",
    "\n",
    "# Option 1: Use a built-in dataset image\n",
    "from torchvision.datasets import CIFAR10\n",
    "dataset = CIFAR10(root='./data', train=True, download=True, transform=None)\n",
    "sample_image, _ = dataset[0]  # Get first image\n",
    "image = transform(sample_image) / 255.0  # Normalized\n",
    "\n",
    "# Option 2: Create a synthetic image for demonstration\n",
    "# image = torch.rand(3, 128, 128)  # Random RGB image\n",
    "\n",
    "# Option 3: Use a local image file (if available)\n",
    "# image = read_image('path_to_image.jpg')\n",
    "# image = transform(image) / 255.0  # Normalized\n",
    "\n",
    "print(f\"Image shape: {image.shape}\")\n",
    "print(f\"Image value range: [{image.min():.3f}, {image.max():.3f}]\")\n",
    "\n",
    "# Display the original image\n",
    "plt.figure(figsize=(6, 6))\n",
    "plt.imshow(image.permute(1, 2, 0))\n",
    "plt.title('Original Image')\n",
    "plt.axis('off')\n",
    "plt.show()\n",
    "```\n",
    "\n",
    "### Task 2 Solution\n",
    "    \n",
    "```python\n",
    "# Function to add noise\n",
    "def add_noise(img, noise_factor):\n",
    "    \"\"\"Add Gaussian noise to an image tensor.\"\"\"\n",
    "    noisy_img = img + noise_factor * torch.randn(*img.shape)\n",
    "    return torch.clip(noisy_img, 0, 1)\n",
    "\n",
    "# Simulate forward diffusion process\n",
    "noisy_images = []\n",
    "num_iterations = 10\n",
    "noise_factor = 0.1\n",
    "current_image = image.clone()\n",
    "\n",
    "# Store the original image first\n",
    "noisy_images.append(current_image.clone())\n",
    "\n",
    "# Apply noise iteratively\n",
    "for i in range(num_iterations):\n",
    "    noisy_image = add_noise(current_image, noise_factor)\n",
    "    noisy_images.append(noisy_image.clone())\n",
    "    current_image = noisy_image\n",
    "    print(f\"Iteration {i+1}: Image range [{current_image.min():.3f}, {current_image.max():.3f}]\")\n",
    "\n",
    "# Visualization\n",
    "num_display = min(len(noisy_images), 6)  # Display first 6 images\n",
    "fig, axes = plt.subplots(1, num_display, figsize=(20, 3))\n",
    "\n",
    "for i, (ax, img) in enumerate(zip(axes, noisy_images[:num_display])):\n",
    "    ax.imshow(img.permute(1, 2, 0))\n",
    "    ax.set_title(f'Step {i}' if i == 0 else f'Step {i}')\n",
    "    ax.axis('off')\n",
    "\n",
    "plt.tight_layout()\n",
    "plt.show()\n",
    "\n",
    "# Additional visualization: Compare first and last\n",
    "fig, (ax1, ax2) = plt.subplots(1, 2, figsize=(12, 5))\n",
    "\n",
    "ax1.imshow(noisy_images[0].permute(1, 2, 0))\n",
    "ax1.set_title('Original Image')\n",
    "ax1.axis('off')\n",
    "\n",
    "ax2.imshow(noisy_images[-1].permute(1, 2, 0))\n",
    "ax2.set_title(f'After {num_iterations} Noise Steps')\n",
    "ax2.axis('off')\n",
    "\n",
    "plt.tight_layout()\n",
    "plt.show()\n",
    "\n",
    "print(f\"\\nForward diffusion simulation complete!\")\n",
    "print(f\"Original image std: {noisy_images[0].std():.4f}\")\n",
    "print(f\"Final noisy image std: {noisy_images[-1].std():.4f}\")\n",
    "```\n",
    "\n",
    "### Enhanced Solution with Parameter Exploration\n",
    "\n",
    "```python\n",
    "# Experiment with different noise factors\n",
    "def compare_noise_factors(image, factors=[0.05, 0.1, 0.2], steps=5):\n",
    "    \"\"\"Compare different noise factors side by side.\"\"\"\n",
    "    fig, axes = plt.subplots(len(factors), steps + 1, figsize=(15, 3 * len(factors)))\n",
    "    \n",
    "    for i, factor in enumerate(factors):\n",
    "        current_img = image.clone()\n",
    "        \n",
    "        # Show original\n",
    "        axes[i, 0].imshow(current_img.permute(1, 2, 0))\n",
    "        axes[i, 0].set_title(f'Original\\n(factor={factor})')\n",
    "        axes[i, 0].axis('off')\n",
    "        \n",
    "        # Apply noise steps\n",
    "        for step in range(steps):\n",
    "            current_img = add_noise(current_img, factor)\n",
    "            axes[i, step + 1].imshow(current_img.permute(1, 2, 0))\n",
    "            axes[i, step + 1].set_title(f'Step {step + 1}')\n",
    "            axes[i, step + 1].axis('off')\n",
    "    \n",
    "    plt.tight_layout()\n",
    "    plt.show()\n",
    "\n",
    "# Run the comparison\n",
    "compare_noise_factors(image)\n",
    "\n",
    "# Analyze noise statistics\n",
    "def analyze_noise_progression(image, noise_factor=0.1, steps=10):\n",
    "    \"\"\"Analyze how image statistics change during noise addition.\"\"\"\n",
    "    current_img = image.clone()\n",
    "    stats = {'mean': [], 'std': [], 'min': [], 'max': []}\n",
    "    \n",
    "    for step in range(steps + 1):\n",
    "        stats['mean'].append(current_img.mean().item())\n",
    "        stats['std'].append(current_img.std().item())\n",
    "        stats['min'].append(current_img.min().item())\n",
    "        stats['max'].append(current_img.max().item())\n",
    "        \n",
    "        if step < steps:\n",
    "            current_img = add_noise(current_img, noise_factor)\n",
    "    \n",
    "    # Plot statistics\n",
    "    fig, axes = plt.subplots(1, 4, figsize=(16, 4))\n",
    "    \n",
    "    axes[0].plot(stats['mean'])\n",
    "    axes[0].set_title('Mean Value')\n",
    "    axes[0].set_xlabel('Step')\n",
    "    \n",
    "    axes[1].plot(stats['std'])\n",
    "    axes[1].set_title('Standard Deviation')\n",
    "    axes[1].set_xlabel('Step')\n",
    "    \n",
    "    axes[2].plot(stats['min'], label='Min')\n",
    "    axes[2].plot(stats['max'], label='Max')\n",
    "    axes[2].set_title('Min/Max Values')\n",
    "    axes[2].set_xlabel('Step')\n",
    "    axes[2].legend()\n",
    "    \n",
    "    # Distribution of final noisy image\n",
    "    final_img = current_img.flatten()\n",
    "    axes[3].hist(final_img.numpy(), bins=50, alpha=0.7)\n",
    "    axes[3].set_title('Final Image Distribution')\n",
    "    axes[3].set_xlabel('Pixel Value')\n",
    "    \n",
    "    plt.tight_layout()\n",
    "    plt.show()\n",
    "\n",
    "# Run the analysis\n",
    "analyze_noise_progression(image)\n",
    "```\n",
    "</details>"
   ]
  }
 ],
 "metadata": {
  "kernelspec": {
   "display_name": "Python 3 (ipykernel)",
   "language": "python",
   "name": "python3"
  },
  "language_info": {
   "codemirror_mode": {
    "name": "ipython",
    "version": 3
   },
   "file_extension": ".py",
   "mimetype": "text/x-python",
   "name": "python",
   "nbconvert_exporter": "python",
   "pygments_lexer": "ipython3",
   "version": "3.10.6"
  }
 },
 "nbformat": 4,
 "nbformat_minor": 4
}
