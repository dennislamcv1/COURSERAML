{
 "cells": [
  {
   "cell_type": "markdown",
   "id": "13d36cf3",
   "metadata": {},
   "source": [
    "# 👩‍💻 **Sample from a Simple Generative Model**\n",
    "\n",
    "**Time Estimate:** 45 minutes\n",
    "\n",
    "## 📋 **Overview**\n",
    "\n",
    "In this activity, learners will delve into one of the fundamental processes of generative modeling—using a Gaussian Mixture Model (GMM) to generate data. You'll learn to construct this model using PyTorch and explore how it can create new samples that reflect an original dataset. This understanding is key for roles in data science, AI development, and machine learning engineering because it shows how generative models can replicate and simulate data characteristics useful in data augmentation, simulations, and creative industries.\n",
    "\n",
    "## 🎯 **Learning Outcomes**\n",
    "\n",
    "By the end of this lab, you will be able to:\n",
    "\n",
    "- Create and train a Gaussian Mixture Model using PyTorch.\n",
    "- Generate new data samples that mimic the original data distribution.\n",
    "- Analyze and compare generated data with real data to assess generative model success."
   ]
  },
  {
   "cell_type": "markdown",
   "id": "03772fac",
   "metadata": {},
   "source": [
    "## Task 1: Data Preparation [15 minutes]"
   ]
  },
  {
   "cell_type": "code",
   "execution_count": null,
   "id": "454b0a14",
   "metadata": {},
   "outputs": [],
   "source": [
    "# imports\n",
    "import torch\n",
    "from sklearn.datasets import make_blobs\n",
    "import matplotlib.pyplot as plt\n",
    "from sklearn.mixture import GaussianMixture\n"
   ]
  },
  {
   "cell_type": "markdown",
   "id": "4d43d519",
   "metadata": {},
   "source": [
    "1.  Generate a synthetic 2D Gaussian dataset and visualize its distribution."
   ]
  },
  {
   "cell_type": "code",
   "execution_count": null,
   "id": "2c8b2428",
   "metadata": {},
   "outputs": [],
   "source": [
    "# Task 1\n",
    "# your code here..."
   ]
  },
  {
   "cell_type": "markdown",
   "id": "3b9c4b29",
   "metadata": {},
   "source": [
    "✅ **Success Checklist**\n",
    "\n",
    "- The data visualization correctly shows two distinct clusters.\n",
    "- Identify distinct clusters based on your visual assessment."
   ]
  },
  {
   "cell_type": "markdown",
   "id": "ab3eadd9",
   "metadata": {},
   "source": [
    "💡 **Key Points**\n",
    "\n",
    "- Synthetic data generation is useful for controlled experiments.\n",
    "- Visual exploration of data is crucial to understand underlying patterns.\n",
    "\n",
    "❗ **Common Mistakes to Avoid**\n",
    "\n",
    "- Choosing inappropriate cluster parameters (too many or too few centers).\n",
    "- Not setting a random state, making results irreproducible.\n",
    "- Creating visualizations without proper labels or legends."
   ]
  },
  {
   "cell_type": "markdown",
   "id": "f6cb92a4",
   "metadata": {},
   "source": [
    "## Task 2: Model Implementation and Training [20 minutes]\n",
    "Build and fit a Gaussian Mixture Model using PyTorch to your dataset.\n",
    "1.  Define and train Gaussian Mixture Model\n",
    "2.  Use the data to estimate the parameters of your GMM.\n",
    "3.  Ensure that the model parameters capture the original data distribution effectively."
   ]
  },
  {
   "cell_type": "code",
   "execution_count": null,
   "id": "cd914278",
   "metadata": {},
   "outputs": [],
   "source": [
    "# Task 2\n",
    "# your code here..."
   ]
  },
  {
   "cell_type": "markdown",
   "id": "858f8249",
   "metadata": {},
   "source": [
    "✅ **Success Checklist**\n",
    "\n",
    "- The model correctly identifies clusters similar to the original dataset.\n",
    "- Parameters (means and covariances) are accurate based on data patterns.\n",
    "\n",
    "💡 **Key Points**\n",
    "\n",
    "- The number of components in GMM should match the true number of clusters in your data.\n",
    "- Convergence indicates the model has found stable parameter estimates.\n",
    "- Log likelihood provides a measure of how well the model fits the data.\n",
    "\n",
    "❗ **Common Mistakes to Avoid**\n",
    "\n",
    "- Using too many components, leading to overfitting.\n",
    "- Not checking convergence before proceeding to generate samples.\n",
    "- Ignoring the covariance type parameter which affects model complexity."
   ]
  },
  {
   "cell_type": "markdown",
   "id": "3a08df3e",
   "metadata": {},
   "source": [
    "## Task 3: Sampling New Data and Comparison [10 minutes]\n",
    "Use the trained model to generate new data and compare.\n",
    "1. Sample new data\n",
    "2. Visualize combined data\n",
    "3. Sample new data points from the trained GMM.\n",
    "4. Use visualization to assess similarity to the original distribution."
   ]
  },
  {
   "cell_type": "code",
   "execution_count": null,
   "id": "2b9c5896",
   "metadata": {},
   "outputs": [],
   "source": [
    "# Task 3\n",
    "# your code here ..."
   ]
  },
  {
   "cell_type": "markdown",
   "id": "577629d9",
   "metadata": {},
   "source": [
    "✅ **Success Checklist**\n",
    "\n",
    "- A clear overlap or similarity in distribution between real and generated data.\n",
    "- Generate appropriately phased samples."
   ]
  },
  {
   "cell_type": "markdown",
   "id": "e152e9f9",
   "metadata": {},
   "source": [
    "💡 **Key Points**\n",
    "\n",
    "- The ability to generate data statistically similar to real data has vast applications, from data fill-ins to novel creations.\n",
    "- Visual comparisons are crucial for assessing model accuracy in generative tasks."
   ]
  },
  {
   "cell_type": "markdown",
   "id": "e4edb10a",
   "metadata": {},
   "source": [
    "❗ **Common Mistakes to Avoid**\n",
    "\n",
    "- Not checking the fit of the model thoroughly before generating samples.\n",
    "- Overlooking discrepancies in mean and variance when comparing real and generated datasets."
   ]
  },
  {
   "cell_type": "markdown",
   "id": "a8b66f86",
   "metadata": {},
   "source": [
    "🚀 **Next Steps**\n",
    "\n",
    "In the next module, you will learn how to extend these foundational skills by experimenting with other types of generative models such as VAEs and Autoregressive Models. This builds on the concepts of distribution modeling and sampling to enhance your ability to create and control generative outputs effectively."
   ]
  },
  {
   "cell_type": "markdown",
   "id": "3e119032",
   "metadata": {},
   "source": [
    "## 💻 Exemplar Solution"
   ]
  },
  {
   "cell_type": "markdown",
   "id": "e52f6ac1",
   "metadata": {},
   "source": [
    "<details>    \n",
    "<summary><strong>Click HERE to see an exemplar solution</strong></summary>\n",
    "\n",
    "### Task 1 Solution\n",
    "    \n",
    "```python\n",
    "# Generate synthetic 2D Gaussian dataset\n",
    "X, y = make_blobs(n_samples=300, centers=2, n_features=2, \n",
    "                  random_state=42, cluster_std=1.5)\n",
    "\n",
    "# Visualize the data\n",
    "plt.figure(figsize=(8, 6))\n",
    "plt.scatter(X[:, 0], X[:, 1], c=y, cmap='viridis', alpha=0.7)\n",
    "plt.title('Synthetic 2D Gaussian Dataset')\n",
    "plt.xlabel('Feature 1')\n",
    "plt.ylabel('Feature 2')\n",
    "plt.colorbar()\n",
    "plt.grid(True, alpha=0.3)\n",
    "plt.show()\n",
    "\n",
    "print(f\"Dataset shape: {X.shape}\")\n",
    "print(f\"Number of clusters: {len(set(y))}\")\n",
    "```\n",
    "\n",
    "### Task 2 Solution\n",
    "    \n",
    "```python\n",
    "from sklearn.mixture import GaussianMixture\n",
    "import numpy as np\n",
    "\n",
    "# Define and train Gaussian Mixture Model\n",
    "gmm = GaussianMixture(n_components=2, covariance_type='full', random_state=42)\n",
    "gmm.fit(X)\n",
    "\n",
    "# Print model parameters\n",
    "print(\"GMM Training Complete!\")\n",
    "print(f\"Converged: {gmm.converged_}\")\n",
    "print(f\"Number of iterations: {gmm.n_iter_}\")\n",
    "print(f\"Log likelihood: {gmm.score(X):.2f}\")\n",
    "\n",
    "# Display learned parameters\n",
    "print(\"\\nLearned cluster centers:\")\n",
    "for i, mean in enumerate(gmm.means_):\n",
    "    print(f\"Cluster {i+1}: ({mean[0]:.2f}, {mean[1]:.2f})\")\n",
    "\n",
    "print(f\"\\nCluster weights: {gmm.weights_}\")\n",
    "```\n",
    "\n",
    "### Task 3 Solution\n",
    "\n",
    "```python\n",
    "# Sample new data from the trained GMM\n",
    "X_generated, y_generated = gmm.sample(n_samples=300)\n",
    "    \n",
    "# Visualize original vs generated data\n",
    "fig, (ax1, ax2, ax3) = plt.subplots(1, 3, figsize=(15, 5))\n",
    "\n",
    "# Original data\n",
    "ax1.scatter(X[:, 0], X[:, 1], c=y, cmap='viridis', alpha=0.7)\n",
    "ax1.set_title('Original Data')\n",
    "ax1.set_xlabel('Feature 1')\n",
    "ax1.set_ylabel('Feature 2')\n",
    "ax1.grid(True, alpha=0.3)\n",
    "\n",
    "# Generated data\n",
    "ax2.scatter(X_generated[:, 0], X_generated[:, 1], c=y_generated, cmap='viridis', alpha=0.7)\n",
    "ax2.set_title('Generated Data')\n",
    "ax2.set_xlabel('Feature 1')\n",
    "ax2.set_ylabel('Feature 2')\n",
    "ax2.grid(True, alpha=0.3)\n",
    "\n",
    "# Combined comparison\n",
    "ax3.scatter(X[:, 0], X[:, 1], c='blue', alpha=0.6, label='Original Data')\n",
    "ax3.scatter(X_generated[:, 0], X_generated[:, 1], c='red', alpha=0.6, label='Generated Data')\n",
    "ax3.set_title('Original vs Generated Data')\n",
    "ax3.set_xlabel('Feature 1')\n",
    "ax3.set_ylabel('Feature 2')\n",
    "ax3.legend()\n",
    "ax3.grid(True, alpha=0.3)\n",
    "\n",
    "plt.tight_layout()\n",
    "plt.show()\n",
    "\n",
    "# Statistical comparison\n",
    "print(\"Statistical Comparison:\")\n",
    "print(f\"Original data mean: ({np.mean(X[:, 0]):.2f}, {np.mean(X[:, 1]):.2f})\")\n",
    "print(f\"Generated data mean: ({np.mean(X_generated[:, 0]):.2f}, {np.mean(X_generated[:, 1]):.2f})\")\n",
    "print(f\"Original data std: ({np.std(X[:, 0]):.2f}, {np.std(X[:, 1]):.2f})\")\n",
    "print(f\"Generated data std: ({np.std(X_generated[:, 0]):.2f}, {np.std(X_generated[:, 1]):.2f})\")\n",
    "```\n",
    "</details>"
   ]
  }
 ],
 "metadata": {
  "kernelspec": {
   "display_name": "Python 3 (ipykernel)",
   "language": "python",
   "name": "python3"
  },
  "language_info": {
   "codemirror_mode": {
    "name": "ipython",
    "version": 3
   },
   "file_extension": ".py",
   "mimetype": "text/x-python",
   "name": "python",
   "nbconvert_exporter": "python",
   "pygments_lexer": "ipython3",
   "version": "3.10.6"
  }
 },
 "nbformat": 4,
 "nbformat_minor": 5
}
