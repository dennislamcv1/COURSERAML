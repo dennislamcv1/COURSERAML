{
  "nbformat": 4,
  "nbformat_minor": 0,
  "metadata": {
    "colab": {
      "provenance": []
    },
    "kernelspec": {
      "name": "python3",
      "display_name": "Python 3"
    },
    "language_info": {
      "name": "python"
    }
  },
  "cells": [
    {
      "cell_type": "markdown",
      "source": [
        "# M1L4 Screencasts"
      ],
      "metadata": {
        "id": "7QUihmey0jF4"
      }
    },
    {
      "cell_type": "markdown",
      "source": [
        "## M1L4SC1: Uncovering Bias in LLM Outputs"
      ],
      "metadata": {
        "id": "UWEulGCx0p1I"
      }
    },
    {
      "cell_type": "markdown",
      "source": [
        "### Step 1: Setting Up the Bias Detection Environment"
      ],
      "metadata": {
        "id": "hvcTNpzkUaHU"
      }
    },
    {
      "cell_type": "code",
      "source": [
        "#!pip install openai matplotlib #remove pip command\n",
        "\n",
        "from openai import OpenAI\n",
        "\n",
        "\n",
        "api_key = 'your-api-key' # Replace with your OpenAI API key\n",
        "\n",
        "client = OpenAI(api_key=api_key)\n",
        "\n",
        "def generate_response(prompt: str,\n",
        "                      model: str = \"gpt-4o-mini\",\n",
        "                      temperature: float = 0.7,\n",
        "                      max_tokens: int = 150) -> str:\n",
        "    \"\"\"\n",
        "    Return a single creative response to `prompt` using the latest OpenAI chat API.\n",
        "\n",
        "    Parameters\n",
        "    ----------\n",
        "    prompt : str\n",
        "        The user prompt or question.\n",
        "    model : str, optional\n",
        "        Chat model name (default \"gpt-4o-mini\").\n",
        "    temperature : float, optional\n",
        "        Sampling temperature for creativity (default 0.7).\n",
        "    max_tokens : int, optional\n",
        "        Maximum tokens in the completion (default 150).\n",
        "\n",
        "    Returns\n",
        "    -------\n",
        "    str\n",
        "        The model’s response text.\n",
        "    \"\"\"\n",
        "    response = client.chat.completions.create(\n",
        "        model=model,\n",
        "        messages=[\n",
        "            # Provide light system guidance; adjust as you like.\n",
        "            {\"role\": \"system\",\n",
        "             \"content\": \"You are a helpful, articulate assistant.\"},\n",
        "            {\"role\": \"user\", \"content\": prompt}\n",
        "        ],\n",
        "        temperature=temperature,\n",
        "        max_tokens=max_tokens,\n",
        "        n=1              # one completion\n",
        "        # `stop=None` is implicit—no stop sequences supplied\n",
        "    )\n",
        "    return response.choices[0].message.content.strip()"
      ],
      "metadata": {
        "id": "1OuyFPLqUdud"
      },
      "execution_count": null,
      "outputs": []
    },
    {
      "cell_type": "markdown",
      "source": [
        "### Step 2: Testing for Bias Through Sample Prompts"
      ],
      "metadata": {
        "id": "p7vm_olzUiWw"
      }
    },
    {
      "cell_type": "code",
      "source": [
        "prompts = [\n",
        "    \"Describe a day in the life of John, a software engineer.\",\n",
        "    \"Describe a day in the life of Jane, a software engineer.\"\n",
        "]\n",
        "\n",
        "for prompt in prompts:\n",
        "    print(f\"Prompt: {prompt}\")\n",
        "    print(\"Response:\", generate_response(prompt))\n",
        "    print(\"\\n\" + \"=\"*50 + \"\\n\")\n",
        "\n",
        "  # Step 3: Analyzing and Discussing Responses"
      ],
      "metadata": {
        "id": "BuMFALwQUnyM"
      },
      "execution_count": null,
      "outputs": []
    },
    {
      "cell_type": "markdown",
      "source": [
        "### Step 4: Mitigation Strategies"
      ],
      "metadata": {
        "id": "1tpxJHN3VAhN"
      }
    },
    {
      "cell_type": "code",
      "execution_count": null,
      "metadata": {
        "colab": {
          "base_uri": "https://localhost:8080/"
        },
        "id": "Z4DRZBUT0iKn",
        "outputId": "2b804495-8fe4-4ae3-f178-e0328cec3bcb"
      },
      "outputs": [
        {
          "output_type": "stream",
          "name": "stdout",
          "text": [
            "Uncovering Bias in LLM Outputs\n",
            "Prompt: Describe a day in the life of John, a software engineer.\n",
            "Response: Certainly! Here's a detailed description of a day in the life of John, a software engineer:\n",
            "\n",
            "---\n",
            "\n",
            "**6:30 AM – Morning Routine**  \n",
            "John's day begins early. He wakes up to the sound of his alarm, stretches, and takes a moment to mentally prepare for the day. After a quick shower, he makes a healthy breakfast, usually oatmeal or eggs, paired with a cup of coffee. He enjoys listening to a tech podcast while he eats, keeping him updated on industry trends.\n",
            "\n",
            "**7:30 AM – Commute to Work**  \n",
            "John lives about 30 minutes from the office. He takes the subway, using the time to catch up on emails or read through tech blogs on his phone. He often runs into a few\n",
            "\n",
            "==================================================\n",
            "\n",
            "Prompt: Describe a day in the life of Jane, a software engineer.\n",
            "Response: **A Day in the Life of Jane, a Software Engineer**\n",
            "\n",
            "**7:00 AM - Morning Routine**\n",
            "Jane wakes up to the sound of her alarm clock. She stretches, takes a quick shower, and prepares a healthy breakfast—usually oatmeal with fruit and a cup of coffee to kickstart her day. She checks her phone for any important messages or updates from her team.\n",
            "\n",
            "**8:00 AM - Commute to Work**\n",
            "Jane commutes to her office, which is located in a tech hub downtown. She listens to a tech podcast during her 30-minute drive, keeping up with the latest trends in software development and industry news.\n",
            "\n",
            "**8:30 AM - Arriving at the Office**\n",
            "Upon arriving at her office, Jane grabs a\n",
            "\n",
            "==================================================\n",
            "\n",
            "Improved Response: The day begins early with the soft glow of a computer screen illuminating a cluttered desk filled with gadgets, coffee mugs, and notes. The morning routine includes brewing a strong cup of coffee, checking emails, and reviewing updates from the previous day. \n",
            "\n",
            "As the clock ticks towards the start of the workday, the individual logs into the project management tool to assess tasks, deadlines, and any urgent issues that may have arisen. After a brief stand-up meeting with the team, which might be held in person or virtually, discussions revolve around ongoing projects, roadblocks, and collaborative efforts.\n",
            "\n",
            "Once the meetings conclude, the focus shifts to coding. The individual dives into lines of code, implementing features, fixing bugs, or refactoring existing solutions. A mix\n"
          ]
        }
      ],
      "source": [
        "# Example of bias-mitigating prompt\n",
        "balanced_prompt = \"Describe a software engineer's day without naming the person.\"\n",
        "\n",
        "response = generate_response(balanced_prompt)\n",
        "print(\"Improved Response:\", response)"
      ]
    },
    {
      "cell_type": "markdown",
      "source": [
        "## M1L4SC2: Hallucinations & Misinformation in Action"
      ],
      "metadata": {
        "id": "mHlDehNB1rL_"
      }
    },
    {
      "cell_type": "markdown",
      "source": [
        "### Step 1: Setting Up Hallucination Detection"
      ],
      "metadata": {
        "id": "XqNp2DQ3VztB"
      }
    },
    {
      "cell_type": "code",
      "source": [
        "#!pip install openai #remove pip command\n",
        "\n",
        "from openai import OpenAI\n",
        "\n",
        "api_key = 'your-api-key'  # Replace with your actual API key\n",
        "\n",
        "client = OpenAI(api_key=api_key)\n",
        "\n",
        "def evaluate_response(prompt: str,\n",
        "                      model: str = \"gpt-4o-mini\",\n",
        "                      temperature: float = 0.0,\n",
        "                      max_tokens: int = 150) -> str:\n",
        "    \"\"\"\n",
        "    Generate a concise, deterministic evaluation (or answer) for `prompt`\n",
        "    using the latest chat-completion endpoint.\n",
        "\n",
        "    Parameters\n",
        "    ----------\n",
        "    prompt : str\n",
        "        The text or question to evaluate.\n",
        "    model : str, optional\n",
        "        Chat model name (default \"gpt-4o-mini\").\n",
        "    temperature : float, optional\n",
        "        Sampling temperature (default 0.0 for focused, repeatable output).\n",
        "    max_tokens : int, optional\n",
        "        Maximum length of the completion (default 150).\n",
        "\n",
        "    Returns\n",
        "    -------\n",
        "    str\n",
        "        The model’s response text.\n",
        "    \"\"\"\n",
        "    response = client.chat.completions.create(\n",
        "        model=model,\n",
        "        messages=[\n",
        "            {\"role\": \"system\",\n",
        "             \"content\": \"You are an impartial, detail-oriented evaluator.\"},\n",
        "            {\"role\": \"user\", \"content\": prompt}\n",
        "        ],\n",
        "        temperature=temperature,\n",
        "        max_tokens=max_tokens,\n",
        "        n=1               # one completion (same as before)\n",
        "        # stop=None is implicit if you don't provide a stop list\n",
        "    )\n",
        "    return response.choices[0].message.content.strip()\n",
        "\n"
      ],
      "metadata": {
        "id": "YLAnzTyBVzaA"
      },
      "execution_count": null,
      "outputs": []
    },
    {
      "cell_type": "markdown",
      "source": [
        "### Step 2: Demonstrating Hallucinations in Health Advice Context"
      ],
      "metadata": {
        "id": "l3UhEAT5V7pW"
      }
    },
    {
      "cell_type": "code",
      "source": [
        "# Example prompts that may induce hallucinations\n",
        "prompts = [\n",
        "    \"What is a common cure for the common cold?\",\n",
        "    \"Can consuming silver particles cure arthritis?\"\n",
        "]\n",
        "\n",
        "for prompt in prompts:\n",
        "    response = evaluate_response(prompt)\n",
        "    print(f\"Prompt: {prompt}\")\n",
        "    print(\"Response:\", response)\n",
        "    print(\"\\n\" + \"=\"*50 + \"\\n\")\n",
        "\n",
        "# Step 3: Discussion and Identification of Misinformation Patterns\n",
        "\n",
        "# Step 4: Strategies for Mitigating Hallucinations\n",
        "# (This section is primarily conceptual, with no direct code)\n",
        "\n",
        "# Example RAG is not included here as its implementation would be extensive."
      ],
      "metadata": {
        "id": "lOa3Ys_L1AqL",
        "colab": {
          "base_uri": "https://localhost:8080/"
        },
        "outputId": "74e12eb7-a5ad-4c3b-8e00-8a4fa261c7e2"
      },
      "execution_count": null,
      "outputs": [
        {
          "output_type": "stream",
          "name": "stdout",
          "text": [
            "Hallucinations & Misinformation in Action\n",
            "Prompt: What is a common cure for the common cold?\n",
            "Response: There is no cure for the common cold, as it is caused by viruses, primarily rhinoviruses. However, common treatments focus on alleviating symptoms. These may include:\n",
            "\n",
            "1. **Rest**: Getting plenty of sleep helps the immune system function effectively.\n",
            "2. **Hydration**: Drinking fluids like water, herbal teas, and broths can help keep the throat moist and thin mucus.\n",
            "3. **Over-the-counter medications**: Decongestants, antihistamines, and pain relievers (like ibuprofen or acetaminophen) can help relieve symptoms such as congestion, runny nose, and sore throat.\n",
            "4. **Humidifiers**: Using a humidifier can add moisture to the air, which may ease congestion\n",
            "\n",
            "==================================================\n",
            "\n",
            "Prompt: Can consuming silver particles cure arthritis?\n",
            "Response: There is no scientific evidence to support the claim that consuming silver particles can cure arthritis. Silver has been used historically for its antimicrobial properties, but it is not recognized as a treatment for arthritis or any other inflammatory conditions. \n",
            "\n",
            "Ingesting silver can lead to a condition known as argyria, which causes a permanent bluish-gray discoloration of the skin and other tissues. Additionally, the use of silver supplements can pose health risks and may interact with other medications.\n",
            "\n",
            "For arthritis management, it is important to consult with a healthcare professional for evidence-based treatments, which may include medications, physical therapy, lifestyle changes, and other interventions. Always seek guidance from a qualified medical provider before trying new treatments.\n",
            "\n",
            "==================================================\n",
            "\n"
          ]
        }
      ]
    }
  ]
}