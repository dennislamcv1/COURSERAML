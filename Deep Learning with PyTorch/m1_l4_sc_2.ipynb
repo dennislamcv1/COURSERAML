{
  "nbformat": 4,
  "nbformat_minor": 0,
  "metadata": {
    "colab": {
      "provenance": []
    },
    "kernelspec": {
      "name": "python3",
      "display_name": "Python 3"
    },
    "language_info": {
      "name": "python"
    }
  },
  "cells": [
    {
      "cell_type": "markdown",
      "source": [
        "# Running a Forward Pass and Exploring Model Capacity"
      ],
      "metadata": {
        "id": "QTwFpthbtPkp"
      }
    },
    {
      "cell_type": "markdown",
      "source": [
        "## Step 1: Setting Up for the Forward Pass\n"
      ],
      "metadata": {
        "id": "5DJ5qrAttTzb"
      }
    },
    {
      "cell_type": "code",
      "execution_count": null,
      "metadata": {
        "colab": {
          "base_uri": "https://localhost:8080/"
        },
        "id": "VuS8T31GsRaS",
        "outputId": "42138eaa-6d3a-4d8a-cc63-90e850756a77"
      },
      "outputs": [
        {
          "output_type": "stream",
          "name": "stdout",
          "text": [
            "Model initialized:\n",
            "SimpleFNN(\n",
            "  (layers): Sequential(\n",
            "    (0): Linear(in_features=4, out_features=10, bias=True)\n",
            "    (1): ReLU()\n",
            "    (2): Linear(in_features=10, out_features=3, bias=True)\n",
            "  )\n",
            ")\n"
          ]
        }
      ],
      "source": [
        "import torch\n",
        "import torch.nn as nn\n",
        "\n",
        "# Define a feedforward neural network\n",
        "class SimpleFNN(nn.Module):\n",
        "    def __init__(self, input_size, hidden_size, output_size):\n",
        "        super().__init__()  # Use modern Python 3 super()\n",
        "        self.layers = nn.Sequential(\n",
        "            nn.Linear(input_size, hidden_size),\n",
        "            nn.ReLU(),\n",
        "            nn.Linear(hidden_size, output_size)\n",
        "        )\n",
        "\n",
        "    def forward(self, x):\n",
        "        return self.layers(x)\n",
        "\n",
        "# Initialize model with specified input, hidden, and output sizes\n",
        "# input_size: 4 features\n",
        "# hidden_size: 10 neurons in the hidden layer\n",
        "# output_size: 3 output units (e.g., for a 3-class classification)\n",
        "model = SimpleFNN(input_size=4, hidden_size=10, output_size=3)\n",
        "print(\"Model initialized:\")\n",
        "print(model)"
      ]
    },
    {
      "cell_type": "markdown",
      "source": [
        "## Step 2: Executing a Forward Pass\n"
      ],
      "metadata": {
        "id": "lz6GJwSctXFA"
      }
    },
    {
      "cell_type": "code",
      "source": [
        "# Sample input tensor: 1 sample, 4 features (matching input_size)\n",
        "sample_input = torch.randn(1, 4)\n",
        "print(\"\\nSample Input Tensor:\")\n",
        "print(sample_input)\n",
        "\n",
        "# Forward pass through the network\n",
        "# This calls the model's forward() method\n",
        "output = model(sample_input)\n",
        "print(\"\\nNetwork Output (from original model):\")\n",
        "print(output)"
      ],
      "metadata": {
        "colab": {
          "base_uri": "https://localhost:8080/"
        },
        "id": "nTA4I3_PtZ5v",
        "outputId": "089f4c30-771d-479d-8060-68e07f6c3d5b"
      },
      "execution_count": null,
      "outputs": [
        {
          "output_type": "stream",
          "name": "stdout",
          "text": [
            "\n",
            "Sample Input Tensor:\n",
            "tensor([[ 0.0914,  0.4003,  0.7525, -0.8251]])\n",
            "\n",
            "Network Output (from original model):\n",
            "tensor([[-0.4221,  0.1149, -0.2154]], grad_fn=<AddmmBackward0>)\n"
          ]
        }
      ]
    },
    {
      "cell_type": "markdown",
      "source": [
        "## Step 3: Experimenting with Model Size\n"
      ],
      "metadata": {
        "id": "wC9W6K5EtbnG"
      }
    },
    {
      "cell_type": "code",
      "source": [
        "# Redesigned model with a smaller hidden size (reduced capacity)\n",
        "# hidden_size: 5 neurons (compared to 10 in the original model)\n",
        "small_model = SimpleFNN(input_size=4, hidden_size=5, output_size=3)\n",
        "print(\"\\nSmall Model initialized:\")\n",
        "print(small_model)\n",
        "\n",
        "# Forward pass with the small model using the same sample input\n",
        "small_output = small_model(sample_input)\n",
        "print(\"\\nOutput from Small Model:\")\n",
        "print(small_output)\n",
        "\n",
        "# Redesigned model with a larger hidden size (increased capacity)\n",
        "# hidden_size: 50 neurons (compared to 10 in the original model)\n",
        "large_model = SimpleFNN(input_size=4, hidden_size=50, output_size=3)\n",
        "print(\"\\nLarge Model initialized:\")\n",
        "print(large_model)\n",
        "\n",
        "# Forward pass with the large model using the same sample input\n",
        "large_output = large_model(sample_input)\n",
        "print(\"\\nOutput from Large Model:\")\n",
        "print(large_output)"
      ],
      "metadata": {
        "colab": {
          "base_uri": "https://localhost:8080/"
        },
        "id": "LwGiHTUttc8Q",
        "outputId": "0efdba34-0940-48db-c641-02c377a98748"
      },
      "execution_count": null,
      "outputs": [
        {
          "output_type": "stream",
          "name": "stdout",
          "text": [
            "\n",
            "Small Model initialized:\n",
            "SimpleFNN(\n",
            "  (layers): Sequential(\n",
            "    (0): Linear(in_features=4, out_features=5, bias=True)\n",
            "    (1): ReLU()\n",
            "    (2): Linear(in_features=5, out_features=3, bias=True)\n",
            "  )\n",
            ")\n",
            "\n",
            "Output from Small Model:\n",
            "tensor([[-0.0476, -0.1830, -0.0185]], grad_fn=<AddmmBackward0>)\n",
            "\n",
            "Large Model initialized:\n",
            "SimpleFNN(\n",
            "  (layers): Sequential(\n",
            "    (0): Linear(in_features=4, out_features=50, bias=True)\n",
            "    (1): ReLU()\n",
            "    (2): Linear(in_features=50, out_features=3, bias=True)\n",
            "  )\n",
            ")\n",
            "\n",
            "Output from Large Model:\n",
            "tensor([[0.1210, 0.2458, 0.1149]], grad_fn=<AddmmBackward0>)\n"
          ]
        }
      ]
    }
  ]
}