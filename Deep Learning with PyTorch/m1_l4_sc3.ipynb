{
  "nbformat": 4,
  "nbformat_minor": 0,
  "metadata": {
    "colab": {
      "provenance": []
    },
    "kernelspec": {
      "name": "python3",
      "display_name": "Python 3"
    },
    "language_info": {
      "name": "python"
    }
  },
  "cells": [
    {
      "cell_type": "markdown",
      "source": [
        "# Building the Training Loop for a Neural Network\n"
      ],
      "metadata": {
        "id": "-zqso8HqvzMO"
      }
    },
    {
      "cell_type": "markdown",
      "source": [
        "## Step 1: Setting Up the Environment\n"
      ],
      "metadata": {
        "id": "TPqsot4gv0Rr"
      }
    },
    {
      "cell_type": "code",
      "execution_count": null,
      "metadata": {
        "colab": {
          "base_uri": "https://localhost:8080/"
        },
        "id": "YGkr0meXvHZ2",
        "outputId": "ee77fb37-2c01-41dd-c82a-31808a633fcb"
      },
      "outputs": [
        {
          "output_type": "stream",
          "name": "stdout",
          "text": [
            "Using device: cpu\n",
            "Environment setup complete. DataLoader is ready.\n"
          ]
        }
      ],
      "source": [
        "import torch\n",
        "import torch.nn as nn\n",
        "import torch.optim as optim\n",
        "from torch.utils.data import DataLoader, TensorDataset\n",
        "\n",
        "# For reproducibility\n",
        "torch.manual_seed(42)\n",
        "\n",
        "# Setup device\n",
        "device = torch.device(\"cuda\" if torch.cuda.is_available() else \"cpu\")\n",
        "print(f\"Using device: {device}\")\n",
        "\n",
        "# Sample data setup\n",
        "# Inputs and targets are initially on CPU. They will be moved to the 'device' batch-wise in the training loop.\n",
        "inputs = torch.randn(100, 10)  # 100 samples, 10 features\n",
        "targets = torch.randn(100, 1) # 100 samples, 1 target value\n",
        "\n",
        "dataset = TensorDataset(inputs, targets)\n",
        "dataloader = DataLoader(dataset, batch_size=10, shuffle=True)\n",
        "\n",
        "print(\"Environment setup complete. DataLoader is ready.\")"
      ]
    },
    {
      "cell_type": "markdown",
      "source": [
        "## Step 2: Configuring the Neural Network\n"
      ],
      "metadata": {
        "id": "SWoxgFPQv6eB"
      }
    },
    {
      "cell_type": "code",
      "source": [
        "class SimpleNetwork(nn.Module):\n",
        "    def __init__(self):\n",
        "        super(SimpleNetwork, self).__init__()\n",
        "        # Define layers:\n",
        "        # Input layer (10 features) to hidden layer (5 neurons)\n",
        "        self.layer1 = nn.Linear(10, 5)\n",
        "        # Activation function\n",
        "        self.relu = nn.ReLU()\n",
        "        # Hidden layer (5 neurons) to output layer (1 neuron)\n",
        "        self.layer2 = nn.Linear(5, 1)\n",
        "\n",
        "    def forward(self, x):\n",
        "        # Define the forward pass:\n",
        "        # Pass input through layer1, then ReLU activation, then layer2\n",
        "        x = self.layer1(x)\n",
        "        x = self.relu(x)\n",
        "        x = self.layer2(x)\n",
        "        return x\n",
        "\n",
        "# Instantiate the model and move it to selected device\n",
        "model = SimpleNetwork().to(device)\n",
        "print(\"Neural network configured and moved to device.\")\n",
        "print(model)"
      ],
      "metadata": {
        "colab": {
          "base_uri": "https://localhost:8080/"
        },
        "id": "vqtvEfyfv7yK",
        "outputId": "3ceb55df-f82b-4400-b278-c2f3884fd550"
      },
      "execution_count": null,
      "outputs": [
        {
          "output_type": "stream",
          "name": "stdout",
          "text": [
            "Neural network configured and moved to device.\n",
            "SimpleNetwork(\n",
            "  (layer1): Linear(in_features=10, out_features=5, bias=True)\n",
            "  (relu): ReLU()\n",
            "  (layer2): Linear(in_features=5, out_features=1, bias=True)\n",
            ")\n"
          ]
        }
      ]
    },
    {
      "cell_type": "markdown",
      "source": [
        "## Step 3: Initializing Optimizer and Loss Function\n"
      ],
      "metadata": {
        "id": "-vER7yWhv9vq"
      }
    },
    {
      "cell_type": "code",
      "source": [
        "# Loss function\n",
        "criterion = nn.MSELoss()\n",
        "\n",
        "# Optimizer\n",
        "# model.parameters() provides all trainable parameters of the model to the optimizer\n",
        "optimizer = optim.SGD(model.parameters(), lr=0.01)\n",
        "\n",
        "print(\"Optimizer and loss function initialized.\")"
      ],
      "metadata": {
        "colab": {
          "base_uri": "https://localhost:8080/"
        },
        "id": "h-LAvvQtv_Uj",
        "outputId": "f131f214-7802-44c2-9625-04c03337d4fe"
      },
      "execution_count": null,
      "outputs": [
        {
          "output_type": "stream",
          "name": "stdout",
          "text": [
            "Optimizer and loss function initialized.\n"
          ]
        }
      ]
    },
    {
      "cell_type": "markdown",
      "source": [
        "## Step 4: Constructing the Training Loop\n"
      ],
      "metadata": {
        "id": "9UyXMoGrwBFP"
      }
    },
    {
      "cell_type": "code",
      "source": [
        "num_epochs = 20\n",
        "epoch_losses = []  # To store average loss per epoch for later evaluation/plotting\n",
        "\n",
        "print(f\"Starting training for {num_epochs} epochs...\")\n",
        "\n",
        "for epoch in range(num_epochs):\n",
        "    model.train()  # Set the model to training mode (important for layers like Dropout, BatchNorm)\n",
        "    current_epoch_loss = 0.0\n",
        "    num_batches = 0\n",
        "\n",
        "    for batch_inputs, batch_targets in dataloader:\n",
        "        # Move batch data to the same device as the model\n",
        "        batch_inputs = batch_inputs.to(device)\n",
        "        batch_targets = batch_targets.to(device)\n",
        "\n",
        "        # 1. Forward pass: Compute predicted outputs by passing inputs to the model\n",
        "        outputs = model(batch_inputs)\n",
        "\n",
        "        # 2. Calculate loss\n",
        "        loss = criterion(outputs, batch_targets)\n",
        "\n",
        "        # 3. Backward pass and optimization:\n",
        "        # Zero gradients before backward pass to prevent accumulation\n",
        "        optimizer.zero_grad()\n",
        "        # Compute gradients of the loss with respect to model parameters\n",
        "        loss.backward()\n",
        "        # Update model parameters\n",
        "        optimizer.step()\n",
        "\n",
        "        current_epoch_loss += loss.item()  # Accumulate loss for the current epoch\n",
        "        num_batches += 1\n",
        "\n",
        "    average_epoch_loss = current_epoch_loss / num_batches\n",
        "    epoch_losses.append(average_epoch_loss)\n",
        "\n",
        "    print(f'Epoch [{epoch+1}/{num_epochs}], Average Loss: {average_epoch_loss:.4f}')\n",
        "\n",
        "print(\"\\nTraining complete.\")"
      ],
      "metadata": {
        "colab": {
          "base_uri": "https://localhost:8080/"
        },
        "id": "3bVuYDPDwC4W",
        "outputId": "86a3dc06-2d3b-4c89-beca-9a249278b422"
      },
      "execution_count": null,
      "outputs": [
        {
          "output_type": "stream",
          "name": "stdout",
          "text": [
            "Starting training for 20 epochs...\n",
            "Epoch [1/20], Average Loss: 1.2611\n",
            "Epoch [2/20], Average Loss: 1.1741\n",
            "Epoch [3/20], Average Loss: 1.1209\n",
            "Epoch [4/20], Average Loss: 1.0895\n",
            "Epoch [5/20], Average Loss: 1.0669\n",
            "Epoch [6/20], Average Loss: 1.0530\n",
            "Epoch [7/20], Average Loss: 1.0433\n",
            "Epoch [8/20], Average Loss: 1.0362\n",
            "Epoch [9/20], Average Loss: 1.0300\n",
            "Epoch [10/20], Average Loss: 1.0252\n",
            "Epoch [11/20], Average Loss: 1.0231\n",
            "Epoch [12/20], Average Loss: 1.0177\n",
            "Epoch [13/20], Average Loss: 1.0157\n",
            "Epoch [14/20], Average Loss: 1.0122\n",
            "Epoch [15/20], Average Loss: 1.0100\n",
            "Epoch [16/20], Average Loss: 1.0057\n",
            "Epoch [17/20], Average Loss: 1.0044\n",
            "Epoch [18/20], Average Loss: 1.0023\n",
            "Epoch [19/20], Average Loss: 0.9997\n",
            "Epoch [20/20], Average Loss: 0.9989\n",
            "\n",
            "Training complete.\n"
          ]
        }
      ]
    },
    {
      "cell_type": "markdown",
      "source": [
        "## Step 5: Evaluating Results\n"
      ],
      "metadata": {
        "id": "qKg_Jx0uwIjp"
      }
    },
    {
      "cell_type": "code",
      "source": [
        "print(\"\\n--- Evaluation ---\")\n",
        "print(\"Stored average losses per epoch:\")\n",
        "for i, loss_val in enumerate(epoch_losses):\n",
        "    print(f\"Epoch {i+1}: {loss_val:.4f}\")\n",
        "\n",
        "# The 'epoch_losses' list can now be used for plotting\n",
        "# For example, using matplotlib:\n",
        "import matplotlib.pyplot as plt\n",
        "plt.figure(figsize=(10, 5))\n",
        "plt.plot(range(1, num_epochs + 1), epoch_losses, marker='o')\n",
        "plt.title('Training Loss Over Epochs')\n",
        "plt.xlabel('Epoch')\n",
        "plt.ylabel('Average Loss')\n",
        "plt.grid(True)\n",
        "plt.show()"
      ],
      "metadata": {
        "colab": {
          "base_uri": "https://localhost:8080/",
          "height": 898
        },
        "id": "TfsvAEx-wKbs",
        "outputId": "f7f65a4a-8479-423e-8ee4-af6755c882de"
      },
      "execution_count": null,
      "outputs": [
        {
          "output_type": "stream",
          "name": "stdout",
          "text": [
            "\n",
            "--- Evaluation ---\n",
            "Stored average losses per epoch:\n",
            "Epoch 1: 1.2611\n",
            "Epoch 2: 1.1741\n",
            "Epoch 3: 1.1209\n",
            "Epoch 4: 1.0895\n",
            "Epoch 5: 1.0669\n",
            "Epoch 6: 1.0530\n",
            "Epoch 7: 1.0433\n",
            "Epoch 8: 1.0362\n",
            "Epoch 9: 1.0300\n",
            "Epoch 10: 1.0252\n",
            "Epoch 11: 1.0231\n",
            "Epoch 12: 1.0177\n",
            "Epoch 13: 1.0157\n",
            "Epoch 14: 1.0122\n",
            "Epoch 15: 1.0100\n",
            "Epoch 16: 1.0057\n",
            "Epoch 17: 1.0044\n",
            "Epoch 18: 1.0023\n",
            "Epoch 19: 0.9997\n",
            "Epoch 20: 0.9989\n"
          ]
        },
        {
          "output_type": "display_data",
          "data": {
            "text/plain": [
              "<Figure size 1000x500 with 1 Axes>"
            ],
            "image/png": "[encoded data removed]"
          },
          "metadata": {}
        }
      ]
    }
  ]
}