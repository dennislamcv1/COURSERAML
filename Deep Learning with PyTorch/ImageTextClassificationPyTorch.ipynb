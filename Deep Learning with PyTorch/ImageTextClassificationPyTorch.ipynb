{
 "cells": [
  {
   "cell_type": "markdown",
   "id": "952184ec",
   "metadata": {
    "deletable": false,
    "editable": false,
    "nbgrader": {
     "cell_type": "markdown",
     "checksum": "756b68c0706442117b0cd1f0c13ac5c4",
     "grade": false,
     "grade_id": "cell-40fe94e3c23e3a63",
     "locked": true,
     "schema_version": 3,
     "solution": false,
     "task": false
    }
   },
   "source": [
    "# 👩‍💻 Multimodal Deep Learning Challenge: Image & Text Classification in PyTorch\n",
    "## 📋 Overview\n",
    "In this capstone project, you'll demonstrate your ability to design, train, and optimize deep learning models using PyTorch. This project integrates multiple components from the course—including CNNs for image classification, LSTMs for sequence modeling, and advanced training techniques for stability and efficiency.\n",
    " \n",
    "You will complete two distinct tasks, simulating real-world projects in computer vision and NLP, then apply training optimization strategies to improve model performance. This lab serves as a portfolio-quality artifact to showcase your end-to-end deep learning skills.\n",
    "- This project integrates CNNs, LSTMs, and model optimization techniques using PyTorch\n",
    "- You'll work with FashionMNIST and IMDB review datasets\n",
    "- Final outputs will include trained models, evaluation metrics, and insights on optimization effectiveness\n",
    "\n",
    "\n",
    "## 🎯 Learning Outcomes\n",
    "By the end of this lab, you will be able to:\n",
    "- Design and train convolutional neural networks (CNNs) for image classification\n",
    "- Build and train LSTM-based models for sequence classification tasks\n",
    "- Apply advanced training techniques like mixed precision and gradient clipping\n",
    "- Analyze and compare model performance using evaluation metrics and visualizations\n",
    "- Interpret results and recommend training strategies"
   ]
  },
  {
   "cell_type": "markdown",
   "id": "da0a7bb3",
   "metadata": {
    "deletable": false,
    "editable": false,
    "nbgrader": {
     "cell_type": "markdown",
     "checksum": "ad3e3e6c22bea3594c789c233133256b",
     "grade": false,
     "grade_id": "cell-81302d13c39ed589",
     "locked": true,
     "schema_version": 3,
     "solution": false,
     "task": false
    }
   },
   "source": [
    "## 💡 Task 1: Image Classification with a Custom CNN\n",
    "In this task, you'll implement a full training pipeline for a CNN using the FashionMNIST dataset.\n",
    "\n",
    "**Steps:**\n",
    "1. Load the FashionMNIST dataset using torchvision, with normalization.\n",
    "2. Define a custom CNN model with:\n",
    "    - Two convolutional layers\n",
    "    - ReLU activations and max pooling\n",
    "    - Dropout layer\n",
    "    - Two fully connected layers\n",
    "3. Define a training loop using:\n",
    "    - CrossEntropyLoss\n",
    "    - Adam optimizer\n",
    "    - Train for at least 3 epochs\n",
    "4. Track and store training loss per epoch in a list named `train_losses`.\n",
    "5. Plot the training loss after training."
   ]
  },
  {
   "cell_type": "code",
   "execution_count": 1,
   "id": "8abdac99",
   "metadata": {
    "deletable": false,
    "editable": false,
    "nbgrader": {
     "cell_type": "code",
     "checksum": "990837ceedd4f79deeba647095c78c2f",
     "grade": false,
     "grade_id": "cell-7be2325d2bb285c1",
     "locked": true,
     "schema_version": 3,
     "solution": false,
     "task": false
    }
   },
   "outputs": [],
   "source": [
    "# Import necessary libraries\n",
    "import torch\n",
    "import torch.nn as nn\n",
    "import torch.optim as optim\n",
    "import torchvision\n",
    "import torchvision.transforms as transforms\n",
    "import matplotlib.pyplot as plt\n",
    "\n",
    "# Set device\n",
    "device = torch.device(\"cuda\" if torch.cuda.is_available() else \"cpu\")\n",
    "\n",
    "# Load data\n",
    "transform = transforms.Compose([transforms.ToTensor(), transforms.Normalize((0.5,), (0.5,))])\n",
    "trainset = torchvision.datasets.FashionMNIST(root='./data', train=True, download=True, transform=transform)\n",
    "testset = torchvision.datasets.FashionMNIST(root='./data', train=False, download=True, transform=transform)\n",
    "trainloader = torch.utils.data.DataLoader(trainset, batch_size=64, shuffle=True)\n",
    "testloader = torch.utils.data.DataLoader(testset, batch_size=64, shuffle=False)"
   ]
  },
  {
   "cell_type": "code",
   "execution_count": 2,
   "id": "85bbb4ae",
   "metadata": {
    "deletable": false,
    "nbgrader": {
     "cell_type": "code",
     "checksum": "7af9ff67ab8c5cad62f9e24b74221a77",
     "grade": false,
     "grade_id": "cell-636e12df41fbaf3d",
     "locked": false,
     "schema_version": 3,
     "solution": true,
     "task": false
    }
   },
   "outputs": [],
   "source": [
    "# Define model\n",
    "class CustomCNN(nn.Module):\n",
    "    def __init__(self):\n",
    "        super(CustomCNN, self).__init__()\n",
    "        self.conv1 = nn.Conv2d(1, 32, kernel_size=3, padding=1)  # 28x28 -> 28x28\n",
    "        self.pool = nn.MaxPool2d(2, 2)  # 28x28 -> 14x14\n",
    "        self.conv2 = nn.Conv2d(32, 64, kernel_size=3, padding=1) # 14x14 -> 14x14\n",
    "        self.dropout = nn.Dropout(0.25)\n",
    "        self.fc1 = nn.Linear(64 * 7 * 7, 128)  # after pooling twice\n",
    "        self.fc2 = nn.Linear(128, 10)\n",
    "\n",
    "    def forward(self, x):\n",
    "        x = self.pool(torch.relu(self.conv1(x)))\n",
    "        x = self.pool(torch.relu(self.conv2(x)))\n",
    "        x = self.dropout(x)\n",
    "        x = x.view(x.size(0), -1)  # flatten\n",
    "        x = torch.relu(self.fc1(x))\n",
    "        x = self.fc2(x)\n",
    "        return x\n",
    "    \n",
    "model = CustomCNN().to(device)\n",
    "criterion = nn.CrossEntropyLoss()\n",
    "optimizer = optim.Adam(model.parameters(), lr=0.001)"
   ]
  },
  {
   "cell_type": "markdown",
   "id": "e9f71354",
   "metadata": {
    "deletable": false,
    "editable": false,
    "nbgrader": {
     "cell_type": "markdown",
     "checksum": "f31fd477a34ad8f4abb9cdf8aed638f2",
     "grade": false,
     "grade_id": "cell-fdbf6334dbbb031f",
     "locked": true,
     "schema_version": 3,
     "solution": false,
     "task": false
    }
   },
   "source": [
    "## Grading of Lab Assignments:\n",
    "The grading of this assignment is based on the test cases throughout this notebook within the `# BEGIN TESTS` and `#END TESTS` comments. \n",
    "\n",
    "Each task has a number of test cells. For example, the three cells below are confirming the model has been defined and named `model` as expected, containing two convolutional layers and a dropout layer.\n",
    "\n",
    "Run all of these test cells throughout the project to confirm you pass the tests and are on the right track. Once you have passed all the tests in the entire notebook, or are happy with your results you can click the `Submit Assignment` button in the top right corner for your final submission and grading. \n",
    "\n",
    "Good luck!"
   ]
  },
  {
   "cell_type": "code",
   "execution_count": 3,
   "id": "474482b0",
   "metadata": {
    "deletable": false,
    "editable": false,
    "nbgrader": {
     "cell_type": "code",
     "checksum": "a4f4e48b4e686e5118185da6105bee6e",
     "grade": true,
     "grade_id": "cell-5116fc2868360621",
     "locked": true,
     "points": 1,
     "schema_version": 3,
     "solution": false,
     "task": false
    }
   },
   "outputs": [
    {
     "name": "stdout",
     "output_type": "stream",
     "text": [
      "✅ TEST PASSED!\n"
     ]
    }
   ],
   "source": [
    "# BEGIN TESTS\n",
    "assert isinstance(model, nn.Module), \"model should be an instance of nn.Module\"\n",
    "print(\"✅ TEST PASSED!\")\n",
    "# END TESTS\n",
    "\n",
    "# Note: There may be hidden tests that learners cannot see, as to not give away the full solution."
   ]
  },
  {
   "cell_type": "code",
   "execution_count": 4,
   "id": "dda923d9",
   "metadata": {
    "deletable": false,
    "editable": false,
    "nbgrader": {
     "cell_type": "code",
     "checksum": "25fd674ed6b3bb465b0308a6f8ca2bfa",
     "grade": true,
     "grade_id": "cell-933fb8b835884430",
     "locked": true,
     "points": 1,
     "schema_version": 3,
     "solution": false,
     "task": false
    }
   },
   "outputs": [
    {
     "name": "stdout",
     "output_type": "stream",
     "text": [
      "✅ TEST PASSED!\n"
     ]
    }
   ],
   "source": [
    "# BEGIN TEST\n",
    "conv_layers = [m for m in model.modules() if isinstance(m, nn.Conv2d)]\n",
    "assert len(conv_layers) == 2, \"Model must include two nn.Conv2d layers\"\n",
    "print(\"✅ TEST PASSED!\")\n",
    "# END TEST\n",
    "\n",
    "# Note: There may be hidden tests that learners cannot see, as to not give away the full solution."
   ]
  },
  {
   "cell_type": "code",
   "execution_count": 5,
   "id": "47014602",
   "metadata": {
    "deletable": false,
    "editable": false,
    "nbgrader": {
     "cell_type": "code",
     "checksum": "8be62801d51e2b76460396c524744b0e",
     "grade": true,
     "grade_id": "cell-0c7939f60ca4baf5",
     "locked": true,
     "points": 1,
     "schema_version": 3,
     "solution": false,
     "task": false
    }
   },
   "outputs": [
    {
     "name": "stdout",
     "output_type": "stream",
     "text": [
      "✅ TEST PASSED!\n"
     ]
    }
   ],
   "source": [
    "# BEGIN TEST\n",
    "assert isinstance(model.dropout, nn.Dropout), \"Dropout should be nn.Dropout\"\n",
    "print(\"✅ TEST PASSED!\")\n",
    "# END TESTS\n",
    "\n",
    "# Note: There may be hidden tests that learners cannot see, as to not give away the full solution."
   ]
  },
  {
   "cell_type": "code",
   "execution_count": 6,
   "id": "28d97a15",
   "metadata": {
    "deletable": false,
    "nbgrader": {
     "cell_type": "code",
     "checksum": "ed6190b775a6105f8fe463fc2db2c573",
     "grade": false,
     "grade_id": "cell-745dc4305be75523",
     "locked": false,
     "schema_version": 3,
     "solution": true,
     "task": false
    }
   },
   "outputs": [
    {
     "name": "stdout",
     "output_type": "stream",
     "text": [
      "Epoch [1/3], Loss: 0.4471\n",
      "Epoch [2/3], Loss: 0.2944\n",
      "Epoch [3/3], Loss: 0.2507\n"
     ]
    }
   ],
   "source": [
    "# Training loop\n",
    "train_losses = []\n",
    "num_epochs = 3\n",
    "\n",
    "for epoch in range(num_epochs):\n",
    "    running_loss = 0.0\n",
    "    model.train()  # set model to training mode\n",
    "    for images, labels in trainloader:\n",
    "        images, labels = images.to(device), labels.to(device)\n",
    "\n",
    "        # Forward pass\n",
    "        outputs = model(images)\n",
    "        loss = criterion(outputs, labels)\n",
    "\n",
    "        # Backward + optimize\n",
    "        optimizer.zero_grad()\n",
    "        loss.backward()\n",
    "        optimizer.step()\n",
    "\n",
    "        running_loss += loss.item()\n",
    "        \n",
    "    # Average loss per epoch\n",
    "    epoch_loss = running_loss / len(trainloader)\n",
    "    train_losses.append(epoch_loss)\n",
    "    print(f\"Epoch [{epoch+1}/{num_epochs}], Loss: {epoch_loss:.4f}\")"
   ]
  },
  {
   "cell_type": "code",
   "execution_count": 7,
   "id": "115f13bb",
   "metadata": {
    "deletable": false,
    "editable": false,
    "nbgrader": {
     "cell_type": "code",
     "checksum": "85b184ba66cd971d4851ce59031842bf",
     "grade": false,
     "grade_id": "cell-15fa6bb318f36298",
     "locked": true,
     "schema_version": 3,
     "solution": false,
     "task": false
    }
   },
   "outputs": [
    {
     "data": {
      "image/png": "[encoded data removed]",
      "text/plain": [
       "<Figure size 640x480 with 1 Axes>"
      ]
     },
     "metadata": {},
     "output_type": "display_data"
    }
   ],
   "source": [
    "# Plot loss\n",
    "plt.plot(train_losses)\n",
    "plt.title(\"Training Loss\")\n",
    "plt.xlabel(\"Epoch\")\n",
    "plt.ylabel(\"Loss\")\n",
    "plt.show()"
   ]
  },
  {
   "cell_type": "code",
   "execution_count": 8,
   "id": "da2c99dc",
   "metadata": {
    "deletable": false,
    "editable": false,
    "nbgrader": {
     "cell_type": "code",
     "checksum": "ba3f497c465471249054ec0f8e2341f5",
     "grade": true,
     "grade_id": "cell-10db17566d834384",
     "locked": true,
     "points": 1,
     "schema_version": 3,
     "solution": false,
     "task": false
    }
   },
   "outputs": [
    {
     "name": "stdout",
     "output_type": "stream",
     "text": [
      "✅ TEST PASSED!\n"
     ]
    }
   ],
   "source": [
    "# BEGIN TESTS\n",
    "assert isinstance(train_losses, list), \"train_losses should be a list\"\n",
    "print(\"✅ TEST PASSED!\")\n",
    "# END TESTS\n",
    "\n",
    "# Note: There may be hidden tests that learners cannot see, as to not give away the full solution."
   ]
  },
  {
   "cell_type": "code",
   "execution_count": 9,
   "id": "cbc76054",
   "metadata": {
    "deletable": false,
    "editable": false,
    "nbgrader": {
     "cell_type": "code",
     "checksum": "b63ad5b70d2c0babeb483c3bbb6a5de6",
     "grade": true,
     "grade_id": "cell-97d07a8f01ae428f",
     "locked": true,
     "points": 1,
     "schema_version": 3,
     "solution": false,
     "task": false
    }
   },
   "outputs": [
    {
     "name": "stdout",
     "output_type": "stream",
     "text": [
      "✅ TEST PASSED!\n"
     ]
    }
   ],
   "source": [
    "# BEGIN TESTS\n",
    "assert len(train_losses) >= 3, \"Should track loss for at least 3 epochs\"\n",
    "print(\"✅ TEST PASSED!\")\n",
    "# END TESTS\n",
    "\n",
    "# Note: There may be hidden tests that learners cannot see, as to not give away the full solution."
   ]
  },
  {
   "cell_type": "code",
   "execution_count": 10,
   "id": "dcfeec1f",
   "metadata": {
    "deletable": false,
    "editable": false,
    "nbgrader": {
     "cell_type": "code",
     "checksum": "13139dce1bb87b8e39934ac38d144d62",
     "grade": true,
     "grade_id": "cell-d97e4dfda7da6e9b",
     "locked": true,
     "points": 1,
     "schema_version": 3,
     "solution": false,
     "task": false
    }
   },
   "outputs": [
    {
     "name": "stdout",
     "output_type": "stream",
     "text": [
      "✅ TEST PASSED!\n"
     ]
    }
   ],
   "source": [
    "# BEGIN TESTS\n",
    "assert train_losses[-1] < train_losses[0] or abs(train_losses[-1] - train_losses[0]) < 0.1, \"Training loss should generally decrease\"\n",
    "print(\"✅ TEST PASSED!\")\n",
    "# END TESTS\n",
    "\n",
    "# Note: There may be hidden tests that learners cannot see, as to not give away the full solution."
   ]
  },
  {
   "cell_type": "markdown",
   "id": "c4ceb49c",
   "metadata": {
    "deletable": false,
    "editable": false,
    "nbgrader": {
     "cell_type": "markdown",
     "checksum": "db0cd8e40ae1fb2e1062d9402c61e4a3",
     "grade": false,
     "grade_id": "cell-92d0647f43d30e34",
     "locked": true,
     "schema_version": 3,
     "solution": false,
     "task": false
    }
   },
   "source": [
    "## 📅 Success Checklist\n",
    "- Trained CNN on FashionMNIST\n",
    "- Monitored overfitting/underfitting\n",
    "- Applied regularization techniques\n",
    "\n",
    "\n",
    "## 💡 Key Points\n",
    "- CNNs are powerful for image tasks\n",
    "- Overfitting is common in small datasets; mitigate with dropout and weight decay"
   ]
  },
  {
   "cell_type": "markdown",
   "id": "28fb9d44",
   "metadata": {
    "deletable": false,
    "editable": false,
    "nbgrader": {
     "cell_type": "markdown",
     "checksum": "f3227585e0133bc60575255d6b8f8875",
     "grade": false,
     "grade_id": "cell-0b98c81565d6f2bf",
     "locked": true,
     "schema_version": 3,
     "solution": false,
     "task": false
    }
   },
   "source": [
    "## 💡 Task 2: Text Classification with LSTM\n",
    "In this task, you'll train an LSTM-based model to classify IMDB movie reviews as positive or negative. You'll explore sequence modeling and learn how to work with text datasets using TorchText.\n",
    "\n",
    "**Steps:**\n",
    "1. Load the IMDB dataset using `torchtext.datasets.IMDB`\n",
    "2. Tokenize and build a vocabulary using `torchtext`.\n",
    "3. Implement a collate function to:\n",
    "    - Pad sequences\n",
    "    - Batch labels\n",
    "4. Create an LSTMClassifier that:\n",
    "    - Uses an embedding layer\n",
    "    - A single-layer LSTM\n",
    "    - A fully connected output layer\n",
    "5. Implement a training loop with:\n",
    "    - autocast (mixed precision)\n",
    "    - GradScaler\n",
    "    - Gradient clipping\n",
    "    - Track both training and validation loss over 10 epochs\n",
    "6. Plot the training and validation loss curves."
   ]
  },
  {
   "cell_type": "code",
   "execution_count": 11,
   "id": "91ba496f",
   "metadata": {
    "deletable": false,
    "editable": false,
    "nbgrader": {
     "cell_type": "code",
     "checksum": "5d3eda87d43adce65061f70b274d188e",
     "grade": false,
     "grade_id": "cell-e4006886010c171e",
     "locked": true,
     "schema_version": 3,
     "solution": false,
     "task": false
    }
   },
   "outputs": [],
   "source": [
    "# Import necessary libraries\n",
    "import torch\n",
    "import torch.nn as nn\n",
    "import torch.optim as optim\n",
    "from torchtext.datasets import IMDB\n",
    "from torchtext.data.utils import get_tokenizer\n",
    "from torchtext.vocab import build_vocab_from_iterator\n",
    "from torch.utils.data import DataLoader\n",
    "from torch.cuda.amp import autocast, GradScaler\n",
    "import matplotlib.pyplot as plt\n",
    "import random\n",
    "\n",
    "# Set Device\n",
    "device = torch.device(\"cuda\" if torch.cuda.is_available() else \"cpu\")\n",
    "\n",
    "# Load Data\n",
    "train_iter, test_iter = IMDB(split=('train', 'test'))\n",
    "\n",
    "# Sample a small subset for faster training\n",
    "random.seed(42)\n",
    "train_data = random.sample(list(train_iter), 2000)  # (label, text)\n",
    "test_data = random.sample(list(test_iter), 2000)\n",
    "\n",
    "# Split into train/val\n",
    "train_data, valid_data = train_data[:1600], train_data[1600:]"
   ]
  },
  {
   "cell_type": "code",
   "execution_count": 12,
   "id": "6bccef84",
   "metadata": {
    "deletable": false,
    "nbgrader": {
     "cell_type": "code",
     "checksum": "c745474dd469c597a3babbdf7bc1f0b2",
     "grade": false,
     "grade_id": "cell-bd05a6abd072c4d5",
     "locked": false,
     "schema_version": 3,
     "solution": true,
     "task": false
    }
   },
   "outputs": [],
   "source": [
    "# Tokenizer\n",
    "tokenizer = get_tokenizer('basic_english')\n",
    "\n",
    "# Build vocabulary\n",
    "def yield_tokens(data):\n",
    "    for idx in range(len(data)):\n",
    "        label, text = data[idx]\n",
    "        yield tokenizer(text)\n",
    "    \n",
    "vocab = build_vocab_from_iterator(yield_tokens(train_data), specials=['<unk>', '<pad>'], max_tokens=10000)\n",
    "vocab.set_default_index(vocab['<unk>'])"
   ]
  },
  {
   "cell_type": "code",
   "execution_count": 13,
   "id": "3844f470",
   "metadata": {
    "deletable": false,
    "nbgrader": {
     "cell_type": "code",
     "checksum": "5a7fb428c49261683fd1fe81cde8eabc",
     "grade": false,
     "grade_id": "cell-de98ba3ecbc748cb",
     "locked": false,
     "schema_version": 3,
     "solution": true,
     "task": false
    }
   },
   "outputs": [],
   "source": [
    "# Data pipeline\n",
    "def text_pipeline(text):\n",
    "    return [vocab[token] for token in tokenizer(text)]\n",
    "    \n",
    "\n",
    "def collate_batch(batch):\n",
    "    label_list, text_list, lengths = [], [], []\n",
    "    for _label, _text in batch:\n",
    "        label_list.append(float(_label - 1)) # Convert labels \"1\" → 0.0, \"2\" → 1.0\n",
    "        processed_text = torch.tensor(text_pipeline(_text), dtype=torch.int64)\n",
    "        text_list.append(processed_text)\n",
    "        lengths.append(len(processed_text))\n",
    "    label_list = torch.tensor(label_list, dtype=torch.float)\n",
    "    text_list = torch.nn.utils.rnn.pad_sequence(text_list, batch_first=True, padding_value=vocab['<pad>'])\n",
    "    lengths = torch.tensor(lengths)\n",
    "    return text_list.to(device), label_list.to(device), lengths.to(device)\n"
   ]
  },
  {
   "cell_type": "code",
   "execution_count": 14,
   "id": "23e4c159",
   "metadata": {
    "deletable": false,
    "nbgrader": {
     "cell_type": "code",
     "checksum": "8e4e09796e56b2ba6f8dbac19460bcde",
     "grade": false,
     "grade_id": "cell-9e3b502961b02613",
     "locked": false,
     "schema_version": 3,
     "solution": true,
     "task": false
    }
   },
   "outputs": [],
   "source": [
    "# Data loaders\n",
    "train_loader = DataLoader(train_data, batch_size=64, shuffle=True, collate_fn=collate_batch)\n",
    "valid_loader = DataLoader(valid_data, batch_size=64, shuffle=False, collate_fn=collate_batch)\n",
    "test_loader = DataLoader(test_data, batch_size=64, shuffle=False, collate_fn=collate_batch)\n",
    "\n",
    "# LSTM Model\n",
    "class LSTMClassifier(nn.Module):\n",
    "    def __init__(self, vocab_size, emb_dim, hidden_dim, output_dim):\n",
    "        super().__init__()\n",
    "        \n",
    "        self.embedding = nn.Embedding(vocab_size, emb_dim, padding_idx=vocab['<pad>'])\n",
    "        self.lstm = nn.LSTM(emb_dim, hidden_dim, batch_first=True)\n",
    "        self.fc = nn.Linear(hidden_dim, output_dim)\n",
    "        \n",
    "\n",
    "    def forward(self, x, lengths):\n",
    "        \n",
    "        emb = self.embedding(x)\n",
    "        packed = nn.utils.rnn.pack_padded_sequence(emb, lengths.cpu(), batch_first=True, enforce_sorted=False)\n",
    "        _, (hidden, _) = self.lstm(packed)\n",
    "        return self.fc(hidden[-1])\n",
    "        \n",
    "        \n",
    "model = LSTMClassifier(len(vocab), 100, 256, 1).to(device)\n",
    "optimizer = optim.Adam(model.parameters())\n",
    "criterion = nn.BCEWithLogitsLoss()\n",
    "\n",
    "# Initialize GradScaler for AMP\n",
    "scaler = GradScaler(enabled=device.type == \"cuda\")"
   ]
  },
  {
   "cell_type": "code",
   "execution_count": 15,
   "id": "bbe77e85",
   "metadata": {
    "deletable": false,
    "editable": false,
    "nbgrader": {
     "cell_type": "code",
     "checksum": "c90595bf6dfdd5c10d1ecd8f1df325de",
     "grade": true,
     "grade_id": "cell-f3cf81fe2d7dac11",
     "locked": true,
     "points": 1,
     "schema_version": 3,
     "solution": false,
     "task": false
    }
   },
   "outputs": [
    {
     "name": "stdout",
     "output_type": "stream",
     "text": [
      "✅ TEST PASSED!\n"
     ]
    }
   ],
   "source": [
    "# BEGIN TESTS\n",
    "assert isinstance(model, nn.Module), \"model should be an instance of nn.Module\"\n",
    "assert hasattr(model, 'lstm'), \"Model must have an attribute named 'lstm'\"\n",
    "print(\"✅ TEST PASSED!\")\n",
    "# END TESTS\n",
    "\n",
    "# Note: There may be hidden tests that learners cannot see, as to not give away the full solution."
   ]
  },
  {
   "cell_type": "code",
   "execution_count": 16,
   "id": "dd3216d6",
   "metadata": {
    "deletable": false,
    "editable": false,
    "nbgrader": {
     "cell_type": "code",
     "checksum": "ee45241b415f386a9c1b24a466ca54d7",
     "grade": true,
     "grade_id": "cell-09206377a4e718af",
     "locked": true,
     "points": 1,
     "schema_version": 3,
     "solution": false,
     "task": false
    }
   },
   "outputs": [
    {
     "name": "stdout",
     "output_type": "stream",
     "text": [
      "✅ TEST PASSED!\n"
     ]
    }
   ],
   "source": [
    "# BEGIN TEST\n",
    "lstm_layers = [m for m in model.modules() if isinstance(m, nn.LSTM)]\n",
    "assert len(lstm_layers) == 1, \"Model must include a single nn.LSTM layer\"\n",
    "print(\"✅ TEST PASSED!\")\n",
    "# END TEST\n",
    "\n",
    "# Note: There may be hidden tests that learners cannot see, as to not give away the full solution."
   ]
  },
  {
   "cell_type": "code",
   "execution_count": 17,
   "id": "5c423470",
   "metadata": {
    "deletable": false,
    "editable": false,
    "nbgrader": {
     "cell_type": "code",
     "checksum": "6f08bbd70aec95c3fb499e057b746638",
     "grade": true,
     "grade_id": "cell-9cdcb5bb528e3f1c",
     "locked": true,
     "points": 1,
     "schema_version": 3,
     "solution": false,
     "task": false
    }
   },
   "outputs": [
    {
     "name": "stdout",
     "output_type": "stream",
     "text": [
      "✅ TEST PASSED!\n"
     ]
    }
   ],
   "source": [
    "# BEGIN TEST\n",
    "embedding_layers = [m for m in model.modules() if isinstance(m, nn.Embedding)]\n",
    "assert len(embedding_layers) >= 1, \"Model must use an single nn.Embedding layer\"\n",
    "print(\"✅ TEST PASSED!\")\n",
    "# END TEST\n",
    "\n",
    "# Note: There may be hidden tests that learners cannot see, as to not give away the full solution."
   ]
  },
  {
   "cell_type": "code",
   "execution_count": 19,
   "id": "5ff0f4d0",
   "metadata": {
    "deletable": false,
    "nbgrader": {
     "cell_type": "code",
     "checksum": "e2098417b5f9b12248558ef9e751522c",
     "grade": false,
     "grade_id": "cell-28347247e4667981",
     "locked": false,
     "schema_version": 3,
     "solution": true,
     "task": false
    }
   },
   "outputs": [
    {
     "name": "stdout",
     "output_type": "stream",
     "text": [
      "Epoch 1 | Train Loss: 0.6944 | Valid Loss: 0.6926\n",
      "Epoch 2 | Train Loss: 0.6776 | Valid Loss: 0.6937\n",
      "Epoch 3 | Train Loss: 0.6420 | Valid Loss: 0.7049\n",
      "Epoch 4 | Train Loss: 0.6028 | Valid Loss: 0.6439\n",
      "Epoch 5 | Train Loss: 0.5633 | Valid Loss: 0.6445\n",
      "Epoch 6 | Train Loss: 0.5278 | Valid Loss: 0.6241\n",
      "Epoch 7 | Train Loss: 0.4829 | Valid Loss: 0.6774\n",
      "Epoch 8 | Train Loss: 0.4729 | Valid Loss: 0.6491\n",
      "Epoch 9 | Train Loss: 0.4367 | Valid Loss: 0.6318\n",
      "Epoch 10 | Train Loss: 0.3912 | Valid Loss: 0.6483\n"
     ]
    }
   ],
   "source": [
    "# Training loop with AMP and gradient clipping\n",
    "train_losses, valid_losses = [], []\n",
    "for epoch in range(10):\n",
    "    \n",
    "    model.train()\n",
    "    running_train_loss = 0.0\n",
    "    for text, labels, lengths in train_loader:\n",
    "        optimizer.zero_grad()\n",
    "        with autocast(enabled=device.type == \"cuda\"):\n",
    "            outputs = model(text, lengths).squeeze(1)\n",
    "            loss = criterion(outputs, labels)\n",
    "        scaler.scale(loss).backward()\n",
    "        nn.utils.clip_grad_norm_(model.parameters(), max_norm=1.0)  # Clip gradients\n",
    "        scaler.step(optimizer)\n",
    "        scaler.update()\n",
    "        running_train_loss += loss.item()\n",
    "    avg_train_loss = running_train_loss / len(train_loader)\n",
    "    train_losses.append(avg_train_loss)\n",
    "\n",
    "    model.eval()\n",
    "    running_valid_loss = 0.0\n",
    "    with torch.no_grad():\n",
    "        for text, labels, lengths in valid_loader:\n",
    "            with autocast(enabled=device.type == \"cuda\"):\n",
    "                outputs = model(text, lengths).squeeze(1)\n",
    "                loss = criterion(outputs, labels)\n",
    "            running_valid_loss += loss.item()\n",
    "    avg_valid_loss = running_valid_loss / len(valid_loader)\n",
    "    valid_losses.append(avg_valid_loss)\n",
    "\n",
    "    print(f\"Epoch {epoch+1} | Train Loss: {avg_train_loss:.4f} | Valid Loss: {avg_valid_loss:.4f}\")\n",
    "    \n",
    "    "
   ]
  },
  {
   "cell_type": "code",
   "execution_count": 20,
   "id": "6c4b5516",
   "metadata": {
    "deletable": false,
    "editable": false,
    "nbgrader": {
     "cell_type": "code",
     "checksum": "69e1b7abb37c26501bccf92b414c1e86",
     "grade": false,
     "grade_id": "cell-2ef9890aa5e863e8",
     "locked": true,
     "schema_version": 3,
     "solution": false,
     "task": false
    }
   },
   "outputs": [
    {
     "data": {
      "image/png": "[encoded data removed]",
      "text/plain": [
       "<Figure size 640x480 with 1 Axes>"
      ]
     },
     "metadata": {},
     "output_type": "display_data"
    }
   ],
   "source": [
    "# Plot losses\n",
    "plt.plot(train_losses, label='Training Loss')\n",
    "plt.plot(valid_losses, label='Validation Loss')\n",
    "plt.title(\"LSTM Training and Validation Loss\")\n",
    "plt.xlabel(\"Epoch\")\n",
    "plt.ylabel(\"Loss\")\n",
    "plt.legend()\n",
    "plt.show()"
   ]
  },
  {
   "cell_type": "code",
   "execution_count": 21,
   "id": "88063a32",
   "metadata": {
    "deletable": false,
    "editable": false,
    "nbgrader": {
     "cell_type": "code",
     "checksum": "357664824447fcf2733cd5a33584cd59",
     "grade": true,
     "grade_id": "cell-db93ee07f7fd377f",
     "locked": true,
     "points": 1,
     "schema_version": 3,
     "solution": false,
     "task": false
    }
   },
   "outputs": [
    {
     "name": "stdout",
     "output_type": "stream",
     "text": [
      "✅ TEST PASSED!\n"
     ]
    }
   ],
   "source": [
    "# BEGIN TESTS\n",
    "assert isinstance(train_losses, list), \"train_losses should be a list\"\n",
    "print(\"✅ TEST PASSED!\")\n",
    "# END TESTS\n",
    "\n",
    "# Note: There may be hidden tests that learners cannot see, as to not give away the full solution."
   ]
  },
  {
   "cell_type": "code",
   "execution_count": 22,
   "id": "e4c43eae",
   "metadata": {
    "deletable": false,
    "editable": false,
    "nbgrader": {
     "cell_type": "code",
     "checksum": "6bdbc6228af420880657589b16172dc4",
     "grade": true,
     "grade_id": "cell-c9c29a1455788a93",
     "locked": true,
     "points": 1,
     "schema_version": 3,
     "solution": false,
     "task": false
    }
   },
   "outputs": [
    {
     "name": "stdout",
     "output_type": "stream",
     "text": [
      "✅ TEST PASSED!\n"
     ]
    }
   ],
   "source": [
    "# BEGIN TESTS\n",
    "assert len(train_losses) >= 10, \"Should track loss for at least 10 epochs\"\n",
    "print(\"✅ TEST PASSED!\")\n",
    "# END TESTS\n",
    "\n",
    "# Note: There may be hidden tests that learners cannot see, as to not give away the full solution."
   ]
  },
  {
   "cell_type": "code",
   "execution_count": 23,
   "id": "19007814",
   "metadata": {
    "deletable": false,
    "editable": false,
    "nbgrader": {
     "cell_type": "code",
     "checksum": "d7ad2925f6b8861f707c5e96bb34b22a",
     "grade": true,
     "grade_id": "cell-492ccb4bd3a59899",
     "locked": true,
     "points": 1,
     "schema_version": 3,
     "solution": false,
     "task": false
    }
   },
   "outputs": [
    {
     "name": "stdout",
     "output_type": "stream",
     "text": [
      "✅ TEST PASSED!\n"
     ]
    }
   ],
   "source": [
    "# BEGIN TESTS\n",
    "assert train_losses[-1] < train_losses[0] or abs(train_losses[-1] - train_losses[0]) < 0.1, \"Training loss should generally decrease\"\n",
    "print(\"✅ TEST PASSED!\")\n",
    "# END TESTS\n",
    "\n",
    "# Note: There may be hidden tests that learners cannot see, as to not give away the full solution."
   ]
  },
  {
   "cell_type": "markdown",
   "id": "a184d7e4",
   "metadata": {
    "deletable": false,
    "editable": false,
    "nbgrader": {
     "cell_type": "markdown",
     "checksum": "b3b9abc7b931062f7adba3403c5f4ba2",
     "grade": false,
     "grade_id": "cell-d6bddd9b18fb1f93",
     "locked": true,
     "schema_version": 3,
     "solution": false,
     "task": false
    }
   },
   "source": [
    "## 📅 Success Checklist\n",
    "- Trained LSTM-based text classifier\n",
    "- Evaluated model with appropriate metrics\n",
    "\n",
    "\n",
    "## 💡 Key Points\n",
    "- Sequence modeling requires batching and padding\n",
    "- LSTMs capture temporal dependencies in text\n"
   ]
  },
  {
   "cell_type": "markdown",
   "id": "63a4983f",
   "metadata": {
    "deletable": false,
    "editable": false,
    "nbgrader": {
     "cell_type": "markdown",
     "checksum": "06a54afba86eb1b0d848b900f7517fed",
     "grade": false,
     "grade_id": "cell-9cf8b7d6e63479f9",
     "locked": true,
     "schema_version": 3,
     "solution": false,
     "task": false
    }
   },
   "source": [
    "## 💻Exemplar Solution\n",
    "After completing this activity (or if you get stuck!), take a moment to review the exemplar solution. This sample solution can offer insights into different techniques and approaches.\n",
    "Reflect on what you can learn from the exemplar solution to improve your coding skills.\n",
    "Remember, multiple solutions can exist for some problems; the goal is to learn and grow as a programmer by exploring various approaches.\n",
    "Use the exemplar solution as a learning tool to enhance your understanding and refine your approach to coding challenges."
   ]
  },
  {
   "cell_type": "markdown",
   "id": "49a4e4ba",
   "metadata": {
    "deletable": false,
    "editable": false,
    "nbgrader": {
     "cell_type": "markdown",
     "checksum": "8232638b08c8ffd5d306aaf4b2504210",
     "grade": false,
     "grade_id": "cell-0c30976510455289",
     "locked": true,
     "schema_version": 3,
     "solution": false,
     "task": false
    }
   },
   "source": [
    "<details>\n",
    "\n",
    "<summary><strong>Click HERE to see an exemplar solution</strong></summary>    \n",
    "    \n",
    "```python  \n",
    "#########\n",
    "# TASK 1\n",
    "#########\n",
    "# Import necessary libraries\n",
    "import torch\n",
    "import torch.nn as nn\n",
    "import torch.optim as optim\n",
    "import torchvision\n",
    "import torchvision.transforms as transforms\n",
    "import matplotlib.pyplot as plt\n",
    "\n",
    "# Set device\n",
    "device = torch.device(\"cuda\" if torch.cuda.is_available() else \"cpu\")\n",
    "\n",
    "# Load data\n",
    "transform = transforms.Compose([transforms.ToTensor(), transforms.Normalize((0.5,), (0.5,))])\n",
    "trainset = torchvision.datasets.FashionMNIST(root='./data', train=True, download=True, transform=transform)\n",
    "testset = torchvision.datasets.FashionMNIST(root='./data', train=False, download=True, transform=transform)\n",
    "trainloader = torch.utils.data.DataLoader(trainset, batch_size=64, shuffle=True)\n",
    "testloader = torch.utils.data.DataLoader(testset, batch_size=64, shuffle=False)\n",
    "    \n",
    "# Define model\n",
    "class CustomCNN(nn.Module):\n",
    "    def __init__(self):\n",
    "        # SOLUTION\n",
    "        super(CustomCNN, self).__init__()\n",
    "        self.conv1 = nn.Conv2d(1, 32, kernel_size=3, padding=1)\n",
    "        self.pool = nn.MaxPool2d(2, 2)\n",
    "        self.conv2 = nn.Conv2d(32, 64, kernel_size=3, padding=1)\n",
    "        self.fc1 = nn.Linear(64 * 7 * 7, 128)\n",
    "        self.dropout = nn.Dropout(0.3)\n",
    "        self.fc2 = nn.Linear(128, 10)\n",
    "        # SOLUTION\n",
    "\n",
    "    def forward(self, x):\n",
    "        # SOLUTION\n",
    "        x = self.pool(torch.relu(self.conv1(x)))\n",
    "        x = self.pool(torch.relu(self.conv2(x)))\n",
    "        x = x.view(-1, 64 * 7 * 7)\n",
    "        x = torch.relu(self.fc1(x))\n",
    "        x = self.dropout(x)\n",
    "        x = self.fc2(x)\n",
    "        return x\n",
    "        # SOLUTION\n",
    "    \n",
    "model = CustomCNN().to(device)\n",
    "criterion = nn.CrossEntropyLoss()\n",
    "optimizer = optim.Adam(model.parameters(), lr=0.001)\n",
    "    \n",
    "# Training loop\n",
    "train_losses = []\n",
    "for epoch in range(3):\n",
    "    # SOLUTION\n",
    "    running_loss = 0.0\n",
    "    for inputs, labels in trainloader:\n",
    "        inputs, labels = inputs.to(device), labels.to(device)\n",
    "\n",
    "        optimizer.zero_grad()\n",
    "        outputs = model(inputs)\n",
    "        loss = criterion(outputs, labels)\n",
    "        loss.backward()\n",
    "        optimizer.step()\n",
    "\n",
    "        running_loss += loss.item()\n",
    "    train_losses.append(running_loss / len(trainloader))\n",
    "    print(f\"Epoch {epoch+1} loss: {train_losses[-1]:.4f}\")\n",
    "    # SOLUTION\n",
    "    \n",
    "# Plot loss\n",
    "plt.plot(train_losses)\n",
    "plt.title(\"Training Loss\")\n",
    "plt.xlabel(\"Epoch\")\n",
    "plt.ylabel(\"Loss\")\n",
    "plt.show()\n",
    "    \n",
    "#########\n",
    "# TASK 2\n",
    "#########\n",
    "# Import necessary libraries\n",
    "import torch\n",
    "import torch.nn as nn\n",
    "import torch.optim as optim\n",
    "from torchtext.datasets import IMDB\n",
    "from torchtext.data.utils import get_tokenizer\n",
    "from torchtext.vocab import build_vocab_from_iterator\n",
    "from torch.utils.data import DataLoader\n",
    "from torch.cuda.amp import autocast, GradScaler\n",
    "import matplotlib.pyplot as plt\n",
    "import random\n",
    "\n",
    "# Set Device\n",
    "device = torch.device(\"cuda\" if torch.cuda.is_available() else \"cpu\")\n",
    "\n",
    "# Load Data\n",
    "train_iter, test_iter = IMDB(split=('train', 'test'))\n",
    "\n",
    "# Sample a small subset for faster training\n",
    "random.seed(42)\n",
    "train_data = random.sample(list(train_iter), 2000)  # (label, text)\n",
    "test_data = random.sample(list(test_iter), 2000)\n",
    "\n",
    "# Split into train/val\n",
    "train_data, valid_data = train_data[:1600], train_data[1600:]\n",
    "\n",
    "# Tokenizer\n",
    "tokenizer = get_tokenizer('basic_english')\n",
    "\n",
    "# Build vocabulary\n",
    "def yield_tokens(data):\n",
    "    # SOLUTION\n",
    "    for idx in range(len(data)):\n",
    "        label, text = data[idx]\n",
    "        yield tokenizer(text)\n",
    "    # SOLUTION\n",
    "    \n",
    "vocab = build_vocab_from_iterator(yield_tokens(train_data), specials=['<unk>', '<pad>'], max_tokens=10000)\n",
    "vocab.set_default_index(vocab['<unk>'])\n",
    "    \n",
    "# Data pipeline\n",
    "def text_pipeline(text):\n",
    "    # SOLUTION\n",
    "    return [vocab[token] for token in tokenizer(text)]\n",
    "    # SOLUTION\n",
    "\n",
    "def collate_batch(batch):\n",
    "    # SOLUTION\n",
    "    label_list, text_list, lengths = [], [], []\n",
    "    for _label, _text in batch:\n",
    "        label_list.append(float(_label - 1)) # Convert labels \"1\" → 0.0, \"2\" → 1.0\n",
    "        processed_text = torch.tensor(text_pipeline(_text), dtype=torch.int64)\n",
    "        text_list.append(processed_text)\n",
    "        lengths.append(len(processed_text))\n",
    "    label_list = torch.tensor(label_list, dtype=torch.float)\n",
    "    text_list = torch.nn.utils.rnn.pad_sequence(text_list, batch_first=True, padding_value=vocab['<pad>'])\n",
    "    lengths = torch.tensor(lengths)\n",
    "    return text_list.to(device), label_list.to(device), lengths.to(device)\n",
    "    # SOLUTION\n",
    "    \n",
    "# Data loaders\n",
    "train_loader = DataLoader(train_data, batch_size=64, shuffle=True, collate_fn=collate_batch)\n",
    "valid_loader = DataLoader(valid_data, batch_size=64, shuffle=False, collate_fn=collate_batch)\n",
    "test_loader = DataLoader(test_data, batch_size=64, shuffle=False, collate_fn=collate_batch)\n",
    "\n",
    "# LSTM Model\n",
    "class LSTMClassifier(nn.Module):\n",
    "    def __init__(self, vocab_size, emb_dim, hidden_dim, output_dim):\n",
    "        super().__init__()\n",
    "        # SOLUTION\n",
    "        self.embedding = nn.Embedding(vocab_size, emb_dim, padding_idx=vocab['<pad>'])\n",
    "        self.lstm = nn.LSTM(emb_dim, hidden_dim, batch_first=True)\n",
    "        self.fc = nn.Linear(hidden_dim, output_dim)\n",
    "        # SOLUTION\n",
    "\n",
    "    def forward(self, x, lengths):\n",
    "        # SOLUTION\n",
    "        emb = self.embedding(x)\n",
    "        packed = nn.utils.rnn.pack_padded_sequence(emb, lengths.cpu(), batch_first=True, enforce_sorted=False)\n",
    "        _, (hidden, _) = self.lstm(packed)\n",
    "        return self.fc(hidden[-1])\n",
    "        # SOLUTION\n",
    "        \n",
    "model = LSTMClassifier(len(vocab), 100, 256, 1).to(device)\n",
    "optimizer = optim.Adam(model.parameters())\n",
    "criterion = nn.BCEWithLogitsLoss()\n",
    "\n",
    "# Initialize GradScaler for AMP\n",
    "scaler = GradScaler(enabled=device.type == \"cuda\")\n",
    "    \n",
    "# Training loop with AMP and gradient clipping\n",
    "train_losses, valid_losses = [], []\n",
    "for epoch in range(10):\n",
    "    # SOLUTION\n",
    "    model.train()\n",
    "    running_train_loss = 0.0\n",
    "    for text, labels, lengths in train_loader:\n",
    "        optimizer.zero_grad()\n",
    "        with autocast(enabled=device.type == \"cuda\"):\n",
    "            outputs = model(text, lengths).squeeze(1)\n",
    "            loss = criterion(outputs, labels)\n",
    "        scaler.scale(loss).backward()\n",
    "        nn.utils.clip_grad_norm_(model.parameters(), max_norm=1.0)  # Clip gradients\n",
    "        scaler.step(optimizer)\n",
    "        scaler.update()\n",
    "        running_train_loss += loss.item()\n",
    "    avg_train_loss = running_train_loss / len(train_loader)\n",
    "    train_losses.append(avg_train_loss)\n",
    "\n",
    "    model.eval()\n",
    "    running_valid_loss = 0.0\n",
    "    with torch.no_grad():\n",
    "        for text, labels, lengths in valid_loader:\n",
    "            with autocast(enabled=device.type == \"cuda\"):\n",
    "                outputs = model(text, lengths).squeeze(1)\n",
    "                loss = criterion(outputs, labels)\n",
    "            running_valid_loss += loss.item()\n",
    "    avg_valid_loss = running_valid_loss / len(valid_loader)\n",
    "    valid_losses.append(avg_valid_loss)\n",
    "\n",
    "    print(f\"Epoch {epoch+1} | Train Loss: {avg_train_loss:.4f} | Valid Loss: {avg_valid_loss:.4f}\")\n",
    "    # SOLUTION\n",
    "    \n",
    "# Plot losses\n",
    "plt.plot(train_losses, label='Training Loss')\n",
    "plt.plot(valid_losses, label='Validation Loss')\n",
    "plt.title(\"LSTM Training and Validation Loss\")\n",
    "plt.xlabel(\"Epoch\")\n",
    "plt.ylabel(\"Loss\")\n",
    "plt.legend()\n",
    "plt.show()\n",
    "```"
   ]
  }
 ],
 "metadata": {
  "kernelspec": {
   "display_name": "Python 3 (ipykernel)",
   "language": "python",
   "name": "python3"
  },
  "language_info": {
   "codemirror_mode": {
    "name": "ipython",
    "version": 3
   },
   "file_extension": ".py",
   "mimetype": "text/x-python",
   "name": "python",
   "nbconvert_exporter": "python",
   "pygments_lexer": "ipython3",
   "version": "3.11.0rc1"
  }
 },
 "nbformat": 4,
 "nbformat_minor": 5
}
