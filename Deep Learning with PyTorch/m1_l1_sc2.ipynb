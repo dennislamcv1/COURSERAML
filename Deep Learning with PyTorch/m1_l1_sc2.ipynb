{
  "nbformat": 4,
  "nbformat_minor": 0,
  "metadata": {
    "colab": {
      "provenance": []
    },
    "kernelspec": {
      "name": "python3",
      "display_name": "Python 3"
    },
    "language_info": {
      "name": "python"
    }
  },
  "cells": [
    {
      "cell_type": "markdown",
      "source": [
        "# Visualizing the Backward Pass and Gradient Flow with Autograd"
      ],
      "metadata": {
        "id": "25FNTcsPqvQm"
      }
    },
    {
      "cell_type": "markdown",
      "source": [
        "## Step 1: Set Up the Environment"
      ],
      "metadata": {
        "id": "b90JbIhMqx5n"
      }
    },
    {
      "cell_type": "code",
      "execution_count": null,
      "metadata": {
        "colab": {
          "base_uri": "https://localhost:8080/"
        },
        "id": "7wBSCH-fqjWq",
        "outputId": "640f40ea-82c8-4a91-b66a-73305a425529"
      },
      "outputs": [
        {
          "output_type": "execute_result",
          "data": {
            "text/plain": [
              "<torch._C.Generator at 0x79cb4ece5f50>"
            ]
          },
          "metadata": {},
          "execution_count": 1
        }
      ],
      "source": [
        "# Step 1: Set Up the Environment\n",
        "import torch\n",
        "import torch.nn as nn\n",
        "import torch.optim as optim\n",
        "\n",
        "# For reproducibility: ensures that initial weights and any other random operations\n",
        "torch.manual_seed(42)"
      ]
    },
    {
      "cell_type": "markdown",
      "source": [
        "## Step 2: Constructing a Simple Neural Network"
      ],
      "metadata": {
        "id": "RCjFBB3lq1-R"
      }
    },
    {
      "cell_type": "code",
      "source": [
        "# Step 2: Constructing a Simple Neural Network\n",
        "class SimpleNN(nn.Module):\n",
        "    def __init__(self):\n",
        "        super(SimpleNN, self).__init__()\n",
        "        # Define a single fully connected linear layer.\n",
        "        # It takes 2 input features and produces 1 output feature.\n",
        "        # PyTorch automatically initializes weights and biases for this layer.\n",
        "        # By default, parameters of nn.Module (like weights of nn.Linear)\n",
        "        # have requires_grad=True, so autograd will track operations on them.\n",
        "        self.fc1 = nn.Linear(in_features=2, out_features=1)\n",
        "\n",
        "    def forward(self, x):\n",
        "        # Defines the forward pass: how input x is transformed to an output.\n",
        "        x = self.fc1(x)\n",
        "        return x"
      ],
      "metadata": {
        "id": "z7UnjQRoq5HU"
      },
      "execution_count": null,
      "outputs": []
    },
    {
      "cell_type": "markdown",
      "source": [
        "## Step 3: Generating Sample Data and Instantiating Model & Optimizer\n"
      ],
      "metadata": {
        "id": "gpmHiDbIq-Du"
      }
    },
    {
      "cell_type": "code",
      "source": [
        "# Step 3: Generating Sample Data and Instantiating Model & Optimizer\n",
        "\n",
        "# Input data X (3 samples, 2 features each).\n",
        "# Note: We do NOT set requires_grad=True for X here, because X is our fixed input data.\n",
        "# We are interested in gradients of the loss with respect to MODEL PARAMETERS, not inputs.\n",
        "X = torch.tensor([[1.0, 2.0],\n",
        "                  [3.0, 5.0],\n",
        "                  [5.0, 8.0]], dtype=torch.float32)\n",
        "\n",
        "# Target data y (corresponding labels for X).\n",
        "y_true = torch.tensor([[0.0],\n",
        "                       [1.0],\n",
        "                       [1.0]], dtype=torch.float32)\n",
        "\n",
        "# Instantiate the model\n",
        "model = SimpleNN()\n",
        "\n",
        "# Let's inspect the initial (randomly initialized) weights and bias\n",
        "print(\"--- Initial Model Parameters ---\")\n",
        "print(f\"Initial weights (fc1.weight): {model.fc1.weight.data}\")\n",
        "print(f\"Initial bias (fc1.bias): {model.fc1.bias.data}\")\n",
        "\n",
        "# Define the loss function\n",
        "# Mean Squared Error (MSE) is common for regression tasks, or simple demonstrations.\n",
        "criterion = nn.MSELoss()\n",
        "\n",
        "# Define the optimizer\n",
        "# Stochastic Gradient Descent (SGD) will be used to update model parameters.\n",
        "# We pass model.parameters() to tell the optimizer which tensors it should update.\n",
        "# lr is the learning rate.\n",
        "optimizer = optim.SGD(model.parameters(), lr=0.01)"
      ],
      "metadata": {
        "colab": {
          "base_uri": "https://localhost:8080/"
        },
        "id": "QfRFyDgsq_WB",
        "outputId": "39315970-958b-4c04-e6f1-ec67061aacc3"
      },
      "execution_count": null,
      "outputs": [
        {
          "output_type": "stream",
          "name": "stdout",
          "text": [
            "--- Initial Model Parameters ---\n",
            "Initial weights (fc1.weight): tensor([[0.5406, 0.5869]])\n",
            "Initial bias (fc1.bias): tensor([-0.1657])\n"
          ]
        }
      ]
    },
    {
      "cell_type": "markdown",
      "source": [
        "## Step 4: Forward Pass and Loss Computation"
      ],
      "metadata": {
        "id": "AYrebsacrCcM"
      }
    },
    {
      "cell_type": "code",
      "source": [
        "# Step 4: Forward Pass and Loss Computation\n",
        "\n",
        "# Perform the forward pass: get model's predictions for input X\n",
        "# This internally calls the model's forward() method.\n",
        "predictions = model(X)\n",
        "print(f\"\\n--- Forward Pass ---\")\n",
        "print(f\"Model predictions for X:\\n{predictions.data}\")\n",
        "\n",
        "# Compute the loss by comparing model's predictions with true labels y_true\n",
        "loss = criterion(predictions, y_true)\n",
        "print(f\"Computed Loss: {loss.item():.4f}\")\n",
        "# The 'loss' tensor now has a computational graph attached to it,\n",
        "# tracing back through 'predictions' to the model's parameters."
      ],
      "metadata": {
        "colab": {
          "base_uri": "https://localhost:8080/"
        },
        "id": "OGnJjIxOrEIx",
        "outputId": "f0aad542-b600-47fb-cdda-5794651ef990"
      },
      "execution_count": null,
      "outputs": [
        {
          "output_type": "stream",
          "name": "stdout",
          "text": [
            "\n",
            "--- Forward Pass ---\n",
            "Model predictions for X:\n",
            "tensor([[1.5488],\n",
            "        [4.3907],\n",
            "        [7.2326]])\n",
            "Computed Loss: 17.5804\n"
          ]
        }
      ]
    },
    {
      "cell_type": "markdown",
      "source": [
        "## Step 5: Visualizing the Backward Pass (Computing Gradients)\n"
      ],
      "metadata": {
        "id": "FnUPaDvXrG0J"
      }
    },
    {
      "cell_type": "code",
      "source": [
        "# Step 5: Visualizing the Backward Pass (Computing Gradients)\n",
        "\n",
        "# Before computing gradients for the current pass, it's essential to zero out\n",
        "# any gradients accumulated from previous passes (if any).\n",
        "# For this single demonstration, model parameters' .grad attributes are initially None.\n",
        "# However, in a training loop, this is crucial.\n",
        "optimizer.zero_grad()\n",
        "# You could also do: model.zero_grad()\n",
        "\n",
        "# Perform the backward pass: compute gradients of the loss with respect to\n",
        "# all tensors in the computation graph that have requires_grad=True (i.e., model parameters).\n",
        "# These gradients are stored in the .grad attribute of each parameter.\n",
        "loss.backward()\n",
        "\n",
        "print(\"\\n--- Backward Pass (Gradients Computed) ---\")\n",
        "for name, param in model.named_parameters():\n",
        "    if param.requires_grad:\n",
        "        print(f\"Parameter: {name}\")\n",
        "        # print(f\"  Value: {param.data}\") # Current value of the parameter\n",
        "        print(f\"  Gradient (dLoss/dParam): {param.grad.data}\")"
      ],
      "metadata": {
        "colab": {
          "base_uri": "https://localhost:8080/"
        },
        "id": "0s67OByzrHh_",
        "outputId": "9be36100-87ce-4b76-b2b6-620a76dd5ba4"
      },
      "execution_count": null,
      "outputs": [
        {
          "output_type": "stream",
          "name": "stdout",
          "text": [
            "\n",
            "--- Backward Pass (Gradients Computed) ---\n",
            "Parameter: fc1.weight\n",
            "  Gradient (dLoss/dParam): tensor([[28.5893, 46.6080]])\n",
            "Parameter: fc1.bias\n",
            "  Gradient (dLoss/dParam): tensor([7.4481])\n"
          ]
        }
      ]
    },
    {
      "cell_type": "markdown",
      "source": [
        "## Step 6: Updating Model Parameters (Applying Gradients)\n"
      ],
      "metadata": {
        "id": "5tNLyeswrKMA"
      }
    },
    {
      "cell_type": "code",
      "source": [
        "\n",
        "# The optimizer uses the computed gradients (stored in param.grad)\n",
        "# to update the model's parameters.\n",
        "# The update rule for basic SGD is: new_weight = old_weight - learning_rate * gradient\n",
        "optimizer.step()\n",
        "\n",
        "print(\"\\n--- Model Parameters After Optimizer Step ---\")\n",
        "print(f\"Updated weights (fc1.weight): {model.fc1.weight.data}\")\n",
        "print(f\"Updated bias (fc1.bias): {model.fc1.bias.data}\")\n",
        "\n",
        "# For verification, let's do another forward pass with the updated weights\n",
        "# and see if the loss has decreased (it should, for a well-behaved problem).\n",
        "with torch.no_grad(): # Disable gradient tracking for this verification forward pass\n",
        "    new_predictions = model(X)\n",
        "    new_loss = criterion(new_predictions, y_true)\n",
        "print(f\"\\nLoss after one optimization step: {new_loss.item():.4f}\")\n",
        "\n",
        "\n",
        "# Initial Loss: [loss.item() from Step 4]\n",
        "# Loss After 1 Step: [new_loss.item() from Step 6]\n",
        "\n",
        "# If plotting library was available and X was 1D:\n",
        "import matplotlib.pyplot as plt\n",
        "plt.scatter(X.numpy()[:, 0], y_true.numpy(), label='True Data')\n",
        "plt.plot(X.numpy()[:, 0], predictions.detach().numpy(), color='red', label='Initial Predictions')\n",
        "plt.plot(X.numpy()[:, 0], new_predictions.detach().numpy(), color='green', label='Updated Predictions')\n",
        "plt.legend()\n",
        "plt.title('Predictions Before and After One Optimization Step')\n",
        "plt.show()"
      ],
      "metadata": {
        "colab": {
          "base_uri": "https://localhost:8080/",
          "height": 559
        },
        "id": "f8BW5oivrK9P",
        "outputId": "e53955bd-6dd5-4ffc-b0ec-30ef33e66e1c"
      },
      "execution_count": null,
      "outputs": [
        {
          "output_type": "stream",
          "name": "stdout",
          "text": [
            "\n",
            "--- Model Parameters After Optimizer Step ---\n",
            "Updated weights (fc1.weight): tensor([[0.2547, 0.1208]])\n",
            "Updated bias (fc1.bias): tensor([-0.2401])\n",
            "\n",
            "Loss after one optimization step: 0.3607\n"
          ]
        },
        {
          "output_type": "display_data",
          "data": {
            "text/plain": [
              "<Figure size 640x480 with 1 Axes>"
            ],
            "image/png": "[encoded data removed]"
          },
          "metadata": {}
        }
      ]
    },
    {
      "cell_type": "code",
      "source": [],
      "metadata": {
        "id": "6XP_Ji6E3Foh"
      },
      "execution_count": null,
      "outputs": []
    }
  ]
}