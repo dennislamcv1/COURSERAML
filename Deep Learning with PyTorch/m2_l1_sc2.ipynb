{
  "nbformat": 4,
  "nbformat_minor": 0,
  "metadata": {
    "colab": {
      "provenance": []
    },
    "kernelspec": {
      "name": "python3",
      "display_name": "Python 3"
    },
    "language_info": {
      "name": "python"
    }
  },
  "cells": [
    {
      "cell_type": "markdown",
      "source": [
        "# Pooling, Padding, and ReLU — Understanding CNN Transformations\n"
      ],
      "metadata": {
        "id": "QrSbbwP7vp-N"
      }
    },
    {
      "cell_type": "markdown",
      "source": [
        "## Step 1: Setting Up the PyTorch Environment\n"
      ],
      "metadata": {
        "id": "TiON2883vp2L"
      }
    },
    {
      "cell_type": "code",
      "execution_count": null,
      "metadata": {
        "id": "iKGsDldEu4Dv"
      },
      "outputs": [],
      "source": [
        "import torch\n",
        "import torch.nn as nn\n",
        "import matplotlib.pyplot as plt\n",
        "\n",
        "# For displaying results\n",
        "def display_image(image, title=\"\"):\n",
        "    # Ensure a new plot for each image to prevent overlaps\n",
        "    plt.figure()\n",
        "    # Display the image in grayscale\n",
        "    plt.imshow(image, cmap='gray')\n",
        "    plt.title(title)\n",
        "    # Turn off axis numbers and ticks for a cleaner image display\n",
        "    plt.axis('off')\n",
        "    plt.show()"
      ]
    },
    {
      "cell_type": "markdown",
      "source": [
        "## Step 2: Implementing Pooling Layers\n"
      ],
      "metadata": {
        "id": "ikLMHDXVvt1n"
      }
    },
    {
      "cell_type": "code",
      "source": [
        "# Sample image tensor (Batch_size=1, Channels=1, Height=4, Width=4)\n",
        "image_tensor = torch.tensor([[ 1,  2,  3,  4],\n",
        "                             [ 5,  6,  7,  8],\n",
        "                             [ 9, 10, 11, 12],\n",
        "                             [13, 14, 15, 16]], dtype=torch.float32).view(1, 1, 4, 4)\n",
        "\n",
        "# Max pooling operation with a 2x2 kernel and stride of 2\n",
        "pool = nn.MaxPool2d(kernel_size=2, stride=2)\n",
        "pooled_output = pool(image_tensor)\n",
        "\n",
        "print(\"Original Image Tensor for Pooling:\\n\", image_tensor)\n",
        "print(\"Pooled Output:\\n\", pooled_output)\n",
        "# Squeeze to remove batch and channel dimensions for display, then convert to NumPy array\n",
        "display_image(pooled_output.squeeze().numpy(), title=\"Pooled Feature Map (2x2)\")"
      ],
      "metadata": {
        "colab": {
          "base_uri": "https://localhost:8080/",
          "height": 571
        },
        "id": "tnHmoQl7vuQL",
        "outputId": "626f0e0b-7abe-40d5-ebfe-4e044cc4a77f"
      },
      "execution_count": null,
      "outputs": [
        {
          "output_type": "stream",
          "name": "stdout",
          "text": [
            "Original Image Tensor for Pooling:\n",
            " tensor([[[[ 1.,  2.,  3.,  4.],\n",
            "          [ 5.,  6.,  7.,  8.],\n",
            "          [ 9., 10., 11., 12.],\n",
            "          [13., 14., 15., 16.]]]])\n",
            "Pooled Output:\n",
            " tensor([[[[ 6.,  8.],\n",
            "          [14., 16.]]]])\n"
          ]
        },
        {
          "output_type": "display_data",
          "data": {
            "text/plain": [
              "<Figure size 640x480 with 1 Axes>"
            ],
            "image/png": "[encoded data removed]"
          },
          "metadata": {}
        }
      ]
    },
    {
      "cell_type": "markdown",
      "source": [
        "## Step 3: Exploring Padding Techniques\n"
      ],
      "metadata": {
        "id": "ouH0wPXRv6nU"
      }
    },
    {
      "cell_type": "code",
      "source": [
        "# Demonstrating padding on the original image_tensor\n",
        "# nn.ZeroPad2d((pad_left, pad_right, pad_top, pad_bottom))\n",
        "# Padding with 1 pixel on all sides (left, right, top, bottom)\n",
        "pad = nn.ZeroPad2d((1, 1, 1, 1))\n",
        "\n",
        "padded_image = pad(image_tensor)\n",
        "print(\"Original Image Tensor for Padding:\\n\", image_tensor)\n",
        "print(\"Padded Image (with 1 pixel zero-padding on all sides):\\n\", padded_image)\n",
        "# The padded image will be 6x6\n",
        "display_image(padded_image.squeeze().numpy(), title=\"Padded Image (6x6)\")"
      ],
      "metadata": {
        "colab": {
          "base_uri": "https://localhost:8080/",
          "height": 642
        },
        "id": "_Il40bVyv65l",
        "outputId": "d7e6b9dd-f767-437c-ad5d-2bc808ff019a"
      },
      "execution_count": null,
      "outputs": [
        {
          "output_type": "stream",
          "name": "stdout",
          "text": [
            "Original Image Tensor for Padding:\n",
            " tensor([[[[ 1.,  2.,  3.,  4.],\n",
            "          [ 5.,  6.,  7.,  8.],\n",
            "          [ 9., 10., 11., 12.],\n",
            "          [13., 14., 15., 16.]]]])\n",
            "Padded Image (with 1 pixel zero-padding on all sides):\n",
            " tensor([[[[ 0.,  0.,  0.,  0.,  0.,  0.],\n",
            "          [ 0.,  1.,  2.,  3.,  4.,  0.],\n",
            "          [ 0.,  5.,  6.,  7.,  8.,  0.],\n",
            "          [ 0.,  9., 10., 11., 12.,  0.],\n",
            "          [ 0., 13., 14., 15., 16.,  0.],\n",
            "          [ 0.,  0.,  0.,  0.,  0.,  0.]]]])\n"
          ]
        },
        {
          "output_type": "display_data",
          "data": {
            "text/plain": [
              "<Figure size 640x480 with 1 Axes>"
            ],
            "image/png": "[encoded data removed]"
          },
          "metadata": {}
        }
      ]
    },
    {
      "cell_type": "markdown",
      "source": [
        "## Step 4: Applying the ReLU Activation Function\n"
      ],
      "metadata": {
        "id": "BgtKYaNOwBE5"
      }
    },
    {
      "cell_type": "code",
      "source": [
        "# Create a sample feature map with a mix of positive and negative values for ReLU demonstration\n",
        "relu_input_tensor = torch.tensor([[-1.0,  2.5, -0.5,  4.0],\n",
        "                                  [ 5.0, -6.0,  0.0, -8.0],\n",
        "                                  [-9.0, 10.5, -11.5, 12.0],\n",
        "                                  [13.0,-14.0, 15.5, -2.0]], dtype=torch.float32).view(1, 1, 4, 4)\n",
        "\n",
        "print(\"Original Tensor for ReLU (with negative values):\\n\", relu_input_tensor)\n",
        "display_image(relu_input_tensor.squeeze().numpy(), title=\"Original Tensor for ReLU\")\n",
        "\n",
        "# Applying ReLU activation\n",
        "relu_activation_fn = nn.ReLU()\n",
        "relu_output = relu_activation_fn(relu_input_tensor)\n",
        "\n",
        "print(\"ReLU Activated Output (negatives zeroed out):\\n\", relu_output)\n",
        "display_image(relu_output.squeeze().numpy(), title=\"ReLU Activation Applied\")"
      ],
      "metadata": {
        "colab": {
          "base_uri": "https://localhost:8080/",
          "height": 1000
        },
        "id": "jw_NGsHIwBWD",
        "outputId": "d81345ec-2458-4a94-debe-5475ea0ea2f4"
      },
      "execution_count": null,
      "outputs": [
        {
          "output_type": "stream",
          "name": "stdout",
          "text": [
            "Original Tensor for ReLU (with negative values):\n",
            " tensor([[[[ -1.0000,   2.5000,  -0.5000,   4.0000],\n",
            "          [  5.0000,  -6.0000,   0.0000,  -8.0000],\n",
            "          [ -9.0000,  10.5000, -11.5000,  12.0000],\n",
            "          [ 13.0000, -14.0000,  15.5000,  -2.0000]]]])\n"
          ]
        },
        {
          "output_type": "display_data",
          "data": {
            "text/plain": [
              "<Figure size 640x480 with 1 Axes>"
            ],
            "image/png": "[encoded data removed]"
          },
          "metadata": {}
        },
        {
          "output_type": "stream",
          "name": "stdout",
          "text": [
            "ReLU Activated Output (negatives zeroed out):\n",
            " tensor([[[[ 0.0000,  2.5000,  0.0000,  4.0000],\n",
            "          [ 5.0000,  0.0000,  0.0000,  0.0000],\n",
            "          [ 0.0000, 10.5000,  0.0000, 12.0000],\n",
            "          [13.0000,  0.0000, 15.5000,  0.0000]]]])\n"
          ]
        },
        {
          "output_type": "display_data",
          "data": {
            "text/plain": [
              "<Figure size 640x480 with 1 Axes>"
            ],
            "image/png": "[encoded data removed]"
          },
          "metadata": {}
        }
      ]
    },
    {
      "cell_type": "markdown",
      "source": [
        "## Step 5: Combining Transformations in a Convolutional Architecture\n"
      ],
      "metadata": {
        "id": "mlgw4rZXwJ7h"
      }
    },
    {
      "cell_type": "code",
      "source": [
        "# Simplified CNN Layer demonstrating convolution, pooling, and ReLU\n",
        "class CNNLayer(nn.Module):\n",
        "    def __init__(self):\n",
        "        super(CNNLayer, self).__init__()\n",
        "        # Convolutional layer: 1 input channel, 1 output channel, 3x3 kernel, 1 pixel padding\n",
        "        # Padding=1 with Kernel=3, Stride=1 typically maintains spatial dimensions (for this input)\n",
        "        self.conv1 = nn.Conv2d(in_channels=1, out_channels=1, kernel_size=3, padding=1)\n",
        "        # Max pooling layer: 2x2 kernel, stride 2\n",
        "        self.pool = nn.MaxPool2d(kernel_size=2, stride=2)\n",
        "        # ReLU activation function\n",
        "        self.relu = nn.ReLU()\n",
        "\n",
        "    def forward(self, x):\n",
        "        # Apply convolution\n",
        "        x = self.conv1(x)\n",
        "        # Apply pooling\n",
        "        x = self.pool(x)\n",
        "        # Apply ReLU activation\n",
        "        x = self.relu(x)\n",
        "        return x\n",
        "\n",
        "# Instantiate and apply the CNN layer using the original image_tensor\n",
        "# The original image_tensor is used here. Convolution may introduce negative values\n",
        "# due to its weights, which ReLU will then act upon.\n",
        "cnn_layer_instance = CNNLayer()\n",
        "processed_output = cnn_layer_instance(image_tensor)\n",
        "\n",
        "print(\"Original Image Tensor for CNN Layer:\\n\", image_tensor)\n",
        "print(\"CNN Layer Output (after Conv -> Pool -> ReLU):\\n\", processed_output)\n",
        "# .detach() is used because the output tensor has a computation graph (due to Conv2d weights)\n",
        "display_image(processed_output.squeeze().detach().numpy(), title=\"CNN Layer Output\")"
      ],
      "metadata": {
        "colab": {
          "base_uri": "https://localhost:8080/",
          "height": 571
        },
        "id": "NPC8hahAwKOg",
        "outputId": "55fbc94e-5220-42fc-b53c-48a287cd8c64"
      },
      "execution_count": null,
      "outputs": [
        {
          "output_type": "stream",
          "name": "stdout",
          "text": [
            "Original Image Tensor for CNN Layer:\n",
            " tensor([[[[ 1.,  2.,  3.,  4.],\n",
            "          [ 5.,  6.,  7.,  8.],\n",
            "          [ 9., 10., 11., 12.],\n",
            "          [13., 14., 15., 16.]]]])\n",
            "CNN Layer Output (after Conv -> Pool -> ReLU):\n",
            " tensor([[[[1.4890, 1.6060],\n",
            "          [3.4043, 2.0739]]]], grad_fn=<ReluBackward0>)\n"
          ]
        },
        {
          "output_type": "display_data",
          "data": {
            "text/plain": [
              "<Figure size 640x480 with 1 Axes>"
            ],
            "image/png": "[encoded data removed]"
          },
          "metadata": {}
        }
      ]
    }
  ]
}