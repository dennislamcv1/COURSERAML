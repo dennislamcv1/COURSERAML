{
  "nbformat": 4,
  "nbformat_minor": 0,
  "metadata": {
    "colab": {
      "provenance": []
    },
    "kernelspec": {
      "name": "python3",
      "display_name": "Python 3"
    },
    "language_info": {
      "name": "python"
    }
  },
  "cells": [
    {
      "cell_type": "markdown",
      "source": [
        "# Applying Dropout to Prevent Overfitting"
      ],
      "metadata": {
        "id": "v5I195fEcxOf"
      }
    },
    {
      "cell_type": "markdown",
      "source": [
        "## Step 1: Setup and Data Preparation"
      ],
      "metadata": {
        "id": "nDEO-McGcxF6"
      }
    },
    {
      "cell_type": "code",
      "execution_count": null,
      "metadata": {
        "id": "D2uwfJuGbjyQ",
        "colab": {
          "base_uri": "https://localhost:8080/"
        },
        "outputId": "157c7eb7-66ac-4edf-dedc-ff6250fb1e68"
      },
      "outputs": [
        {
          "output_type": "stream",
          "name": "stderr",
          "text": [
            "100%|██████████| 9.91M/9.91M [00:00<00:00, 17.9MB/s]\n",
            "100%|██████████| 28.9k/28.9k [00:00<00:00, 481kB/s]\n",
            "100%|██████████| 1.65M/1.65M [00:01<00:00, 1.23MB/s]\n",
            "100%|██████████| 4.54k/4.54k [00:00<00:00, 3.15MB/s]\n"
          ]
        }
      ],
      "source": [
        "# Step 1: Setup and Data Preparation\n",
        "import torch\n",
        "import torch.nn as nn\n",
        "import torch.optim as optim\n",
        "import torchvision\n",
        "import torchvision.transforms as transforms\n",
        "from torch.utils.data import DataLoader\n",
        "\n",
        "# Device configuration\n",
        "device = torch.device('cuda' if torch.cuda.is_available() else 'cpu')\n",
        "\n",
        "# MNIST Dataset\n",
        "# Transformations\n",
        "transform = transforms.Compose([\n",
        "    transforms.ToTensor(),\n",
        "    transforms.Normalize((0.1307,), (0.3081,))  # MNIST mean and std\n",
        "])\n",
        "\n",
        "# Download and load training and validation datasets\n",
        "train_dataset = torchvision.datasets.MNIST(root='./data', train=True, transform=transform, download=True)\n",
        "val_dataset = torchvision.datasets.MNIST(root='./data', train=False, transform=transform, download=True)\n",
        "\n",
        "# Data loaders\n",
        "train_loader = DataLoader(dataset=train_dataset, batch_size=64, shuffle=True)\n",
        "val_loader = DataLoader(dataset=val_dataset, batch_size=1000, shuffle=False)"
      ]
    },
    {
      "cell_type": "markdown",
      "source": [
        "## Step 2: PyTorch Dropout Integration\n"
      ],
      "metadata": {
        "id": "RGJqBvAuc28F"
      }
    },
    {
      "cell_type": "code",
      "source": [
        "# Step 2: PyTorch Dropout Integration\n",
        "# Define a neural network with Dropout\n",
        "class DropoutNetworkRefactored2(nn.Module):\n",
        "    def __init__(self, input_dim=784, hidden_dim1=256, hidden_dim2=128, output_dim=10, dropout_rate=0.5):\n",
        "        super(DropoutNetworkRefactored2, self).__init__()\n",
        "\n",
        "        self.input_to_hidden1 = nn.Linear(input_dim, hidden_dim1)\n",
        "        self.dropout_after_hidden1 = nn.Dropout(p=dropout_rate)\n",
        "\n",
        "        self.hidden1_to_hidden2 = nn.Linear(hidden_dim1, hidden_dim2)\n",
        "        self.dropout_after_hidden2 = nn.Dropout(p=dropout_rate)\n",
        "\n",
        "        self.hidden2_to_output = nn.Linear(hidden_dim2, output_dim)\n",
        "\n",
        "    def forward(self, x):\n",
        "        # Flatten the input tensor\n",
        "        x = x.view(x.size(0), -1)\n",
        "\n",
        "        x = torch.relu(self.input_to_hidden1(x))\n",
        "        x = self.dropout_after_hidden1(x)\n",
        "\n",
        "        x = torch.relu(self.hidden1_to_hidden2(x))\n",
        "        x = self.dropout_after_hidden2(x)\n",
        "\n",
        "        x = self.hidden2_to_output(x)\n",
        "        return x"
      ],
      "metadata": {
        "id": "gIm994j9dDZz"
      },
      "execution_count": null,
      "outputs": []
    },
    {
      "cell_type": "markdown",
      "source": [
        "## Step 3: Training the Model with Dropout\n"
      ],
      "metadata": {
        "id": "nGx9Wz8udKaa"
      }
    },
    {
      "cell_type": "code",
      "source": [
        "# Step 3: Training the Model with Dropout\n",
        "model = DropoutNetworkRefactored2(dropout_rate=0.5).to(device)\n",
        "criterion = nn.CrossEntropyLoss()\n",
        "optimizer = optim.Adam(model.parameters(), lr=0.001)\n",
        "\n",
        "num_epochs = 10 # Reduced for quicker demonstration\n",
        "\n",
        "for epoch in range(num_epochs):\n",
        "    model.train()  # Enable dropout behavior\n",
        "    running_loss = 0.0\n",
        "    correct_train = 0\n",
        "    total_train = 0\n",
        "\n",
        "    for i, (inputs, labels) in enumerate(train_loader):\n",
        "        inputs, labels = inputs.to(device), labels.to(device)\n",
        "\n",
        "        # Forward pass\n",
        "        outputs = model(inputs)\n",
        "        loss = criterion(outputs, labels)\n",
        "\n",
        "        # Backward pass and optimization\n",
        "        optimizer.zero_grad()\n",
        "        loss.backward()\n",
        "        optimizer.step()\n",
        "\n",
        "        running_loss += loss.item()\n",
        "        _, predicted = torch.max(outputs.data, 1)\n",
        "        total_train += labels.size(0)\n",
        "        correct_train += (predicted == labels).sum().item()\n",
        "\n",
        "    train_loss = running_loss / len(train_loader)\n",
        "    train_acc = 100 * correct_train / total_train\n",
        "\n",
        "    # Validation phase\n",
        "    model.eval()  # Disable dropout for evaluation\n",
        "    validation_loss = 0.0\n",
        "    correct_val = 0\n",
        "    total_val = 0\n",
        "    with torch.no_grad(): # No gradients needed for validation\n",
        "        for inputs, labels in val_loader:\n",
        "            inputs, labels = inputs.to(device), labels.to(device)\n",
        "            outputs = model(inputs)\n",
        "            loss = criterion(outputs, labels)\n",
        "            validation_loss += loss.item()\n",
        "            _, predicted = torch.max(outputs.data, 1)\n",
        "            total_val += labels.size(0)\n",
        "            correct_val += (predicted == labels).sum().item()\n",
        "\n",
        "    val_loss = validation_loss / len(val_loader)\n",
        "    val_acc = 100 * correct_val / total_val\n",
        "\n",
        "    print(f'Epoch [{epoch+1}/{num_epochs}], Train Loss: {train_loss:.4f}, Train Acc: {train_acc:.2f}%, Val Loss: {val_loss:.4f}, Val Acc: {val_acc:.2f}%')"
      ],
      "metadata": {
        "colab": {
          "base_uri": "https://localhost:8080/"
        },
        "id": "USSn2GZ2dMul",
        "outputId": "00232770-d6e2-48d3-8a49-5d1621e8e330"
      },
      "execution_count": null,
      "outputs": [
        {
          "output_type": "stream",
          "name": "stdout",
          "text": [
            "Epoch [1/10], Train Loss: 0.4178, Train Acc: 87.09%, Val Loss: 0.1491, Val Acc: 95.48%\n",
            "Epoch [2/10], Train Loss: 0.2305, Train Acc: 93.31%, Val Loss: 0.1185, Val Acc: 96.57%\n",
            "Epoch [3/10], Train Loss: 0.1962, Train Acc: 94.32%, Val Loss: 0.1040, Val Acc: 96.95%\n",
            "Epoch [4/10], Train Loss: 0.1737, Train Acc: 94.92%, Val Loss: 0.0898, Val Acc: 97.11%\n",
            "Epoch [5/10], Train Loss: 0.1645, Train Acc: 95.17%, Val Loss: 0.0880, Val Acc: 97.44%\n",
            "Epoch [6/10], Train Loss: 0.1514, Train Acc: 95.59%, Val Loss: 0.0891, Val Acc: 97.30%\n",
            "Epoch [7/10], Train Loss: 0.1461, Train Acc: 95.75%, Val Loss: 0.0814, Val Acc: 97.50%\n",
            "Epoch [8/10], Train Loss: 0.1353, Train Acc: 96.07%, Val Loss: 0.0845, Val Acc: 97.57%\n",
            "Epoch [9/10], Train Loss: 0.1364, Train Acc: 95.92%, Val Loss: 0.0819, Val Acc: 97.56%\n",
            "Epoch [10/10], Train Loss: 0.1293, Train Acc: 96.09%, Val Loss: 0.0789, Val Acc: 97.65%\n"
          ]
        }
      ]
    },
    {
      "cell_type": "code",
      "source": [],
      "metadata": {
        "id": "2IdnD6vJkeZt"
      },
      "execution_count": null,
      "outputs": []
    }
  ]
}