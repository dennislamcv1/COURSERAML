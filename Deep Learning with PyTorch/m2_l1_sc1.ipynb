{
  "nbformat": 4,
  "nbformat_minor": 0,
  "metadata": {
    "colab": {
      "provenance": []
    },
    "kernelspec": {
      "name": "python3",
      "display_name": "Python 3"
    },
    "language_info": {
      "name": "python"
    }
  },
  "cells": [
    {
      "cell_type": "markdown",
      "source": [
        "# Convolution and Feature Maps — The Building Blocks of CNNs"
      ],
      "metadata": {
        "id": "P-WEBOBdvDGd"
      }
    },
    {
      "cell_type": "markdown",
      "source": [
        "## Step 1: Setting Up the PyTorch Environment\n"
      ],
      "metadata": {
        "id": "SdD6JvMyvE3e"
      }
    },
    {
      "cell_type": "code",
      "execution_count": null,
      "metadata": {
        "id": "4rxtrmtpu0Ka"
      },
      "outputs": [],
      "source": [
        "import torch\n",
        "import torch.nn as nn\n",
        "import matplotlib.pyplot as plt\n",
        "\n",
        "# Function for image visualization (original)\n",
        "def plot_image(image_tensor, title=\"\"):\n",
        "    # Ensure tensor is on CPU and detached from gradients before converting to NumPy\n",
        "    image_numpy = image_tensor.cpu().detach().numpy()\n",
        "    plt.imshow(image_numpy, cmap='gray')\n",
        "    plt.title(title)\n",
        "    plt.axis('off')\n",
        "    plt.show()\n",
        "\n",
        "# Enhanced function to plot multiple feature maps in a grid\n",
        "def plot_feature_maps(feature_maps_tensor, num_cols=3, main_title=\"Feature Maps\"):\n",
        "    \"\"\"\n",
        "    Plots multiple feature maps from a tensor.\n",
        "    Assumes feature_maps_tensor is of shape (num_maps, height, width).\n",
        "    \"\"\"\n",
        "    # Ensure tensor is on CPU and detached\n",
        "    feature_maps_tensor = feature_maps_tensor.cpu().detach()\n",
        "\n",
        "    num_maps = feature_maps_tensor.shape[0]\n",
        "    # Adjust num_cols if there are fewer maps than default columns\n",
        "    if num_maps < num_cols:\n",
        "        num_cols = num_maps\n",
        "    num_rows = (num_maps + num_cols - 1) // num_cols # Calculate rows needed\n",
        "\n",
        "    fig, axes = plt.subplots(num_rows, num_cols, figsize=(num_cols * 3, num_rows * 3.5)) # Increased height slightly\n",
        "    # If only one map, axes might not be an array, handle this\n",
        "    if num_maps == 1:\n",
        "        axes = [axes]\n",
        "    else:\n",
        "        axes = axes.flatten()\n",
        "\n",
        "    fig.suptitle(main_title, fontsize=16)\n",
        "\n",
        "    for i in range(num_maps):\n",
        "        ax = axes[i]\n",
        "        fm_np = feature_maps_tensor[i].numpy() # Already detached and on CPU\n",
        "        ax.imshow(fm_np, cmap='gray')\n",
        "        ax.set_title(f\"Map {i+1}\")\n",
        "        ax.axis('off')\n",
        "\n",
        "    # Turn off unused subplots\n",
        "    for j in range(num_maps, len(axes)):\n",
        "        axes[j].axis('off')\n",
        "\n",
        "    plt.tight_layout(rect=[0, 0.03, 1, 0.95]) # Adjust layout to make space for suptitle and prevent overlap\n",
        "    plt.show()"
      ]
    },
    {
      "cell_type": "markdown",
      "source": [
        "## Step 2: Exploration of Convolutional Layers\n"
      ],
      "metadata": {
        "id": "cyPc9EkLvNo9"
      }
    },
    {
      "cell_type": "code",
      "source": [
        "# Sample image and a manually defined filter\n",
        "sample_image_data = torch.tensor([[1, 2, 3], [4, 5, 6], [7, 8, 9]], dtype=torch.float32)\n",
        "# This filter can detect diagonal patterns (e.g., top-left to bottom-right edges)\n",
        "conv_filter_data = torch.tensor([[1, 0], [0, -1]], dtype=torch.float32)\n",
        "\n",
        "# Create a Conv2d layer\n",
        "# in_channels=1 (grayscale), out_channels=1 (one filter), kernel_size=2x2\n",
        "conv_layer = nn.Conv2d(in_channels=1, out_channels=1, kernel_size=2, stride=1, padding=0, bias=False)\n",
        "\n",
        "# Manually set the weights of the convolutional layer to our defined filter\n",
        "# torch.no_grad() is used because we are changing model parameters directly, not during training.\n",
        "with torch.no_grad():\n",
        "    # conv_layer.weight is (out_channels, in_channels, kernel_height, kernel_width)\n",
        "    # For our case, it's (1, 1, 2, 2). So, weight[0][0] refers to the first (and only) filter.\n",
        "    conv_layer.weight[0][0] = conv_filter_data\n",
        "\n",
        "# Prepare the sample image for the Conv2d layer\n",
        "# Expected input shape: (batch_size, in_channels, height, width)\n",
        "sample_image_tensor = sample_image_data.view(1, 1, 3, 3)\n",
        "\n",
        "# Apply the convolution operation\n",
        "# output_feature_map will have shape (1, 1, 2, 2)\n",
        "# H_out = (3 - 2)/1 + 1 = 2\n",
        "# W_out = (3 - 2)/1 + 1 = 2\n",
        "output_feature_map = conv_layer(sample_image_tensor)\n",
        "\n",
        "print(\"Original Sample Image:\\n\", sample_image_data)\n",
        "print(\"Convolutional Filter:\\n\", conv_filter_data)\n",
        "print(\"Output Feature Map (after convolution):\\n\", output_feature_map.squeeze())\n",
        "\n",
        "# Visualize the output feature map\n",
        "# .squeeze() removes dimensions of size 1 (batch and channel) for plotting\n",
        "plot_image(output_feature_map.squeeze(), title=\"Feature Map from Custom Filter\")"
      ],
      "metadata": {
        "colab": {
          "base_uri": "https://localhost:8080/"
        },
        "id": "d0unVeiJvPRG",
        "outputId": "78e66b9a-7b4f-45e1-f8eb-8ea93ccb7594"
      },
      "execution_count": null,
      "outputs": [
        {
          "output_type": "stream",
          "name": "stdout",
          "text": [
            "Original Sample Image:\n",
            " tensor([[1., 2., 3.],\n",
            "        [4., 5., 6.],\n",
            "        [7., 8., 9.]])\n",
            "Convolutional Filter:\n",
            " tensor([[ 1.,  0.],\n",
            "        [ 0., -1.]])\n",
            "Output Feature Map (after convolution):\n",
            " tensor([[-4., -4.],\n",
            "        [-4., -4.]], grad_fn=<SqueezeBackward0>)\n"
          ]
        },
        {
          "output_type": "display_data",
          "data": {
            "text/plain": [
              "<Figure size 640x480 with 1 Axes>"
            ],
            "image/png": "[encoded data removed]"
          },
          "metadata": {}
        }
      ]
    },
    {
      "cell_type": "markdown",
      "source": [
        "## Step 3: Constructing a Simple ConvNet Layer\n"
      ],
      "metadata": {
        "id": "OKY8WQrEvRNE"
      }
    },
    {
      "cell_type": "code",
      "source": [
        "# Define a simple convolutional network\n",
        "class SimpleConvNet(nn.Module):\n",
        "    def __init__(self):\n",
        "        super(SimpleConvNet, self).__init__()\n",
        "        # This convolutional layer has:\n",
        "        # - 1 input channel (e.g., grayscale image)\n",
        "        # - 3 output channels (meaning it will learn 3 different filters)\n",
        "        # - A 3x3 kernel for each filter\n",
        "        # - Stride of 1 and padding of 1 (preserves input spatial dimensions)\n",
        "        # Weights and biases for these filters will be randomly initialized by PyTorch.\n",
        "        self.conv1 = nn.Conv2d(in_channels=1, out_channels=3, kernel_size=3, stride=1, padding=1, bias=True)\n",
        "\n",
        "    def forward(self, x):\n",
        "        x = self.conv1(x)\n",
        "        return x\n",
        "\n",
        "# Instantiate the network\n",
        "model = SimpleConvNet()\n",
        "\n",
        "# Print some information about the randomly initialized weights and biases\n",
        "print(\"Shape of conv1 weights:\", model.conv1.weight.shape) # (out_channels, in_channels, H_k, W_k)\n",
        "# print(\"Conv1 weights (randomly initialized):\\n\", model.conv1.weight.data) # Optional: view weights\n",
        "if model.conv1.bias is not None:\n",
        "    print(\"Shape of conv1 bias:\", model.conv1.bias.shape) # (out_channels)\n",
        "    # print(\"Conv1 bias (randomly initialized):\\n\", model.conv1.bias.data) # Optional: view biases\n",
        "\n",
        "# Set the model to evaluation mode (important for layers like BatchNorm, Dropout during inference)\n",
        "# For a simple Conv2d layer, it doesn't change behavior but is good practice.\n",
        "model.eval()\n",
        "\n",
        "# The same sample_image_tensor from Step 2 (1, 1, 3, 3) is used as input\n",
        "# We use torch.no_grad() as we are not training, only doing a forward pass for inference.\n",
        "with torch.no_grad():\n",
        "    output_from_model = model(sample_image_tensor)\n",
        "\n",
        "# Output shape will be (batch_size, out_channels, height, width) -> (1, 3, 3, 3)\n",
        "# H_out = (3 + 2*1 - 3)/1 + 1 = 3\n",
        "# W_out = (3 + 2*1 - 3)/1 + 1 = 3\n",
        "print(\"Output from model shape:\", output_from_model.shape)\n",
        "\n",
        "# Visualize the multiple feature maps\n",
        "# Squeeze out the batch_size dimension (dim=0) for plotting.\n",
        "# The result `feature_maps_viz` will have shape (out_channels, height, width) -> (3, 3, 3)\n",
        "feature_maps_viz = output_from_model.squeeze(0)\n",
        "\n",
        "plot_feature_maps(feature_maps_viz, num_cols=3, main_title=\"Feature Maps from SimpleConvNet (Random Filters)\")"
      ],
      "metadata": {
        "colab": {
          "base_uri": "https://localhost:8080/",
          "height": 406
        },
        "id": "4FEBlzBqvRfj",
        "outputId": "64eb0b84-a9df-41e0-caf6-3e5d0a1eee06"
      },
      "execution_count": null,
      "outputs": [
        {
          "output_type": "stream",
          "name": "stdout",
          "text": [
            "Shape of conv1 weights: torch.Size([3, 1, 3, 3])\n",
            "Shape of conv1 bias: torch.Size([3])\n",
            "Output from model shape: torch.Size([1, 3, 3, 3])\n"
          ]
        },
        {
          "output_type": "display_data",
          "data": {
            "text/plain": [
              "<Figure size 900x350 with 3 Axes>"
            ],
            "image/png": "[encoded data removed]"
          },
          "metadata": {}
        }
      ]
    }
  ]
}