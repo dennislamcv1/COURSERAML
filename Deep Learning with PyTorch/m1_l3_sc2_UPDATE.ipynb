{
  "nbformat": 4,
  "nbformat_minor": 0,
  "metadata": {
    "colab": {
      "provenance": [],
      "gpuType": "T4"
    },
    "kernelspec": {
      "name": "python3",
      "display_name": "Python 3"
    },
    "language_info": {
      "name": "python"
    },
    "accelerator": "GPU"
  },
  "cells": [
    {
      "cell_type": "markdown",
      "source": [
        "# TITLE: Using GPUs in PyTorch\n"
      ],
      "metadata": {
        "id": "uXw92OqJTmqa"
      }
    },
    {
      "cell_type": "markdown",
      "source": [
        "## Imports"
      ],
      "metadata": {
        "id": "LdPbWWvqS6sj"
      }
    },
    {
      "cell_type": "code",
      "execution_count": null,
      "metadata": {
        "id": "X5gh3PmhS37T"
      },
      "outputs": [],
      "source": [
        "import torch\n",
        "import time\n",
        "import matplotlib.pyplot as plt"
      ]
    },
    {
      "cell_type": "markdown",
      "source": [
        "## GPU Availability and Device Setting\n"
      ],
      "metadata": {
        "id": "XN2UiH0WT5zL"
      }
    },
    {
      "cell_type": "code",
      "source": [
        "# Check if a CUDA-enabled GPU is available\n",
        "if torch.cuda.is_available():\n",
        "    device = torch.device('cuda')\n",
        "    print(f\"GPU is available. Using GPU: {torch.cuda.get_device_name(0)}\")\n",
        "else:\n",
        "    device = torch.device('cpu')\n",
        "    print(\"GPU is not available. Using CPU.\")"
      ],
      "metadata": {
        "colab": {
          "base_uri": "https://localhost:8080/"
        },
        "id": "N4Ws9ojuT78Z",
        "outputId": "22d9255e-8c7a-45dc-c8eb-ad0682b09a69"
      },
      "execution_count": null,
      "outputs": [
        {
          "output_type": "stream",
          "name": "stdout",
          "text": [
            "GPU is available. Using GPU: Tesla T4\n"
          ]
        }
      ]
    },
    {
      "cell_type": "markdown",
      "source": [
        "## Moving Tensors Between Devices\n"
      ],
      "metadata": {
        "id": "2as-8I3UT-Vx"
      }
    },
    {
      "cell_type": "code",
      "source": [
        "# Create a tensor (it will be on CPU by default)\n",
        "tensor_cpu = torch.tensor([1, 2, 3])\n",
        "print(f\"Tensor created on: {tensor_cpu.device}\")\n",
        "\n",
        "# Move the tensor to the selected device (GPU if available, otherwise CPU)\n",
        "tensor_on_device = tensor_cpu.to(device)\n",
        "print(f\"Tensor moved to: {tensor_on_device.device}\")\n",
        "\n",
        "# If the tensor is on GPU, we can move it back to CPU\n",
        "if tensor_on_device.device.type == 'cuda':\n",
        "    tensor_back_to_cpu = tensor_on_device.to('cpu')\n",
        "    print(f\"Tensor moved back to: {tensor_back_to_cpu.device}\")"
      ],
      "metadata": {
        "colab": {
          "base_uri": "https://localhost:8080/"
        },
        "id": "JXEltRtNT_eL",
        "outputId": "bdb0ac80-3e54-4c55-a908-d9cadc24c706"
      },
      "execution_count": null,
      "outputs": [
        {
          "output_type": "stream",
          "name": "stdout",
          "text": [
            "Tensor created on: cpu\n",
            "Tensor moved to: cuda:0\n",
            "Tensor moved back to: cpu\n"
          ]
        }
      ]
    },
    {
      "cell_type": "markdown",
      "source": [
        "## Device Consistency for Operations\n"
      ],
      "metadata": {
        "id": "0cmV8vCEUBPv"
      }
    },
    {
      "cell_type": "code",
      "source": [
        "tensor_a_cpu = torch.tensor([1.0, 2.0, 3.0], device='cpu')\n",
        "# tensor_b_device will be created on the 'device' determined earlier (CPU or GPU)\n",
        "tensor_b_device = torch.tensor([4.0, 5.0, 6.0]).to(device)\n",
        "\n",
        "print(f\"tensor_a_cpu is on: {tensor_a_cpu.device}\")\n",
        "print(f\"tensor_b_device is on: {tensor_b_device.device}\")\n",
        "\n",
        "try:\n",
        "    # This will cause an error if tensor_a_cpu and tensor_b_device are on different devices\n",
        "    # (i.e., if 'device' is 'cuda')\n",
        "    result_mixed = tensor_a_cpu + tensor_b_device\n",
        "    print(f\"\\nSum of tensors (mixed devices attempt succeeded): {result_mixed}\")\n",
        "    if tensor_a_cpu.device == tensor_b_device.device:\n",
        "        print(\"This succeeded because both tensors were already on the same device (CPU).\")\n",
        "except RuntimeError as e:\n",
        "    print(f\"\\nError during mixed device operation: {e}\")\n",
        "    print(\"This error occurred because the tensors are on different devices (CPU and GPU).\")\n",
        "\n",
        "# To fix this, ensure both tensors are on the same device before the operation:\n",
        "print(\"\\nFixing the device mismatch (if any) by ensuring tensor_a is on the target device:\")\n",
        "tensor_a_on_target_device = tensor_a_cpu.to(device) # Move tensor_a_cpu to the same device as tensor_b_device\n",
        "print(f\"tensor_a_cpu (now tensor_a_on_target_device) is on: {tensor_a_on_target_device.device}\")\n",
        "\n",
        "# Now the operation will succeed\n",
        "result_same_device = tensor_a_on_target_device + tensor_b_device\n",
        "print(f\"Sum of tensors (both on device '{device}'): {result_same_device}\")\n",
        "print(f\"Result tensor is on: {result_same_device.device}\")"
      ],
      "metadata": {
        "colab": {
          "base_uri": "https://localhost:8080/"
        },
        "id": "thQ2C-xeUBod",
        "outputId": "a3ec1c44-92eb-4184-b507-25f91388a2b9"
      },
      "execution_count": null,
      "outputs": [
        {
          "output_type": "stream",
          "name": "stdout",
          "text": [
            "tensor_a_cpu is on: cpu\n",
            "tensor_b_device is on: cuda:0\n",
            "\n",
            "Error during mixed device operation: Expected all tensors to be on the same device, but found at least two devices, cuda:0 and cpu!\n",
            "This error occurred because the tensors are on different devices (CPU and GPU).\n",
            "\n",
            "Fixing the device mismatch (if any) by ensuring tensor_a is on the target device:\n",
            "tensor_a_cpu (now tensor_a_on_target_device) is on: cuda:0\n",
            "Sum of tensors (both on device 'cuda'): tensor([5., 7., 9.], device='cuda:0')\n",
            "Result tensor is on: cuda:0\n"
          ]
        }
      ]
    },
    {
      "cell_type": "markdown",
      "source": [
        "## CPU vs GPU Matrix Multiplication Benchmark\n"
      ],
      "metadata": {
        "id": "W0qHFbrBUEWq"
      }
    },
    {
      "cell_type": "code",
      "source": [
        "size = 2000  # Size of the square matrices (e.g., 2000x2000)\n",
        "\n",
        "# Create two large matrices for CPU computation\n",
        "matrix1_cpu = torch.randn(size, size, device='cpu')\n",
        "matrix2_cpu = torch.randn(size, size, device='cpu')\n",
        "\n",
        "# CPU benchmark\n",
        "print(f\"\\nStarting CPU benchmark for {size}x{size} matrix multiplication...\")\n",
        "start_time_cpu = time.time()\n",
        "result_cpu = torch.matmul(matrix1_cpu, matrix2_cpu)\n",
        "end_time_cpu = time.time()\n",
        "cpu_time = end_time_cpu - start_time_cpu\n",
        "print(f\"CPU time: {cpu_time:.4f} seconds\")\n",
        "\n",
        "# GPU benchmark (only if GPU is available)\n",
        "gpu_time = float('inf')  # Initialize with a high value\n",
        "\n",
        "if device.type == 'cuda':\n",
        "    print(f\"\\nStarting GPU benchmark for {size}x{size} matrix multiplication on {torch.cuda.get_device_name(0)}...\")\n",
        "    # Create matrices directly on the GPU for a fair comparison of compute time\n",
        "    # (Alternatively, one could move existing CPU matrices, which would include transfer time)\n",
        "    matrix1_gpu = torch.randn(size, size, device=device)\n",
        "    matrix2_gpu = torch.randn(size, size, device=device)\n",
        "\n",
        "    # Warm-up GPU (optional, but can give more stable timings for the first timed operation)\n",
        "    # _ = torch.matmul(matrix1_gpu, matrix2_gpu)\n",
        "    # torch.cuda.synchronize()\n",
        "\n",
        "    # Ensure all previous CUDA operations are done before starting the timer\n",
        "    torch.cuda.synchronize()\n",
        "    start_time_gpu = time.time()\n",
        "    result_gpu = torch.matmul(matrix1_gpu, matrix2_gpu)\n",
        "    # Wait for the GPU operation to complete before stopping the timer\n",
        "    torch.cuda.synchronize()\n",
        "    end_time_gpu = time.time()\n",
        "    gpu_time = end_time_gpu - start_time_gpu\n",
        "    print(f\"GPU time: {gpu_time:.4f} seconds\")\n",
        "\n",
        "    # Optional: Verify results are close (they might not be exactly identical due to floating point arithmetic differences)\n",
        "    # print(f\"Are CPU and GPU results close? {torch.allclose(result_cpu.to(device), result_gpu, atol=1e-5)}\")\n",
        "else:\n",
        "    print(\"\\nGPU benchmark skipped as GPU is not available.\")"
      ],
      "metadata": {
        "colab": {
          "base_uri": "https://localhost:8080/"
        },
        "id": "YDh-zSZOUEv8",
        "outputId": "ddcb8f92-52f3-4c84-a4a4-20dc7f2f9f6f"
      },
      "execution_count": null,
      "outputs": [
        {
          "output_type": "stream",
          "name": "stdout",
          "text": [
            "\n",
            "Starting CPU benchmark for 2000x2000 matrix multiplication...\n",
            "CPU time: 0.5448 seconds\n",
            "\n",
            "Starting GPU benchmark for 2000x2000 matrix multiplication on Tesla T4...\n",
            "GPU time: 0.3148 seconds\n"
          ]
        }
      ]
    },
    {
      "cell_type": "markdown",
      "source": [
        "## Visualizing Benchmark Results\n"
      ],
      "metadata": {
        "id": "nDRuh1ccUHWG"
      }
    },
    {
      "cell_type": "code",
      "source": [
        "labels = ['CPU']\n",
        "times = [cpu_time]\n",
        "colors = ['blue']\n",
        "\n",
        "if device.type == 'cuda' and gpu_time != float('inf') and gpu_time > 0: # Check gpu_time > 0 to avoid division by zero\n",
        "    labels.append('GPU')\n",
        "    times.append(gpu_time)\n",
        "    colors.append('green') # Assign a specific color for GPU\n",
        "    print(f\"\\nSpeedup with GPU: {cpu_time / gpu_time:.2f}x\")\n",
        "elif device.type == 'cuda' and (gpu_time == float('inf') or gpu_time <= 0) :\n",
        "    print(\"\\nGPU benchmark ran, but a valid positive time was not recorded. Cannot calculate speedup.\")\n",
        "else: # GPU not available or benchmark not run\n",
        "    print(\"\\nGPU not used for benchmark, so no speedup comparison.\")\n",
        "\n",
        "\n",
        "plt.figure(figsize=(8, 6))\n",
        "bars = plt.bar(labels, times, color=colors) # Use the defined colors list\n",
        "plt.ylabel('Time (seconds)')\n",
        "plt.title(f'Matrix Multiplication Benchmark ({size}x{size})')\n",
        "\n",
        "# Add text labels on top of bars\n",
        "for bar in bars:\n",
        "    yval = bar.get_height()\n",
        "    plt.text(bar.get_x() + bar.get_width()/2.0, yval, f'{yval:.4f}s', va='bottom', ha='center')\n",
        "\n",
        "plt.show()"
      ],
      "metadata": {
        "colab": {
          "base_uri": "https://localhost:8080/",
          "height": 581
        },
        "id": "kp9usKlkUHuT",
        "outputId": "2650300e-1cf6-443a-8dd5-5b49a23521e3"
      },
      "execution_count": null,
      "outputs": [
        {
          "output_type": "stream",
          "name": "stdout",
          "text": [
            "\n",
            "Speedup with GPU: 1.73x\n"
          ]
        },
        {
          "output_type": "display_data",
          "data": {
            "text/plain": [
              "<Figure size 800x600 with 1 Axes>"
            ],
            "image/png": "[encoded data removed]"
          },
          "metadata": {}
        }
      ]
    }
  ]
}