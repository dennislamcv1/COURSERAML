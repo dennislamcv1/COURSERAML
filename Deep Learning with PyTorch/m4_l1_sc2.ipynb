{
  "nbformat": 4,
  "nbformat_minor": 0,
  "metadata": {
    "colab": {
      "provenance": []
    },
    "kernelspec": {
      "name": "python3",
      "display_name": "Python 3"
    },
    "language_info": {
      "name": "python"
    }
  },
  "cells": [
    {
      "cell_type": "markdown",
      "source": [
        "# Using L2 Regularization with Weight Decay"
      ],
      "metadata": {
        "id": "BgdI_IKFdSr2"
      }
    },
    {
      "cell_type": "markdown",
      "source": [
        "## Step 1: Setting Up the Environment\n"
      ],
      "metadata": {
        "id": "yYuqztM5dSkU"
      }
    },
    {
      "cell_type": "code",
      "execution_count": null,
      "metadata": {
        "colab": {
          "base_uri": "https://localhost:8080/"
        },
        "id": "9mxBKmN3biqL",
        "outputId": "9ee9f4cd-09a0-47ef-b19f-9a44727544d7"
      },
      "outputs": [
        {
          "output_type": "stream",
          "name": "stdout",
          "text": [
            "Using device: cpu\n"
          ]
        }
      ],
      "source": [
        "import torch\n",
        "import torch.nn as nn\n",
        "import torch.optim as optim\n",
        "from torch.utils.data import DataLoader, TensorDataset\n",
        "\n",
        "# Set a seed for reproducibility\n",
        "torch.manual_seed(42)\n",
        "\n",
        "# Determine the device to run the model on\n",
        "device = torch.device(\"cuda\" if torch.cuda.is_available() else \"cpu\")\n",
        "print(f\"Using device: {device}\")"
      ]
    },
    {
      "cell_type": "markdown",
      "source": [
        "## Step 2: Defining a Neural Network\n"
      ],
      "metadata": {
        "id": "3yXxI4uldW5W"
      }
    },
    {
      "cell_type": "code",
      "source": [
        "class SimpleNN(nn.Module):\n",
        "    def __init__(self, input_size=784, hidden_size1=128, hidden_size2=64, num_classes=10):\n",
        "        super(SimpleNN, self).__init__()\n",
        "        self.fc1 = nn.Linear(input_size, hidden_size1)\n",
        "        self.fc2 = nn.Linear(hidden_size1, hidden_size2)\n",
        "        self.fc3 = nn.Linear(hidden_size2, num_classes)\n",
        "\n",
        "    def forward(self, x):\n",
        "        # Assuming x might be 2D image data, flatten it\n",
        "        # For example, input of shape (batch_size, 28, 28) or (batch_size, 1, 28, 28)\n",
        "        # If data is already flat (batch_size, 784), this line is still safe.\n",
        "        x = x.view(x.size(0), -1)\n",
        "\n",
        "        x = torch.relu(self.fc1(x))\n",
        "        x = torch.relu(self.fc2(x))\n",
        "        x = self.fc3(x) # No softmax here, as CrossEntropyLoss will apply it\n",
        "        return x"
      ],
      "metadata": {
        "id": "MOqwV2i4dXJU"
      },
      "execution_count": null,
      "outputs": []
    },
    {
      "cell_type": "markdown",
      "source": [
        "## Step 3: Preparing Dummy Data\n"
      ],
      "metadata": {
        "id": "VA_mOB2QdhY9"
      }
    },
    {
      "cell_type": "code",
      "source": [
        "# Parameters for dummy data\n",
        "num_samples = 1000\n",
        "batch_size = 64\n",
        "input_features = 784  # e.g., 28x28 images flattened\n",
        "num_classes = 10\n",
        "\n",
        "# Create dummy data and move to the selected device\n",
        "dummy_inputs = torch.randn(num_samples, input_features, device=device)\n",
        "dummy_labels = torch.randint(0, num_classes, (num_samples,), device=device)\n",
        "\n",
        "# Create a DataLoader\n",
        "train_dataset = TensorDataset(dummy_inputs, dummy_labels)\n",
        "train_loader = DataLoader(dataset=train_dataset, batch_size=batch_size, shuffle=True)"
      ],
      "metadata": {
        "id": "mmd3Hp5BdizD"
      },
      "execution_count": null,
      "outputs": []
    },
    {
      "cell_type": "markdown",
      "source": [
        "## Step 4: Incorporating Weight Decay into the Optimizer\n"
      ],
      "metadata": {
        "id": "IpzjHFofdmWI"
      }
    },
    {
      "cell_type": "code",
      "source": [
        "# --- Hyperparameters ---\n",
        "learning_rate = 0.01\n",
        "weight_decay_lambda = 1e-4\n",
        "\n",
        "# Instantiate the model and move it to the device\n",
        "model = SimpleNN(input_size=input_features, num_classes=num_classes).to(device)\n",
        "\n",
        "# Optimizer with weight decay\n",
        "optimizer = optim.Adam(model.parameters(), lr=learning_rate, weight_decay=weight_decay_lambda)"
      ],
      "metadata": {
        "id": "N323x6YPdoFV"
      },
      "execution_count": null,
      "outputs": []
    },
    {
      "cell_type": "markdown",
      "source": [
        "## Step 5: Training the Model with L2 Regularization\n"
      ],
      "metadata": {
        "id": "_7M4Ws5TdtyK"
      }
    },
    {
      "cell_type": "code",
      "source": [
        "num_epochs = 10\n",
        "criterion = nn.CrossEntropyLoss()\n",
        "\n",
        "model.train() # Set the model to training mode\n",
        "\n",
        "for epoch in range(num_epochs):\n",
        "    epoch_loss = 0.0\n",
        "    num_batches = 0\n",
        "    for inputs, labels in train_loader:\n",
        "        # Data is already on the device if created there.\n",
        "        # If data loader loads from disk, inputs and labels would need .to(device)\n",
        "        # inputs, labels = inputs.to(device), labels.to(device) # Already handled by creating tensors on device\n",
        "\n",
        "        # Forward pass\n",
        "        outputs = model(inputs)\n",
        "        loss = criterion(outputs, labels)\n",
        "\n",
        "        # Backward pass and optimization\n",
        "        optimizer.zero_grad()\n",
        "        loss.backward()\n",
        "        optimizer.step()\n",
        "\n",
        "        epoch_loss += loss.item()\n",
        "        num_batches += 1\n",
        "\n",
        "    avg_epoch_loss = epoch_loss / num_batches\n",
        "    # The print statement now shows average loss for the epoch\n",
        "    print(f'Epoch [{epoch+1}/{num_epochs}]: Loss with weight decay - {avg_epoch_loss:.4f}')\n",
        "\n",
        "# (Optional) To compare, you would train another model instance\n",
        "# with an optimizer that has weight_decay=0 (or not set).\n",
        "# model_no_wd = SimpleNN(input_size=input_features, num_classes=num_classes).to(device)\n",
        "# optimizer_no_wd = optim.Adam(model_no_wd.parameters(), lr=learning_rate)\n",
        "# Then train model_no_wd similarly and compare validation performance."
      ],
      "metadata": {
        "colab": {
          "base_uri": "https://localhost:8080/"
        },
        "id": "pydLpH4Adu9L",
        "outputId": "8529993a-ac3c-4d61-e5da-7c62dbcf6d48"
      },
      "execution_count": null,
      "outputs": [
        {
          "output_type": "stream",
          "name": "stdout",
          "text": [
            "Epoch [1/10]: Loss with weight decay - 2.3302\n",
            "Epoch [2/10]: Loss with weight decay - 1.5571\n",
            "Epoch [3/10]: Loss with weight decay - 0.5145\n",
            "Epoch [4/10]: Loss with weight decay - 0.1600\n",
            "Epoch [5/10]: Loss with weight decay - 0.0765\n",
            "Epoch [6/10]: Loss with weight decay - 0.0334\n",
            "Epoch [7/10]: Loss with weight decay - 0.0420\n",
            "Epoch [8/10]: Loss with weight decay - 0.0286\n",
            "Epoch [9/10]: Loss with weight decay - 0.0212\n",
            "Epoch [10/10]: Loss with weight decay - 0.0266\n"
          ]
        }
      ]
    }
  ]
}